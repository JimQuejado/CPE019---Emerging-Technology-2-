{
  "nbformat": 4,
  "nbformat_minor": 0,
  "metadata": {
    "kernelspec": {
      "display_name": "Python 3",
      "language": "python",
      "name": "python3"
    },
    "language_info": {
      "codemirror_mode": {
        "name": "ipython",
        "version": 3
      },
      "file_extension": ".py",
      "mimetype": "text/x-python",
      "name": "python",
      "nbconvert_exporter": "python",
      "pygments_lexer": "ipython3",
      "version": "3.7.7"
    },
    "colab": {
      "provenance": []
    },
    "accelerator": "GPU"
  },
  "cells": [
    {
      "cell_type": "markdown",
      "metadata": {
        "id": "WUQHSYAH8A15"
      },
      "source": [
        "\n",
        "| <h1> Activity 1.1 </h1> | <h1> Python Challenge </h1> |\n",
        "|--- | --- |\n",
        "Name: QUEJADO, JIMLORD M.\n",
        "Course and Section: CPE019S3 <br>\n",
        "Date Submitted: 1-24-2024\n",
        "Instructor: Engr. Roman Richard\n",
        "Date Performed: 1 -24 -2024\n",
        "Date Submitted 1- 24-2024\n",
        "\n",
        "<hr>\n",
        "\n",
        "**Instructions**: Answer the questions or complete the tasks outlined below, use the specific method described if applicable. Insert a code cell after each text cell.\n",
        "\n",
        "**Objectives:**\n",
        "- Test understanding of Python basics\n",
        "- Review Python basic to intermediate commands\n",
        "\n",
        "<hr>"
      ]
    },
    {
      "cell_type": "markdown",
      "metadata": {
        "id": "-7dT6HEt8A1_"
      },
      "source": [
        "1. What is 3 to the power of 5?"
      ]
    },
    {
      "cell_type": "code",
      "source": [
        " x = 3**5\n",
        "\n",
        " print(x)"
      ],
      "metadata": {
        "id": "CiAIi_wlM23B",
        "colab": {
          "base_uri": "https://localhost:8080/"
        },
        "outputId": "25c9a873-59f8-4621-949c-77edd9431eac"
      },
      "execution_count": null,
      "outputs": [
        {
          "output_type": "stream",
          "name": "stdout",
          "text": [
            "243\n"
          ]
        }
      ]
    },
    {
      "cell_type": "markdown",
      "metadata": {
        "id": "TpUg2QaM8A2C"
      },
      "source": [
        "2.  Create a variable, s, containing the string \"This course is amazing!\". Using the variable, split the string into a list."
      ]
    },
    {
      "cell_type": "code",
      "source": [
        "s = \"This course is amazing!\"\n",
        "s.split()"
      ],
      "metadata": {
        "id": "AmSwowsTCUwA",
        "outputId": "9e458fc3-c77f-4665-ba29-dddbdfd6ead4",
        "colab": {
          "base_uri": "https://localhost:8080/"
        }
      },
      "execution_count": null,
      "outputs": [
        {
          "output_type": "execute_result",
          "data": {
            "text/plain": [
              "['This', 'course', 'is', 'amazing!']"
            ]
          },
          "metadata": {},
          "execution_count": 2
        }
      ]
    },
    {
      "cell_type": "markdown",
      "metadata": {
        "id": "B3yPY5pD8A2D"
      },
      "source": [
        "3.  Given the variables height and mountain, use .format() to print the following string:\n",
        "`The height of Mt. Everest is 8848 meters.`"
      ]
    },
    {
      "cell_type": "code",
      "source": [
        "msg = \"The height {mountain} is {height} meters\"\n",
        "\n",
        "input = msg.format(mountain = \"mt. everest\", height= 88823)\n",
        "print(input)"
      ],
      "metadata": {
        "colab": {
          "base_uri": "https://localhost:8080/"
        },
        "id": "abUeVrVRdXaa",
        "outputId": "b0a8ec30-6da3-4972-f56b-00718374b184"
      },
      "execution_count": null,
      "outputs": [
        {
          "output_type": "stream",
          "name": "stdout",
          "text": [
            "The height mt. everest is 88823 meters\n"
          ]
        }
      ]
    },
    {
      "cell_type": "markdown",
      "metadata": {
        "id": "WPFy00ne8A2F"
      },
      "source": [
        "4. Given the following nested list, use indexing to grab the word \"this\".\n",
        "\n",
        "```\n",
        "lst = ['a','b',[4,10,11],['c',[1,66,['this']],2,111],'e',7]\n",
        "```"
      ]
    },
    {
      "cell_type": "code",
      "source": [
        "lst = ['a','b',[4,10,11],['c',[1,66,['this']],2,111],'e',7]\n",
        "\n",
        "var = lst[3][1][2]\n",
        "\n",
        "print(var)"
      ],
      "metadata": {
        "colab": {
          "base_uri": "https://localhost:8080/"
        },
        "id": "nF1_H4AXdxma",
        "outputId": "51f518eb-4507-4ad3-f6fe-2af819a8b480"
      },
      "execution_count": null,
      "outputs": [
        {
          "output_type": "stream",
          "name": "stdout",
          "text": [
            "['this']\n"
          ]
        }
      ]
    },
    {
      "cell_type": "markdown",
      "metadata": {
        "id": "cUA9kmWi8A2H"
      },
      "source": [
        "5. Given the following nested dictionary, grab the word \"that\". This exercise is a little more difficult.\n",
        "```\n",
        "d = {'k1':['val1','val2','val3',{'we':['need','to','go',{'deeper':[1,2,3,'that']}]}]}\n",
        "```"
      ]
    },
    {
      "cell_type": "code",
      "source": [
        "d = {'k1':['val1','val2','val3',{'we':['need','to','go',{'deeper':[1,2,3,'that']}]}]}\n",
        "\n",
        "\n",
        "var = d['k1'][3]['we'][3]['deeper'][3]\n",
        "\n",
        "print(var)"
      ],
      "metadata": {
        "colab": {
          "base_uri": "https://localhost:8080/"
        },
        "id": "llrVeCgXeIoZ",
        "outputId": "d3df317b-16c5-4ab9-cc4a-41e59b902610"
      },
      "execution_count": null,
      "outputs": [
        {
          "output_type": "stream",
          "name": "stdout",
          "text": [
            "that\n"
          ]
        }
      ]
    },
    {
      "cell_type": "markdown",
      "metadata": {
        "id": "-WrAu-KK8A2I"
      },
      "source": [
        "6. Create a function, GetDomain(), that grabs the email website domain from a string in the form: user@domain.com.\n",
        "So for example, passing \"user@domain.com\" would return: domain.com"
      ]
    },
    {
      "cell_type": "code",
      "source": [
        "def GetDomain(email):\n",
        "\n",
        "  msg = email.split('@')\n",
        "  domain= msg[1]\n",
        "  return domain\n",
        "\n",
        "email = \"jimquejado@gmail.com\"\n",
        "\n",
        "print(GetDomain(email))"
      ],
      "metadata": {
        "colab": {
          "base_uri": "https://localhost:8080/"
        },
        "id": "PKk27-qIeivj",
        "outputId": "eb8cba5c-518b-4f63-c595-3768f5cc9b30"
      },
      "execution_count": null,
      "outputs": [
        {
          "output_type": "stream",
          "name": "stdout",
          "text": [
            "gmail.com\n"
          ]
        }
      ]
    },
    {
      "cell_type": "markdown",
      "metadata": {
        "id": "Fx4DIIz18A2K"
      },
      "source": [
        "7. Create a basic function, findInternet(), that returns True if the word 'Internet' is contained in the input string. Don't worry about edge cases like punctuation being attached to the word, but account for capitalization. (Hint: Please see https://docs.python.org/2/reference/expressions.html#in)"
      ]
    },
    {
      "cell_type": "code",
      "source": [
        "def findInternet(data):\n",
        "\n",
        "  return 'Internet' in data\n",
        "\n",
        "\n",
        "data = \"ASDASDASDASD@gmail.com Internet\"\n",
        "\n",
        "print(findInternet(data))\n",
        "\n",
        "data = \"ASDASDASDASD@gmail.com internet\"\n",
        "\n",
        "print(findInternet(data))"
      ],
      "metadata": {
        "colab": {
          "base_uri": "https://localhost:8080/"
        },
        "id": "F7KXeFksfS3D",
        "outputId": "6a1e994f-c257-4327-da12-12588a4cd6d1"
      },
      "execution_count": null,
      "outputs": [
        {
          "output_type": "stream",
          "name": "stdout",
          "text": [
            "True\n",
            "False\n"
          ]
        }
      ]
    },
    {
      "cell_type": "markdown",
      "metadata": {
        "id": "4pPortmo8A2M"
      },
      "source": [
        "8. Create a function, countIoT(), that counts the number of times the word \"IoT\" occurs in a string. Ignore edge cases but take into account capitalization."
      ]
    },
    {
      "cell_type": "code",
      "source": [
        "def countIoT(data):\n",
        "\n",
        "  count = data.count('IoT')\n",
        "  return count\n",
        "\n",
        "data = \"ASDASDASDASD@gmail.com IoT  iot  IoT\"\n",
        "\n",
        "print(countIoT(data))\n"
      ],
      "metadata": {
        "colab": {
          "base_uri": "https://localhost:8080/"
        },
        "id": "-eZfD7pbgQCl",
        "outputId": "3f183e9a-b385-46f4-dd4d-022f0b6fe2b6"
      },
      "execution_count": null,
      "outputs": [
        {
          "output_type": "stream",
          "name": "stdout",
          "text": [
            "2\n"
          ]
        }
      ]
    },
    {
      "cell_type": "markdown",
      "metadata": {
        "id": "Hg-mqSUd8A2O"
      },
      "source": [
        "9. Use lambda expressions and the filter() function to filter out words from a list that do not start with the letter 'd'. For example:\n",
        "\n",
        "> Indented block\n",
        "\n",
        "\n",
        "```\n",
        "seq = ['data','salt' ,'dairy','cat', 'dog']\n",
        "```\n",
        "should be filtered down to:\n",
        "```\n",
        "['data', 'dairy', 'dog']\n",
        "```"
      ]
    },
    {
      "cell_type": "code",
      "source": [
        "seq = ['data','salt' ,'dairy','cat', 'dog']\n",
        "\n",
        "filtered = list(filter(lambda word: word.startswith('d'), seq))\n",
        "\n",
        "print(filtered)"
      ],
      "metadata": {
        "colab": {
          "base_uri": "https://localhost:8080/"
        },
        "id": "CWnaNK7Tg9Ol",
        "outputId": "ecebdbc7-bd9f-4715-f0de-d6cc1ce3fcf2"
      },
      "execution_count": null,
      "outputs": [
        {
          "output_type": "stream",
          "name": "stdout",
          "text": [
            "['data', 'dairy', 'dog']\n"
          ]
        }
      ]
    },
    {
      "cell_type": "markdown",
      "metadata": {
        "id": "i5HTJZtM8A2O"
      },
      "source": [
        "10. Use lambda expressions and the map() function to convert a list of words to upper case. For example:\n",
        "```\n",
        "seq = ['data','salt' ,'dairy','cat', 'dog']\n",
        "```\n",
        "should become:\n",
        "```\n",
        "['DATA', 'SALT', 'DAIRY', 'CAT', 'DOG']\n",
        "```"
      ]
    },
    {
      "cell_type": "code",
      "source": [
        "seq = ['data','salt' ,'dairy','cat', 'dog']\n",
        "\n",
        "filtered = list(map(lambda word: word.upper(), seq))\n",
        "\n",
        "print(filtered)"
      ],
      "metadata": {
        "colab": {
          "base_uri": "https://localhost:8080/"
        },
        "id": "PZlghOF8jhwZ",
        "outputId": "69e94bd7-a7c8-411a-8b80-07afc1ea6118"
      },
      "execution_count": null,
      "outputs": [
        {
          "output_type": "stream",
          "name": "stdout",
          "text": [
            "['DATA', 'SALT', 'DAIRY', 'CAT', 'DOG']\n"
          ]
        }
      ]
    },
    {
      "cell_type": "markdown",
      "metadata": {
        "id": "1t6lwmWv8A2Q"
      },
      "source": [
        "11. Imagine a smart thermostat that is connected to the door, so that it can detect, in addition to the temperature, when people enter or leave the house. <br><br>Write a function that, if the temperature is lower than 20 degrees Celsius, and there are people in the house (encoded as a boolean value to be passed as a parameter to the function), turns on the heating by returning the string \"Heating on\". When the temperature reaches 23 degrees or there are no people in the house, it returns the string \"Heating off\". When none of these conditions are met, the function returns \"Do nothing\"."
      ]
    },
    {
      "cell_type": "code",
      "source": [
        "def smart_thermo(temp, people):\n",
        "\n",
        "  if temp < 20 and people is True:\n",
        "    print('Heating On')\n",
        "  elif temp >= 23 and people is True or people is False:\n",
        "    print('Do Nothing')\n",
        "\n",
        "#smart_thermo(16, True)\n",
        "\n",
        "smart_thermo(16, False)"
      ],
      "metadata": {
        "colab": {
          "base_uri": "https://localhost:8080/"
        },
        "id": "JoLHSnQmiDcu",
        "outputId": "5a35c2b2-6a45-468b-8743-6334925426f7"
      },
      "execution_count": null,
      "outputs": [
        {
          "output_type": "stream",
          "name": "stdout",
          "text": [
            "Do Nothing\n"
          ]
        }
      ]
    },
    {
      "cell_type": "markdown",
      "metadata": {
        "id": "HvZXBwvn8A2S"
      },
      "source": [
        "12. The function zip(list1, list2) returns a list of tuples, where the i-th tuple contains the i-th element from each of the argument lists. Use the zip function to create the following list of tuples: <br>\n",
        "```\n",
        "zipped = [('Parking', -1), ('Shops',0), ('Food Court',1), ('Offices',2)]\n",
        "```"
      ]
    },
    {
      "cell_type": "code",
      "metadata": {
        "id": "BmMSb6ys8A2T",
        "colab": {
          "base_uri": "https://localhost:8080/"
        },
        "outputId": "ee731dc1-7650-4ac0-bb96-6cebae8b7454"
      },
      "source": [
        "# Code cell 13\n",
        "floor_types = ['Parking', 'Shops', 'Food Court', 'Offices']\n",
        "floor_numbers = range(-1,3)\n",
        "zipped = list(zip(floor_types, floor_numbers))\n",
        "print(zipped)"
      ],
      "execution_count": null,
      "outputs": [
        {
          "output_type": "stream",
          "name": "stdout",
          "text": [
            "[('Parking', -1), ('Shops', 0), ('Food Court', 1), ('Offices', 2)]\n"
          ]
        }
      ]
    },
    {
      "cell_type": "markdown",
      "metadata": {
        "id": "I25Wddbt8A2U"
      },
      "source": [
        "13. Use the zip function and dict() to create a dictionary, elevator_dict, where the keys are the floor types and the values are the corresponding floor number so that:<br>\n",
        "```\n",
        "elevator_dict[-1] = 'Parking'\n",
        "```"
      ]
    },
    {
      "cell_type": "code",
      "metadata": {
        "id": "aalDO_TQ8A2U",
        "colab": {
          "base_uri": "https://localhost:8080/"
        },
        "outputId": "a91a06cd-cb34-46ee-a24d-ac85621b3ed4"
      },
      "source": [
        "# Code cell 14\n",
        "floor_types = ['Parking', 'Shops', 'Food Court', 'Offices']\n",
        "floors_numbers = range(-1,3)\n",
        "elevator_dict = dict(zip(floor_numbers, floor_types))\n",
        "print(elevator_dict)"
      ],
      "execution_count": null,
      "outputs": [
        {
          "output_type": "stream",
          "name": "stdout",
          "text": [
            "{-1: 'Parking', 0: 'Shops', 1: 'Food Court', 2: 'Offices'}\n"
          ]
        }
      ]
    },
    {
      "cell_type": "code",
      "metadata": {
        "id": "qExH72Zv8A2V",
        "colab": {
          "base_uri": "https://localhost:8080/",
          "height": 35
        },
        "outputId": "33cc66db-1a8d-4284-925e-1e98ccd67b3d"
      },
      "source": [
        "# Code cell 15\n",
        "# Verify elevator_dict[-1]\n",
        "elevator_dict[-1]"
      ],
      "execution_count": null,
      "outputs": [
        {
          "output_type": "execute_result",
          "data": {
            "text/plain": [
              "'Parking'"
            ],
            "application/vnd.google.colaboratory.intrinsic+json": {
              "type": "string"
            }
          },
          "metadata": {},
          "execution_count": 49
        }
      ]
    },
    {
      "cell_type": "markdown",
      "metadata": {
        "id": "DXXKXxFv8A2V"
      },
      "source": [
        "14. Create an Elevator class. The constructor accepts the list of strings floor_types and the list of integers floor_numbers. The class implements the methods 'ask_which_floor' and 'go_to_floor'. The output of this methods should look as follows:\n",
        "```\n",
        "floor_types = ['Parking', 'Shops', 'Food Court', 'Offices']\n",
        "floors_numbers = range(-1,4)\n",
        "el = Elevator(floor_numbers, floor_types)\n",
        "el.go_to_floor(1)\n",
        "Going to Food Court floor!\n",
        "el.go_to_floor(-2)\n",
        "There is floor number -2 in this building.\n",
        "el.ask_which_floor('Offices')\n",
        "The floor Offices is the number: 2\n",
        "el.ask_which_floor('Swimming Pool')\n",
        "There is no Swimming Pool floor in this building.\n",
        "```"
      ]
    },
    {
      "cell_type": "code",
      "source": [
        "class elevator(object):\n",
        "\n",
        "  def __init__(self, floor_types, floor_numbers):\n",
        "    self.floor_types = floor_types\n",
        "    self.floor_numbers = floor_numbers\n",
        "    self.numToType= dict(zip(floor_numbers, floor_types))\n",
        "    self.typeToNum= dict(zip(floor_types,floor_numbers))\n",
        "    print(self.numToType)\n",
        "\n",
        "  def ask_which_floor(self, dest):\n",
        "\n",
        "    self.floor_type = dest\n",
        "    print(self.floor_type)\n",
        "    if self.floor_type in self.floor_types:\n",
        "      x = self.typeToNum[self.floor_type]\n",
        "      print(f\"There floor office is the number:{x} \")\n",
        "      return x\n",
        "\n",
        "    else:\n",
        "      print(f\"There is no {self.floor_type} in this building!\")\n",
        "\n",
        "  def go_to_floor(self, Num_dest):\n",
        "\n",
        "    self.floor_num = Num_dest\n",
        "    print(self.floor_num)\n",
        "    if self.floor_num in self.floor_numbers:\n",
        "      x = self.numToType[self.floor_num]\n",
        "      print(f\"Going to {x} \")\n",
        "      return x\n",
        "\n",
        "    else:\n",
        "      print(f\"There is no {self.floor_num} floor in this building!\")\n",
        "\n",
        "\n",
        "floor_types = ['Parking', 'Shops', 'Food Court', 'Offices']\n",
        "floors_numbers = range(-1,4)\n",
        "\n",
        "\n",
        "el = elevator(floor_types, floor_numbers) #object\n",
        "\n",
        "#valid\n",
        "el.ask_which_floor('Food Court')\n",
        "el.go_to_floor(1)\n",
        "\n",
        "#Invalid\n",
        "el.ask_which_floor('Pool')\n",
        "el.go_to_floor(10)\n"
      ],
      "metadata": {
        "colab": {
          "base_uri": "https://localhost:8080/"
        },
        "id": "QIeRJjALkmxY",
        "outputId": "22291472-8f31-4286-c721-e038bf209ef8"
      },
      "execution_count": null,
      "outputs": [
        {
          "output_type": "stream",
          "name": "stdout",
          "text": [
            "{-1: 'Parking', 0: 'Shops', 1: 'Food Court', 2: 'Offices'}\n",
            "Food Court\n",
            "There floor office is the number:1 \n",
            "1\n",
            "Going to Food Court \n",
            "Pool\n",
            "There is no Pool in this building!\n",
            "10\n",
            "There is no 10 floor in this building!\n"
          ]
        }
      ]
    },
    {
      "cell_type": "markdown",
      "metadata": {
        "id": "a--gPBSR8A2Z"
      },
      "source": [
        "### Good Job!"
      ]
    }
  ]
}

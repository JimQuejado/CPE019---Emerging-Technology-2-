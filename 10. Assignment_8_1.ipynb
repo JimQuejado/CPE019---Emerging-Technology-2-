{
  "nbformat": 4,
  "nbformat_minor": 0,
  "metadata": {
    "colab": {
      "provenance": [],
      "toc_visible": true
    },
    "kernelspec": {
      "name": "python3",
      "display_name": "Python 3"
    },
    "language_info": {
      "name": "python"
    }
  },
  "cells": [
    {
      "cell_type": "markdown",
      "source": [
        "\n",
        "\n",
        "\n",
        "# **CPE019 : Saving Models**\n",
        "\n",
        "\n",
        "---\n",
        "\n",
        "\n",
        "**Name:** QUEJADO,  Jimlord M. <br>\n",
        "**Course and Section:** CPE019-CPE32S3 <br>\n",
        "**Date of Submission**: April 16, 2024<br>\n",
        "**Instructor:** Engr. Roman Richard<br>\n",
        "\n",
        "---\n",
        "\n"
      ],
      "metadata": {
        "id": "Dx0a7rcfK25N"
      }
    },
    {
      "cell_type": "markdown",
      "source": [
        "# **About The Data**:"
      ],
      "metadata": {
        "id": "M4BdjWB3K9_S"
      }
    },
    {
      "cell_type": "markdown",
      "source": [
        "## **Raisin Data Set**\n",
        "\n",
        "\n",
        "Images of the Kecimen and Besni raisin varieties were captured using a CVS (Computer Vision System) that was donated on August 13,2023. A total of 900 raisins were utilized, **evenly split with 450 from each variety**. Subsequently, 7 distinct morphological features were extracted from these raisins. This features will be used to train the model inorder to predict the type of raisin. <br>\n",
        "\n",
        "**The data set has 2 classes**:  \n",
        "\n",
        "0: Kecimen <br>\n",
        "1: Besni\n",
        "\n",
        "**The features and description are as follows:**\n",
        "1. Area: Gives the number of pixels within the boundaries of the raisin.\n",
        "2. Perimeter: It measures the environment by calculating the distance between the boundaries of the raisin and the pixels around it.\n",
        "3. MajorAxisLength: Gives the length of the main axis, which is the longest line that can be drawn on the raisin.\n",
        "4. MinorAxisLength: Gives the length of the small axis, which is the shortest line that can be drawn on the raisin.\n",
        "5. Eccentricity: It gives a measure of the eccentricity of the ellipse, which has the same moments as raisins.\n",
        "6. ConvexArea: Gives the number of pixels of the smallest convex shell of the region formed by the raisin.\n",
        "7. Extent: Gives the ratio of the region formed by the raisin to the total pixels in the bounding box.\n",
        "\n",
        "\n",
        "---\n",
        "\n",
        "## **Dataset Characteristics**<br>\n",
        "\n",
        "- Multivariate<br>\n",
        "\n",
        "## **Subject Area**<br>\n",
        "- Biology<br>\n",
        "\n",
        "## **Associated Tasks**<br>\n",
        "- Classification<br>\n",
        "\n",
        "## **Feature Type**<br>\n",
        "- Real, Integer<br>\n",
        "\n",
        "## **\\# Instances**<br>\n",
        "- 900<br>\n",
        "\n",
        "## **\\# Features**<br>\n",
        "- 7<br>\n",
        "\n",
        "---\n",
        "\n",
        "## DOI\n",
        "- 10.24432/C5660T\n",
        "## Link\n",
        "- https://www.youtube.com/watch?v=_HZM0QiuUS8"
      ],
      "metadata": {
        "id": "KXsnwN-cm5Zc"
      }
    },
    {
      "cell_type": "markdown",
      "source": [
        "#Loading The Data\n",
        "\n",
        "In this section, the model was loaded via importing it using the ucimlrepo. The code fetched the code and split the features and target on X and y respectively."
      ],
      "metadata": {
        "id": "Y2TrUIarRsqZ"
      }
    },
    {
      "cell_type": "code",
      "execution_count": null,
      "metadata": {
        "colab": {
          "base_uri": "https://localhost:8080/"
        },
        "id": "YnRg-3K6Ky6M",
        "outputId": "d4d34158-76eb-494d-a9a3-185330688e29"
      },
      "outputs": [
        {
          "output_type": "stream",
          "name": "stdout",
          "text": [
            "Collecting ucimlrepo\n",
            "  Downloading ucimlrepo-0.0.6-py3-none-any.whl (8.0 kB)\n",
            "Installing collected packages: ucimlrepo\n",
            "Successfully installed ucimlrepo-0.0.6\n"
          ]
        }
      ],
      "source": [
        "!pip install ucimlrepo"
      ]
    },
    {
      "cell_type": "code",
      "source": [
        "from ucimlrepo import fetch_ucirepo\n",
        "\n",
        "# fetch dataset\n",
        "raisin = fetch_ucirepo(id=850)\n",
        "\n",
        "# data (as pandas dataframes)\n",
        "X = raisin.data.features\n",
        "y = raisin.data.targets\n",
        "\n",
        "# metadata\n",
        "print(raisin.metadata)\n",
        "\n",
        "# variable information\n",
        "print(raisin.variables)\n"
      ],
      "metadata": {
        "colab": {
          "base_uri": "https://localhost:8080/"
        },
        "id": "wcXbVAidMODf",
        "outputId": "ab99a061-3b55-4b70-af71-3de978d42f07"
      },
      "execution_count": null,
      "outputs": [
        {
          "output_type": "stream",
          "name": "stdout",
          "text": [
            "{'uci_id': 850, 'name': 'Raisin', 'repository_url': 'https://archive.ics.uci.edu/dataset/850/raisin', 'data_url': 'https://archive.ics.uci.edu/static/public/850/data.csv', 'abstract': 'Images of the Kecimen and Besni raisin varieties were obtained with CVS. A total of 900 raisins were used, including 450 from both varieties, and 7 morphological features were extracted.', 'area': 'Biology', 'tasks': ['Classification'], 'characteristics': ['Multivariate'], 'num_instances': 900, 'num_features': 7, 'feature_types': ['Real', 'Integer'], 'demographics': [], 'target_col': ['Class'], 'index_col': None, 'has_missing_values': 'no', 'missing_values_symbol': None, 'year_of_dataset_creation': 2020, 'last_updated': 'Fri Jan 05 2024', 'dataset_doi': '10.24432/C5660T', 'creators': ['İ̇lkay Çinar', 'Murat Koklu', 'Sakir Tasdemir'], 'intro_paper': {'title': 'Kuru Üzüm Tanelerinin Makine Görüşü ve Yapay Zeka Yöntemleri Kullanılarak Sınıflandırılması', 'authors': 'İ̇lkay Çinar, Murat Koklu, Sakir Tasdemir', 'published_in': 'Gazi Journal of Engineering Sciences', 'year': 2020, 'url': 'https://www.semanticscholar.org/paper/6e67a463c29bde6a78ead7a10508674e693b74f3', 'doi': None}, 'additional_info': {'summary': 'Images of Kecimen and Besni raisin varieties grown in Turkey were obtained with CVS. A total of 900 raisin grains were used, including 450 pieces from both varieties. These images were subjected to various stages of pre-processing and 7 morphological features were extracted. These features have been classified using three different artificial intelligence techniques.', 'purpose': None, 'funded_by': None, 'instances_represent': None, 'recommended_data_splits': None, 'sensitive_data': None, 'preprocessing_description': None, 'variable_info': '1.) Area: Gives the number of pixels within the boundaries of the raisin.\\n2.) Perimeter: It measures the environment by calculating the distance between the boundaries of the raisin and the pixels around it.\\n3.) MajorAxisLength: Gives the length of the main axis, which is the longest line that can be drawn on the raisin.\\n4.) MinorAxisLength: Gives the length of the small axis, which is the shortest line that can be drawn on the raisin.\\n5.) Eccentricity: It gives a measure of the eccentricity of the ellipse, which has the same moments as raisins.\\n6.) ConvexArea: Gives the number of pixels of the smallest convex shell of the region formed by the raisin.\\n7.) Extent: Gives the ratio of the region formed by the raisin to the total pixels in the bounding box.\\n8.) Class: Kecimen and Besni raisin.', 'citation': 'CINAR I., KOKLU M. and TASDEMIR S., (2020), Classification of Raisin Grains Using Machine Vision and Artificial Intelligence Methods. Gazi Journal of Engineering Sciences, vol. 6, no. 3, pp. 200-209, December, 2020. '}}\n",
            "              name     role         type demographic  \\\n",
            "0             Area  Feature      Integer        None   \n",
            "1  MajorAxisLength  Feature   Continuous        None   \n",
            "2  MinorAxisLength  Feature   Continuous        None   \n",
            "3     Eccentricity  Feature   Continuous        None   \n",
            "4       ConvexArea  Feature      Integer        None   \n",
            "5           Extent  Feature   Continuous        None   \n",
            "6        Perimeter  Feature   Continuous        None   \n",
            "7            Class   Target  Categorical        None   \n",
            "\n",
            "                                         description units missing_values  \n",
            "0  Gives the number of pixels within the boundari...  None             no  \n",
            "1  It measures the environment by calculating the...  None             no  \n",
            "2  Gives the length of the main axis, which is th...  None             no  \n",
            "3  Gives the length of the small axis, which is t...  None             no  \n",
            "4  It gives a measure of the eccentricity of the ...  None             no  \n",
            "5  Gives the number of pixels of the smallest con...  None             no  \n",
            "6  Gives the ratio of the region formed by the ra...  None             no  \n",
            "7                          Kecimen and Besni raisin.  None             no  \n"
          ]
        }
      ]
    },
    {
      "cell_type": "markdown",
      "source": [
        "# **Pre Processing of Data**\n",
        "\n",
        "In this section, the data was preprocessed inorder to prepare it for the model training. The following tasks were done:\n",
        "\n",
        "1. Understanding the data\n",
        "2. Coverting of target Variable\n",
        "3. Checking for Null Valies\n",
        "4. Checking for Outliers\n",
        "5. Standardization of Data\n",
        "6. Feature Selection"
      ],
      "metadata": {
        "id": "uxQhOeQ9Rot5"
      }
    },
    {
      "cell_type": "code",
      "source": [
        "import numpy as np\n",
        "import pandas as pd"
      ],
      "metadata": {
        "id": "9GfYbN6ZRroT"
      },
      "execution_count": null,
      "outputs": []
    },
    {
      "cell_type": "markdown",
      "source": [
        "#### Understanding the data\n",
        "\n",
        "Basic exploration of data was done in this section. the following tasks were performed:\n",
        "\n",
        "1. checking if the data is properly loaded using .head()\n",
        "2. checking the dimensions of the data frames\n",
        "3. checking the info of each columns\n",
        "4. Checking the unique values of the target variable"
      ],
      "metadata": {
        "id": "1_M2se-hSlEi"
      }
    },
    {
      "cell_type": "code",
      "source": [
        "X.head()"
      ],
      "metadata": {
        "colab": {
          "base_uri": "https://localhost:8080/",
          "height": 206
        },
        "id": "ip7sV6vXSeqS",
        "outputId": "5dccbdb3-bbfd-4c4b-c7ab-ebed198bd8bc"
      },
      "execution_count": null,
      "outputs": [
        {
          "output_type": "execute_result",
          "data": {
            "text/plain": [
              "    Area  MajorAxisLength  MinorAxisLength  Eccentricity  ConvexArea  \\\n",
              "0  87524       442.246011       253.291155      0.819738       90546   \n",
              "1  75166       406.690687       243.032436      0.801805       78789   \n",
              "2  90856       442.267048       266.328318      0.798354       93717   \n",
              "3  45928       286.540559       208.760042      0.684989       47336   \n",
              "4  79408       352.190770       290.827533      0.564011       81463   \n",
              "\n",
              "     Extent  Perimeter  \n",
              "0  0.758651   1184.040  \n",
              "1  0.684130   1121.786  \n",
              "2  0.637613   1208.575  \n",
              "3  0.699599    844.162  \n",
              "4  0.792772   1073.251  "
            ],
            "text/html": [
              "\n",
              "  <div id=\"df-cfd4739b-8ad7-4026-8fed-57539b07259e\" class=\"colab-df-container\">\n",
              "    <div>\n",
              "<style scoped>\n",
              "    .dataframe tbody tr th:only-of-type {\n",
              "        vertical-align: middle;\n",
              "    }\n",
              "\n",
              "    .dataframe tbody tr th {\n",
              "        vertical-align: top;\n",
              "    }\n",
              "\n",
              "    .dataframe thead th {\n",
              "        text-align: right;\n",
              "    }\n",
              "</style>\n",
              "<table border=\"1\" class=\"dataframe\">\n",
              "  <thead>\n",
              "    <tr style=\"text-align: right;\">\n",
              "      <th></th>\n",
              "      <th>Area</th>\n",
              "      <th>MajorAxisLength</th>\n",
              "      <th>MinorAxisLength</th>\n",
              "      <th>Eccentricity</th>\n",
              "      <th>ConvexArea</th>\n",
              "      <th>Extent</th>\n",
              "      <th>Perimeter</th>\n",
              "    </tr>\n",
              "  </thead>\n",
              "  <tbody>\n",
              "    <tr>\n",
              "      <th>0</th>\n",
              "      <td>87524</td>\n",
              "      <td>442.246011</td>\n",
              "      <td>253.291155</td>\n",
              "      <td>0.819738</td>\n",
              "      <td>90546</td>\n",
              "      <td>0.758651</td>\n",
              "      <td>1184.040</td>\n",
              "    </tr>\n",
              "    <tr>\n",
              "      <th>1</th>\n",
              "      <td>75166</td>\n",
              "      <td>406.690687</td>\n",
              "      <td>243.032436</td>\n",
              "      <td>0.801805</td>\n",
              "      <td>78789</td>\n",
              "      <td>0.684130</td>\n",
              "      <td>1121.786</td>\n",
              "    </tr>\n",
              "    <tr>\n",
              "      <th>2</th>\n",
              "      <td>90856</td>\n",
              "      <td>442.267048</td>\n",
              "      <td>266.328318</td>\n",
              "      <td>0.798354</td>\n",
              "      <td>93717</td>\n",
              "      <td>0.637613</td>\n",
              "      <td>1208.575</td>\n",
              "    </tr>\n",
              "    <tr>\n",
              "      <th>3</th>\n",
              "      <td>45928</td>\n",
              "      <td>286.540559</td>\n",
              "      <td>208.760042</td>\n",
              "      <td>0.684989</td>\n",
              "      <td>47336</td>\n",
              "      <td>0.699599</td>\n",
              "      <td>844.162</td>\n",
              "    </tr>\n",
              "    <tr>\n",
              "      <th>4</th>\n",
              "      <td>79408</td>\n",
              "      <td>352.190770</td>\n",
              "      <td>290.827533</td>\n",
              "      <td>0.564011</td>\n",
              "      <td>81463</td>\n",
              "      <td>0.792772</td>\n",
              "      <td>1073.251</td>\n",
              "    </tr>\n",
              "  </tbody>\n",
              "</table>\n",
              "</div>\n",
              "    <div class=\"colab-df-buttons\">\n",
              "\n",
              "  <div class=\"colab-df-container\">\n",
              "    <button class=\"colab-df-convert\" onclick=\"convertToInteractive('df-cfd4739b-8ad7-4026-8fed-57539b07259e')\"\n",
              "            title=\"Convert this dataframe to an interactive table.\"\n",
              "            style=\"display:none;\">\n",
              "\n",
              "  <svg xmlns=\"http://www.w3.org/2000/svg\" height=\"24px\" viewBox=\"0 -960 960 960\">\n",
              "    <path d=\"M120-120v-720h720v720H120Zm60-500h600v-160H180v160Zm220 220h160v-160H400v160Zm0 220h160v-160H400v160ZM180-400h160v-160H180v160Zm440 0h160v-160H620v160ZM180-180h160v-160H180v160Zm440 0h160v-160H620v160Z\"/>\n",
              "  </svg>\n",
              "    </button>\n",
              "\n",
              "  <style>\n",
              "    .colab-df-container {\n",
              "      display:flex;\n",
              "      gap: 12px;\n",
              "    }\n",
              "\n",
              "    .colab-df-convert {\n",
              "      background-color: #E8F0FE;\n",
              "      border: none;\n",
              "      border-radius: 50%;\n",
              "      cursor: pointer;\n",
              "      display: none;\n",
              "      fill: #1967D2;\n",
              "      height: 32px;\n",
              "      padding: 0 0 0 0;\n",
              "      width: 32px;\n",
              "    }\n",
              "\n",
              "    .colab-df-convert:hover {\n",
              "      background-color: #E2EBFA;\n",
              "      box-shadow: 0px 1px 2px rgba(60, 64, 67, 0.3), 0px 1px 3px 1px rgba(60, 64, 67, 0.15);\n",
              "      fill: #174EA6;\n",
              "    }\n",
              "\n",
              "    .colab-df-buttons div {\n",
              "      margin-bottom: 4px;\n",
              "    }\n",
              "\n",
              "    [theme=dark] .colab-df-convert {\n",
              "      background-color: #3B4455;\n",
              "      fill: #D2E3FC;\n",
              "    }\n",
              "\n",
              "    [theme=dark] .colab-df-convert:hover {\n",
              "      background-color: #434B5C;\n",
              "      box-shadow: 0px 1px 3px 1px rgba(0, 0, 0, 0.15);\n",
              "      filter: drop-shadow(0px 1px 2px rgba(0, 0, 0, 0.3));\n",
              "      fill: #FFFFFF;\n",
              "    }\n",
              "  </style>\n",
              "\n",
              "    <script>\n",
              "      const buttonEl =\n",
              "        document.querySelector('#df-cfd4739b-8ad7-4026-8fed-57539b07259e button.colab-df-convert');\n",
              "      buttonEl.style.display =\n",
              "        google.colab.kernel.accessAllowed ? 'block' : 'none';\n",
              "\n",
              "      async function convertToInteractive(key) {\n",
              "        const element = document.querySelector('#df-cfd4739b-8ad7-4026-8fed-57539b07259e');\n",
              "        const dataTable =\n",
              "          await google.colab.kernel.invokeFunction('convertToInteractive',\n",
              "                                                    [key], {});\n",
              "        if (!dataTable) return;\n",
              "\n",
              "        const docLinkHtml = 'Like what you see? Visit the ' +\n",
              "          '<a target=\"_blank\" href=https://colab.research.google.com/notebooks/data_table.ipynb>data table notebook</a>'\n",
              "          + ' to learn more about interactive tables.';\n",
              "        element.innerHTML = '';\n",
              "        dataTable['output_type'] = 'display_data';\n",
              "        await google.colab.output.renderOutput(dataTable, element);\n",
              "        const docLink = document.createElement('div');\n",
              "        docLink.innerHTML = docLinkHtml;\n",
              "        element.appendChild(docLink);\n",
              "      }\n",
              "    </script>\n",
              "  </div>\n",
              "\n",
              "\n",
              "<div id=\"df-5b1e9770-9992-4da2-85f4-e59c41b30ac0\">\n",
              "  <button class=\"colab-df-quickchart\" onclick=\"quickchart('df-5b1e9770-9992-4da2-85f4-e59c41b30ac0')\"\n",
              "            title=\"Suggest charts\"\n",
              "            style=\"display:none;\">\n",
              "\n",
              "<svg xmlns=\"http://www.w3.org/2000/svg\" height=\"24px\"viewBox=\"0 0 24 24\"\n",
              "     width=\"24px\">\n",
              "    <g>\n",
              "        <path d=\"M19 3H5c-1.1 0-2 .9-2 2v14c0 1.1.9 2 2 2h14c1.1 0 2-.9 2-2V5c0-1.1-.9-2-2-2zM9 17H7v-7h2v7zm4 0h-2V7h2v10zm4 0h-2v-4h2v4z\"/>\n",
              "    </g>\n",
              "</svg>\n",
              "  </button>\n",
              "\n",
              "<style>\n",
              "  .colab-df-quickchart {\n",
              "      --bg-color: #E8F0FE;\n",
              "      --fill-color: #1967D2;\n",
              "      --hover-bg-color: #E2EBFA;\n",
              "      --hover-fill-color: #174EA6;\n",
              "      --disabled-fill-color: #AAA;\n",
              "      --disabled-bg-color: #DDD;\n",
              "  }\n",
              "\n",
              "  [theme=dark] .colab-df-quickchart {\n",
              "      --bg-color: #3B4455;\n",
              "      --fill-color: #D2E3FC;\n",
              "      --hover-bg-color: #434B5C;\n",
              "      --hover-fill-color: #FFFFFF;\n",
              "      --disabled-bg-color: #3B4455;\n",
              "      --disabled-fill-color: #666;\n",
              "  }\n",
              "\n",
              "  .colab-df-quickchart {\n",
              "    background-color: var(--bg-color);\n",
              "    border: none;\n",
              "    border-radius: 50%;\n",
              "    cursor: pointer;\n",
              "    display: none;\n",
              "    fill: var(--fill-color);\n",
              "    height: 32px;\n",
              "    padding: 0;\n",
              "    width: 32px;\n",
              "  }\n",
              "\n",
              "  .colab-df-quickchart:hover {\n",
              "    background-color: var(--hover-bg-color);\n",
              "    box-shadow: 0 1px 2px rgba(60, 64, 67, 0.3), 0 1px 3px 1px rgba(60, 64, 67, 0.15);\n",
              "    fill: var(--button-hover-fill-color);\n",
              "  }\n",
              "\n",
              "  .colab-df-quickchart-complete:disabled,\n",
              "  .colab-df-quickchart-complete:disabled:hover {\n",
              "    background-color: var(--disabled-bg-color);\n",
              "    fill: var(--disabled-fill-color);\n",
              "    box-shadow: none;\n",
              "  }\n",
              "\n",
              "  .colab-df-spinner {\n",
              "    border: 2px solid var(--fill-color);\n",
              "    border-color: transparent;\n",
              "    border-bottom-color: var(--fill-color);\n",
              "    animation:\n",
              "      spin 1s steps(1) infinite;\n",
              "  }\n",
              "\n",
              "  @keyframes spin {\n",
              "    0% {\n",
              "      border-color: transparent;\n",
              "      border-bottom-color: var(--fill-color);\n",
              "      border-left-color: var(--fill-color);\n",
              "    }\n",
              "    20% {\n",
              "      border-color: transparent;\n",
              "      border-left-color: var(--fill-color);\n",
              "      border-top-color: var(--fill-color);\n",
              "    }\n",
              "    30% {\n",
              "      border-color: transparent;\n",
              "      border-left-color: var(--fill-color);\n",
              "      border-top-color: var(--fill-color);\n",
              "      border-right-color: var(--fill-color);\n",
              "    }\n",
              "    40% {\n",
              "      border-color: transparent;\n",
              "      border-right-color: var(--fill-color);\n",
              "      border-top-color: var(--fill-color);\n",
              "    }\n",
              "    60% {\n",
              "      border-color: transparent;\n",
              "      border-right-color: var(--fill-color);\n",
              "    }\n",
              "    80% {\n",
              "      border-color: transparent;\n",
              "      border-right-color: var(--fill-color);\n",
              "      border-bottom-color: var(--fill-color);\n",
              "    }\n",
              "    90% {\n",
              "      border-color: transparent;\n",
              "      border-bottom-color: var(--fill-color);\n",
              "    }\n",
              "  }\n",
              "</style>\n",
              "\n",
              "  <script>\n",
              "    async function quickchart(key) {\n",
              "      const quickchartButtonEl =\n",
              "        document.querySelector('#' + key + ' button');\n",
              "      quickchartButtonEl.disabled = true;  // To prevent multiple clicks.\n",
              "      quickchartButtonEl.classList.add('colab-df-spinner');\n",
              "      try {\n",
              "        const charts = await google.colab.kernel.invokeFunction(\n",
              "            'suggestCharts', [key], {});\n",
              "      } catch (error) {\n",
              "        console.error('Error during call to suggestCharts:', error);\n",
              "      }\n",
              "      quickchartButtonEl.classList.remove('colab-df-spinner');\n",
              "      quickchartButtonEl.classList.add('colab-df-quickchart-complete');\n",
              "    }\n",
              "    (() => {\n",
              "      let quickchartButtonEl =\n",
              "        document.querySelector('#df-5b1e9770-9992-4da2-85f4-e59c41b30ac0 button');\n",
              "      quickchartButtonEl.style.display =\n",
              "        google.colab.kernel.accessAllowed ? 'block' : 'none';\n",
              "    })();\n",
              "  </script>\n",
              "</div>\n",
              "    </div>\n",
              "  </div>\n"
            ],
            "application/vnd.google.colaboratory.intrinsic+json": {
              "type": "dataframe",
              "variable_name": "X",
              "summary": "{\n  \"name\": \"X\",\n  \"rows\": 900,\n  \"fields\": [\n    {\n      \"column\": \"Area\",\n      \"properties\": {\n        \"dtype\": \"number\",\n        \"std\": 39002,\n        \"min\": 25387,\n        \"max\": 235047,\n        \"num_unique_values\": 900,\n        \"samples\": [\n          95347,\n          61861,\n          52693\n        ],\n        \"semantic_type\": \"\",\n        \"description\": \"\"\n      }\n    },\n    {\n      \"column\": \"MajorAxisLength\",\n      \"properties\": {\n        \"dtype\": \"number\",\n        \"std\": 116.03512062468943,\n        \"min\": 225.629541,\n        \"max\": 997.2919406,\n        \"num_unique_values\": 900,\n        \"samples\": [\n          451.5261542,\n          345.9436498,\n          283.5042387\n        ],\n        \"semantic_type\": \"\",\n        \"description\": \"\"\n      }\n    },\n    {\n      \"column\": \"MinorAxisLength\",\n      \"properties\": {\n        \"dtype\": \"number\",\n        \"std\": 49.98890170571764,\n        \"min\": 143.7108718,\n        \"max\": 492.2752785,\n        \"num_unique_values\": 900,\n        \"samples\": [\n          280.2261534,\n          235.4304678,\n          242.1139544\n        ],\n        \"semantic_type\": \"\",\n        \"description\": \"\"\n      }\n    },\n    {\n      \"column\": \"Eccentricity\",\n      \"properties\": {\n        \"dtype\": \"number\",\n        \"std\": 0.09031840993160666,\n        \"min\": 0.348729642,\n        \"max\": 0.96212444,\n        \"num_unique_values\": 900,\n        \"samples\": [\n          0.784111496,\n          0.732705625,\n          0.520265279\n        ],\n        \"semantic_type\": \"\",\n        \"description\": \"\"\n      }\n    },\n    {\n      \"column\": \"ConvexArea\",\n      \"properties\": {\n        \"dtype\": \"number\",\n        \"std\": 40769,\n        \"min\": 26139,\n        \"max\": 278217,\n        \"num_unique_values\": 896,\n        \"samples\": [\n          89794,\n          71336,\n          120657\n        ],\n        \"semantic_type\": \"\",\n        \"description\": \"\"\n      }\n    },\n    {\n      \"column\": \"Extent\",\n      \"properties\": {\n        \"dtype\": \"number\",\n        \"std\": 0.053468200288159295,\n        \"min\": 0.379856115,\n        \"max\": 0.835454545,\n        \"num_unique_values\": 900,\n        \"samples\": [\n          0.674956111,\n          0.70227959,\n          0.737749216\n        ],\n        \"semantic_type\": \"\",\n        \"description\": \"\"\n      }\n    },\n    {\n      \"column\": \"Perimeter\",\n      \"properties\": {\n        \"dtype\": \"number\",\n        \"std\": 273.7643154160196,\n        \"min\": 619.074,\n        \"max\": 2697.753,\n        \"num_unique_values\": 900,\n        \"samples\": [\n          1255.245,\n          1063.621,\n          895.745\n        ],\n        \"semantic_type\": \"\",\n        \"description\": \"\"\n      }\n    }\n  ]\n}"
            }
          },
          "metadata": {},
          "execution_count": 4
        }
      ]
    },
    {
      "cell_type": "code",
      "source": [
        "y.head()"
      ],
      "metadata": {
        "colab": {
          "base_uri": "https://localhost:8080/",
          "height": 206
        },
        "id": "Cu5-_45SShUy",
        "outputId": "3a93d5a1-4877-4477-dbf0-0a00fe860da9"
      },
      "execution_count": null,
      "outputs": [
        {
          "output_type": "execute_result",
          "data": {
            "text/plain": [
              "     Class\n",
              "0  Kecimen\n",
              "1  Kecimen\n",
              "2  Kecimen\n",
              "3  Kecimen\n",
              "4  Kecimen"
            ],
            "text/html": [
              "\n",
              "  <div id=\"df-5ce89b90-ad21-45b3-85d2-3db66e9096d6\" class=\"colab-df-container\">\n",
              "    <div>\n",
              "<style scoped>\n",
              "    .dataframe tbody tr th:only-of-type {\n",
              "        vertical-align: middle;\n",
              "    }\n",
              "\n",
              "    .dataframe tbody tr th {\n",
              "        vertical-align: top;\n",
              "    }\n",
              "\n",
              "    .dataframe thead th {\n",
              "        text-align: right;\n",
              "    }\n",
              "</style>\n",
              "<table border=\"1\" class=\"dataframe\">\n",
              "  <thead>\n",
              "    <tr style=\"text-align: right;\">\n",
              "      <th></th>\n",
              "      <th>Class</th>\n",
              "    </tr>\n",
              "  </thead>\n",
              "  <tbody>\n",
              "    <tr>\n",
              "      <th>0</th>\n",
              "      <td>Kecimen</td>\n",
              "    </tr>\n",
              "    <tr>\n",
              "      <th>1</th>\n",
              "      <td>Kecimen</td>\n",
              "    </tr>\n",
              "    <tr>\n",
              "      <th>2</th>\n",
              "      <td>Kecimen</td>\n",
              "    </tr>\n",
              "    <tr>\n",
              "      <th>3</th>\n",
              "      <td>Kecimen</td>\n",
              "    </tr>\n",
              "    <tr>\n",
              "      <th>4</th>\n",
              "      <td>Kecimen</td>\n",
              "    </tr>\n",
              "  </tbody>\n",
              "</table>\n",
              "</div>\n",
              "    <div class=\"colab-df-buttons\">\n",
              "\n",
              "  <div class=\"colab-df-container\">\n",
              "    <button class=\"colab-df-convert\" onclick=\"convertToInteractive('df-5ce89b90-ad21-45b3-85d2-3db66e9096d6')\"\n",
              "            title=\"Convert this dataframe to an interactive table.\"\n",
              "            style=\"display:none;\">\n",
              "\n",
              "  <svg xmlns=\"http://www.w3.org/2000/svg\" height=\"24px\" viewBox=\"0 -960 960 960\">\n",
              "    <path d=\"M120-120v-720h720v720H120Zm60-500h600v-160H180v160Zm220 220h160v-160H400v160Zm0 220h160v-160H400v160ZM180-400h160v-160H180v160Zm440 0h160v-160H620v160ZM180-180h160v-160H180v160Zm440 0h160v-160H620v160Z\"/>\n",
              "  </svg>\n",
              "    </button>\n",
              "\n",
              "  <style>\n",
              "    .colab-df-container {\n",
              "      display:flex;\n",
              "      gap: 12px;\n",
              "    }\n",
              "\n",
              "    .colab-df-convert {\n",
              "      background-color: #E8F0FE;\n",
              "      border: none;\n",
              "      border-radius: 50%;\n",
              "      cursor: pointer;\n",
              "      display: none;\n",
              "      fill: #1967D2;\n",
              "      height: 32px;\n",
              "      padding: 0 0 0 0;\n",
              "      width: 32px;\n",
              "    }\n",
              "\n",
              "    .colab-df-convert:hover {\n",
              "      background-color: #E2EBFA;\n",
              "      box-shadow: 0px 1px 2px rgba(60, 64, 67, 0.3), 0px 1px 3px 1px rgba(60, 64, 67, 0.15);\n",
              "      fill: #174EA6;\n",
              "    }\n",
              "\n",
              "    .colab-df-buttons div {\n",
              "      margin-bottom: 4px;\n",
              "    }\n",
              "\n",
              "    [theme=dark] .colab-df-convert {\n",
              "      background-color: #3B4455;\n",
              "      fill: #D2E3FC;\n",
              "    }\n",
              "\n",
              "    [theme=dark] .colab-df-convert:hover {\n",
              "      background-color: #434B5C;\n",
              "      box-shadow: 0px 1px 3px 1px rgba(0, 0, 0, 0.15);\n",
              "      filter: drop-shadow(0px 1px 2px rgba(0, 0, 0, 0.3));\n",
              "      fill: #FFFFFF;\n",
              "    }\n",
              "  </style>\n",
              "\n",
              "    <script>\n",
              "      const buttonEl =\n",
              "        document.querySelector('#df-5ce89b90-ad21-45b3-85d2-3db66e9096d6 button.colab-df-convert');\n",
              "      buttonEl.style.display =\n",
              "        google.colab.kernel.accessAllowed ? 'block' : 'none';\n",
              "\n",
              "      async function convertToInteractive(key) {\n",
              "        const element = document.querySelector('#df-5ce89b90-ad21-45b3-85d2-3db66e9096d6');\n",
              "        const dataTable =\n",
              "          await google.colab.kernel.invokeFunction('convertToInteractive',\n",
              "                                                    [key], {});\n",
              "        if (!dataTable) return;\n",
              "\n",
              "        const docLinkHtml = 'Like what you see? Visit the ' +\n",
              "          '<a target=\"_blank\" href=https://colab.research.google.com/notebooks/data_table.ipynb>data table notebook</a>'\n",
              "          + ' to learn more about interactive tables.';\n",
              "        element.innerHTML = '';\n",
              "        dataTable['output_type'] = 'display_data';\n",
              "        await google.colab.output.renderOutput(dataTable, element);\n",
              "        const docLink = document.createElement('div');\n",
              "        docLink.innerHTML = docLinkHtml;\n",
              "        element.appendChild(docLink);\n",
              "      }\n",
              "    </script>\n",
              "  </div>\n",
              "\n",
              "\n",
              "<div id=\"df-fa4238b8-b0ea-42c6-bb05-5ff848e3c514\">\n",
              "  <button class=\"colab-df-quickchart\" onclick=\"quickchart('df-fa4238b8-b0ea-42c6-bb05-5ff848e3c514')\"\n",
              "            title=\"Suggest charts\"\n",
              "            style=\"display:none;\">\n",
              "\n",
              "<svg xmlns=\"http://www.w3.org/2000/svg\" height=\"24px\"viewBox=\"0 0 24 24\"\n",
              "     width=\"24px\">\n",
              "    <g>\n",
              "        <path d=\"M19 3H5c-1.1 0-2 .9-2 2v14c0 1.1.9 2 2 2h14c1.1 0 2-.9 2-2V5c0-1.1-.9-2-2-2zM9 17H7v-7h2v7zm4 0h-2V7h2v10zm4 0h-2v-4h2v4z\"/>\n",
              "    </g>\n",
              "</svg>\n",
              "  </button>\n",
              "\n",
              "<style>\n",
              "  .colab-df-quickchart {\n",
              "      --bg-color: #E8F0FE;\n",
              "      --fill-color: #1967D2;\n",
              "      --hover-bg-color: #E2EBFA;\n",
              "      --hover-fill-color: #174EA6;\n",
              "      --disabled-fill-color: #AAA;\n",
              "      --disabled-bg-color: #DDD;\n",
              "  }\n",
              "\n",
              "  [theme=dark] .colab-df-quickchart {\n",
              "      --bg-color: #3B4455;\n",
              "      --fill-color: #D2E3FC;\n",
              "      --hover-bg-color: #434B5C;\n",
              "      --hover-fill-color: #FFFFFF;\n",
              "      --disabled-bg-color: #3B4455;\n",
              "      --disabled-fill-color: #666;\n",
              "  }\n",
              "\n",
              "  .colab-df-quickchart {\n",
              "    background-color: var(--bg-color);\n",
              "    border: none;\n",
              "    border-radius: 50%;\n",
              "    cursor: pointer;\n",
              "    display: none;\n",
              "    fill: var(--fill-color);\n",
              "    height: 32px;\n",
              "    padding: 0;\n",
              "    width: 32px;\n",
              "  }\n",
              "\n",
              "  .colab-df-quickchart:hover {\n",
              "    background-color: var(--hover-bg-color);\n",
              "    box-shadow: 0 1px 2px rgba(60, 64, 67, 0.3), 0 1px 3px 1px rgba(60, 64, 67, 0.15);\n",
              "    fill: var(--button-hover-fill-color);\n",
              "  }\n",
              "\n",
              "  .colab-df-quickchart-complete:disabled,\n",
              "  .colab-df-quickchart-complete:disabled:hover {\n",
              "    background-color: var(--disabled-bg-color);\n",
              "    fill: var(--disabled-fill-color);\n",
              "    box-shadow: none;\n",
              "  }\n",
              "\n",
              "  .colab-df-spinner {\n",
              "    border: 2px solid var(--fill-color);\n",
              "    border-color: transparent;\n",
              "    border-bottom-color: var(--fill-color);\n",
              "    animation:\n",
              "      spin 1s steps(1) infinite;\n",
              "  }\n",
              "\n",
              "  @keyframes spin {\n",
              "    0% {\n",
              "      border-color: transparent;\n",
              "      border-bottom-color: var(--fill-color);\n",
              "      border-left-color: var(--fill-color);\n",
              "    }\n",
              "    20% {\n",
              "      border-color: transparent;\n",
              "      border-left-color: var(--fill-color);\n",
              "      border-top-color: var(--fill-color);\n",
              "    }\n",
              "    30% {\n",
              "      border-color: transparent;\n",
              "      border-left-color: var(--fill-color);\n",
              "      border-top-color: var(--fill-color);\n",
              "      border-right-color: var(--fill-color);\n",
              "    }\n",
              "    40% {\n",
              "      border-color: transparent;\n",
              "      border-right-color: var(--fill-color);\n",
              "      border-top-color: var(--fill-color);\n",
              "    }\n",
              "    60% {\n",
              "      border-color: transparent;\n",
              "      border-right-color: var(--fill-color);\n",
              "    }\n",
              "    80% {\n",
              "      border-color: transparent;\n",
              "      border-right-color: var(--fill-color);\n",
              "      border-bottom-color: var(--fill-color);\n",
              "    }\n",
              "    90% {\n",
              "      border-color: transparent;\n",
              "      border-bottom-color: var(--fill-color);\n",
              "    }\n",
              "  }\n",
              "</style>\n",
              "\n",
              "  <script>\n",
              "    async function quickchart(key) {\n",
              "      const quickchartButtonEl =\n",
              "        document.querySelector('#' + key + ' button');\n",
              "      quickchartButtonEl.disabled = true;  // To prevent multiple clicks.\n",
              "      quickchartButtonEl.classList.add('colab-df-spinner');\n",
              "      try {\n",
              "        const charts = await google.colab.kernel.invokeFunction(\n",
              "            'suggestCharts', [key], {});\n",
              "      } catch (error) {\n",
              "        console.error('Error during call to suggestCharts:', error);\n",
              "      }\n",
              "      quickchartButtonEl.classList.remove('colab-df-spinner');\n",
              "      quickchartButtonEl.classList.add('colab-df-quickchart-complete');\n",
              "    }\n",
              "    (() => {\n",
              "      let quickchartButtonEl =\n",
              "        document.querySelector('#df-fa4238b8-b0ea-42c6-bb05-5ff848e3c514 button');\n",
              "      quickchartButtonEl.style.display =\n",
              "        google.colab.kernel.accessAllowed ? 'block' : 'none';\n",
              "    })();\n",
              "  </script>\n",
              "</div>\n",
              "    </div>\n",
              "  </div>\n"
            ],
            "application/vnd.google.colaboratory.intrinsic+json": {
              "type": "dataframe",
              "variable_name": "y",
              "summary": "{\n  \"name\": \"y\",\n  \"rows\": 900,\n  \"fields\": [\n    {\n      \"column\": \"Class\",\n      \"properties\": {\n        \"dtype\": \"category\",\n        \"num_unique_values\": 2,\n        \"samples\": [\n          \"Besni\",\n          \"Kecimen\"\n        ],\n        \"semantic_type\": \"\",\n        \"description\": \"\"\n      }\n    }\n  ]\n}"
            }
          },
          "metadata": {},
          "execution_count": 5
        }
      ]
    },
    {
      "cell_type": "code",
      "source": [
        "X.shape"
      ],
      "metadata": {
        "colab": {
          "base_uri": "https://localhost:8080/"
        },
        "id": "4xCMPpl0R9Io",
        "outputId": "8da8ffdc-9e8e-418b-e34d-88bcb3ac1ca3"
      },
      "execution_count": null,
      "outputs": [
        {
          "output_type": "execute_result",
          "data": {
            "text/plain": [
              "(900, 7)"
            ]
          },
          "metadata": {},
          "execution_count": 6
        }
      ]
    },
    {
      "cell_type": "code",
      "source": [
        "y.shape"
      ],
      "metadata": {
        "colab": {
          "base_uri": "https://localhost:8080/"
        },
        "id": "7WDrOS2FR-mf",
        "outputId": "5af3a6e3-d9f8-44ca-d7a5-cdf49337284a"
      },
      "execution_count": null,
      "outputs": [
        {
          "output_type": "execute_result",
          "data": {
            "text/plain": [
              "(900, 1)"
            ]
          },
          "metadata": {},
          "execution_count": 7
        }
      ]
    },
    {
      "cell_type": "code",
      "source": [
        "X.info()"
      ],
      "metadata": {
        "colab": {
          "base_uri": "https://localhost:8080/"
        },
        "id": "Ru43wg_4SBQN",
        "outputId": "d69b1cf7-ecc5-410b-df50-e62a01d1e73b"
      },
      "execution_count": null,
      "outputs": [
        {
          "output_type": "stream",
          "name": "stdout",
          "text": [
            "<class 'pandas.core.frame.DataFrame'>\n",
            "RangeIndex: 900 entries, 0 to 899\n",
            "Data columns (total 7 columns):\n",
            " #   Column           Non-Null Count  Dtype  \n",
            "---  ------           --------------  -----  \n",
            " 0   Area             900 non-null    int64  \n",
            " 1   MajorAxisLength  900 non-null    float64\n",
            " 2   MinorAxisLength  900 non-null    float64\n",
            " 3   Eccentricity     900 non-null    float64\n",
            " 4   ConvexArea       900 non-null    int64  \n",
            " 5   Extent           900 non-null    float64\n",
            " 6   Perimeter        900 non-null    float64\n",
            "dtypes: float64(5), int64(2)\n",
            "memory usage: 49.3 KB\n"
          ]
        }
      ]
    },
    {
      "cell_type": "code",
      "source": [
        "y.info()"
      ],
      "metadata": {
        "colab": {
          "base_uri": "https://localhost:8080/"
        },
        "id": "cx609yheSCZx",
        "outputId": "fca50c3b-c744-4a47-da0b-086a92d17806"
      },
      "execution_count": null,
      "outputs": [
        {
          "output_type": "stream",
          "name": "stdout",
          "text": [
            "<class 'pandas.core.frame.DataFrame'>\n",
            "RangeIndex: 900 entries, 0 to 899\n",
            "Data columns (total 1 columns):\n",
            " #   Column  Non-Null Count  Dtype \n",
            "---  ------  --------------  ----- \n",
            " 0   Class   900 non-null    object\n",
            "dtypes: object(1)\n",
            "memory usage: 7.2+ KB\n"
          ]
        }
      ]
    },
    {
      "cell_type": "code",
      "source": [
        "unique_values = y['Class'].unique()\n",
        "print(unique_values)"
      ],
      "metadata": {
        "colab": {
          "base_uri": "https://localhost:8080/"
        },
        "id": "UjF1U_n2TRHV",
        "outputId": "2a0eabbf-286e-4c1d-d080-eb903ed40daf"
      },
      "execution_count": null,
      "outputs": [
        {
          "output_type": "stream",
          "name": "stdout",
          "text": [
            "['Kecimen' 'Besni']\n"
          ]
        }
      ]
    },
    {
      "cell_type": "markdown",
      "source": [
        "##### Remarks:\n",
        "\n",
        "There are only two target variables, the next goal would be converting this to binary classifcation 0 for Kecimen and 1 for Besni."
      ],
      "metadata": {
        "id": "8fg-qzIVS46u"
      }
    },
    {
      "cell_type": "markdown",
      "source": [
        "### Converting Target variables\n",
        "\n",
        "In this section, instead of using a one hot encoder, I used a simple one liner lambda function to convert the target variable into 0 and 1."
      ],
      "metadata": {
        "id": "ZJyw7BaHZ8LB"
      }
    },
    {
      "cell_type": "code",
      "source": [
        "#Converting the target variables to binary\n",
        "\n",
        "y['Class']= y['Class'].apply(lambda x: 0 if x == 'Kecimen' else 1)\n"
      ],
      "metadata": {
        "colab": {
          "base_uri": "https://localhost:8080/"
        },
        "id": "RqJGLZLeSD_J",
        "outputId": "20f5c11c-4fa5-4573-bf44-734b0739a05b"
      },
      "execution_count": null,
      "outputs": [
        {
          "output_type": "stream",
          "name": "stderr",
          "text": [
            "<ipython-input-4-bc5ed035bce9>:3: SettingWithCopyWarning: \n",
            "A value is trying to be set on a copy of a slice from a DataFrame.\n",
            "Try using .loc[row_indexer,col_indexer] = value instead\n",
            "\n",
            "See the caveats in the documentation: https://pandas.pydata.org/pandas-docs/stable/user_guide/indexing.html#returning-a-view-versus-a-copy\n",
            "  y['Class']= y['Class'].apply(lambda x: 0 if x == 'Kecimen' else 1)\n"
          ]
        }
      ]
    },
    {
      "cell_type": "code",
      "source": [
        "#checking\n",
        "unique_values = y['Class'].unique()\n",
        "print(unique_values)"
      ],
      "metadata": {
        "colab": {
          "base_uri": "https://localhost:8080/"
        },
        "id": "haiWb0fTVSBW",
        "outputId": "36f0cfaf-83b5-476d-8045-d39d0f8dcdf8"
      },
      "execution_count": null,
      "outputs": [
        {
          "output_type": "stream",
          "name": "stdout",
          "text": [
            "[0 1]\n"
          ]
        }
      ]
    },
    {
      "cell_type": "markdown",
      "source": [
        "### Checking for Null Values\n",
        "\n",
        "Although the null values are already checked using the .info() earlier, to make sure that each data is complete, a null value checking was performed."
      ],
      "metadata": {
        "id": "l8c1V4FvZ4vD"
      }
    },
    {
      "cell_type": "code",
      "source": [
        "X.isnull().sum()"
      ],
      "metadata": {
        "colab": {
          "base_uri": "https://localhost:8080/"
        },
        "id": "nLq9SQntaBnd",
        "outputId": "0d552aff-56b6-4898-b949-a963c0118b7d"
      },
      "execution_count": null,
      "outputs": [
        {
          "output_type": "execute_result",
          "data": {
            "text/plain": [
              "Area               0\n",
              "MajorAxisLength    0\n",
              "MinorAxisLength    0\n",
              "Eccentricity       0\n",
              "ConvexArea         0\n",
              "Extent             0\n",
              "Perimeter          0\n",
              "dtype: int64"
            ]
          },
          "metadata": {},
          "execution_count": 13
        }
      ]
    },
    {
      "cell_type": "markdown",
      "source": [
        "### Checking for outliers\n",
        "\n",
        "In this section, outliers were checked and removed."
      ],
      "metadata": {
        "id": "mySB2b0gaGjK"
      }
    },
    {
      "cell_type": "code",
      "source": [
        "X.describe()"
      ],
      "metadata": {
        "colab": {
          "base_uri": "https://localhost:8080/",
          "height": 300
        },
        "id": "t_PlrVD-aGPU",
        "outputId": "e9601919-b79c-4fa1-b861-6572d1608c2b"
      },
      "execution_count": null,
      "outputs": [
        {
          "output_type": "execute_result",
          "data": {
            "text/plain": [
              "                Area  MajorAxisLength  MinorAxisLength  Eccentricity  \\\n",
              "count     900.000000       900.000000       900.000000    900.000000   \n",
              "mean    87804.127778       430.929950       254.488133      0.781542   \n",
              "std     39002.111390       116.035121        49.988902      0.090318   \n",
              "min     25387.000000       225.629541       143.710872      0.348730   \n",
              "25%     59348.000000       345.442898       219.111126      0.741766   \n",
              "50%     78902.000000       407.803951       247.848409      0.798846   \n",
              "75%    105028.250000       494.187014       279.888575      0.842571   \n",
              "max    235047.000000       997.291941       492.275279      0.962124   \n",
              "\n",
              "          ConvexArea      Extent    Perimeter  \n",
              "count     900.000000  900.000000   900.000000  \n",
              "mean    91186.090000    0.699508  1165.906636  \n",
              "std     40769.290132    0.053468   273.764315  \n",
              "min     26139.000000    0.379856   619.074000  \n",
              "25%     61513.250000    0.670869   966.410750  \n",
              "50%     81651.000000    0.707367  1119.509000  \n",
              "75%    108375.750000    0.734991  1308.389750  \n",
              "max    278217.000000    0.835455  2697.753000  "
            ],
            "text/html": [
              "\n",
              "  <div id=\"df-00819829-4c69-46cf-a36d-ead06e8729c8\" class=\"colab-df-container\">\n",
              "    <div>\n",
              "<style scoped>\n",
              "    .dataframe tbody tr th:only-of-type {\n",
              "        vertical-align: middle;\n",
              "    }\n",
              "\n",
              "    .dataframe tbody tr th {\n",
              "        vertical-align: top;\n",
              "    }\n",
              "\n",
              "    .dataframe thead th {\n",
              "        text-align: right;\n",
              "    }\n",
              "</style>\n",
              "<table border=\"1\" class=\"dataframe\">\n",
              "  <thead>\n",
              "    <tr style=\"text-align: right;\">\n",
              "      <th></th>\n",
              "      <th>Area</th>\n",
              "      <th>MajorAxisLength</th>\n",
              "      <th>MinorAxisLength</th>\n",
              "      <th>Eccentricity</th>\n",
              "      <th>ConvexArea</th>\n",
              "      <th>Extent</th>\n",
              "      <th>Perimeter</th>\n",
              "    </tr>\n",
              "  </thead>\n",
              "  <tbody>\n",
              "    <tr>\n",
              "      <th>count</th>\n",
              "      <td>900.000000</td>\n",
              "      <td>900.000000</td>\n",
              "      <td>900.000000</td>\n",
              "      <td>900.000000</td>\n",
              "      <td>900.000000</td>\n",
              "      <td>900.000000</td>\n",
              "      <td>900.000000</td>\n",
              "    </tr>\n",
              "    <tr>\n",
              "      <th>mean</th>\n",
              "      <td>87804.127778</td>\n",
              "      <td>430.929950</td>\n",
              "      <td>254.488133</td>\n",
              "      <td>0.781542</td>\n",
              "      <td>91186.090000</td>\n",
              "      <td>0.699508</td>\n",
              "      <td>1165.906636</td>\n",
              "    </tr>\n",
              "    <tr>\n",
              "      <th>std</th>\n",
              "      <td>39002.111390</td>\n",
              "      <td>116.035121</td>\n",
              "      <td>49.988902</td>\n",
              "      <td>0.090318</td>\n",
              "      <td>40769.290132</td>\n",
              "      <td>0.053468</td>\n",
              "      <td>273.764315</td>\n",
              "    </tr>\n",
              "    <tr>\n",
              "      <th>min</th>\n",
              "      <td>25387.000000</td>\n",
              "      <td>225.629541</td>\n",
              "      <td>143.710872</td>\n",
              "      <td>0.348730</td>\n",
              "      <td>26139.000000</td>\n",
              "      <td>0.379856</td>\n",
              "      <td>619.074000</td>\n",
              "    </tr>\n",
              "    <tr>\n",
              "      <th>25%</th>\n",
              "      <td>59348.000000</td>\n",
              "      <td>345.442898</td>\n",
              "      <td>219.111126</td>\n",
              "      <td>0.741766</td>\n",
              "      <td>61513.250000</td>\n",
              "      <td>0.670869</td>\n",
              "      <td>966.410750</td>\n",
              "    </tr>\n",
              "    <tr>\n",
              "      <th>50%</th>\n",
              "      <td>78902.000000</td>\n",
              "      <td>407.803951</td>\n",
              "      <td>247.848409</td>\n",
              "      <td>0.798846</td>\n",
              "      <td>81651.000000</td>\n",
              "      <td>0.707367</td>\n",
              "      <td>1119.509000</td>\n",
              "    </tr>\n",
              "    <tr>\n",
              "      <th>75%</th>\n",
              "      <td>105028.250000</td>\n",
              "      <td>494.187014</td>\n",
              "      <td>279.888575</td>\n",
              "      <td>0.842571</td>\n",
              "      <td>108375.750000</td>\n",
              "      <td>0.734991</td>\n",
              "      <td>1308.389750</td>\n",
              "    </tr>\n",
              "    <tr>\n",
              "      <th>max</th>\n",
              "      <td>235047.000000</td>\n",
              "      <td>997.291941</td>\n",
              "      <td>492.275279</td>\n",
              "      <td>0.962124</td>\n",
              "      <td>278217.000000</td>\n",
              "      <td>0.835455</td>\n",
              "      <td>2697.753000</td>\n",
              "    </tr>\n",
              "  </tbody>\n",
              "</table>\n",
              "</div>\n",
              "    <div class=\"colab-df-buttons\">\n",
              "\n",
              "  <div class=\"colab-df-container\">\n",
              "    <button class=\"colab-df-convert\" onclick=\"convertToInteractive('df-00819829-4c69-46cf-a36d-ead06e8729c8')\"\n",
              "            title=\"Convert this dataframe to an interactive table.\"\n",
              "            style=\"display:none;\">\n",
              "\n",
              "  <svg xmlns=\"http://www.w3.org/2000/svg\" height=\"24px\" viewBox=\"0 -960 960 960\">\n",
              "    <path d=\"M120-120v-720h720v720H120Zm60-500h600v-160H180v160Zm220 220h160v-160H400v160Zm0 220h160v-160H400v160ZM180-400h160v-160H180v160Zm440 0h160v-160H620v160ZM180-180h160v-160H180v160Zm440 0h160v-160H620v160Z\"/>\n",
              "  </svg>\n",
              "    </button>\n",
              "\n",
              "  <style>\n",
              "    .colab-df-container {\n",
              "      display:flex;\n",
              "      gap: 12px;\n",
              "    }\n",
              "\n",
              "    .colab-df-convert {\n",
              "      background-color: #E8F0FE;\n",
              "      border: none;\n",
              "      border-radius: 50%;\n",
              "      cursor: pointer;\n",
              "      display: none;\n",
              "      fill: #1967D2;\n",
              "      height: 32px;\n",
              "      padding: 0 0 0 0;\n",
              "      width: 32px;\n",
              "    }\n",
              "\n",
              "    .colab-df-convert:hover {\n",
              "      background-color: #E2EBFA;\n",
              "      box-shadow: 0px 1px 2px rgba(60, 64, 67, 0.3), 0px 1px 3px 1px rgba(60, 64, 67, 0.15);\n",
              "      fill: #174EA6;\n",
              "    }\n",
              "\n",
              "    .colab-df-buttons div {\n",
              "      margin-bottom: 4px;\n",
              "    }\n",
              "\n",
              "    [theme=dark] .colab-df-convert {\n",
              "      background-color: #3B4455;\n",
              "      fill: #D2E3FC;\n",
              "    }\n",
              "\n",
              "    [theme=dark] .colab-df-convert:hover {\n",
              "      background-color: #434B5C;\n",
              "      box-shadow: 0px 1px 3px 1px rgba(0, 0, 0, 0.15);\n",
              "      filter: drop-shadow(0px 1px 2px rgba(0, 0, 0, 0.3));\n",
              "      fill: #FFFFFF;\n",
              "    }\n",
              "  </style>\n",
              "\n",
              "    <script>\n",
              "      const buttonEl =\n",
              "        document.querySelector('#df-00819829-4c69-46cf-a36d-ead06e8729c8 button.colab-df-convert');\n",
              "      buttonEl.style.display =\n",
              "        google.colab.kernel.accessAllowed ? 'block' : 'none';\n",
              "\n",
              "      async function convertToInteractive(key) {\n",
              "        const element = document.querySelector('#df-00819829-4c69-46cf-a36d-ead06e8729c8');\n",
              "        const dataTable =\n",
              "          await google.colab.kernel.invokeFunction('convertToInteractive',\n",
              "                                                    [key], {});\n",
              "        if (!dataTable) return;\n",
              "\n",
              "        const docLinkHtml = 'Like what you see? Visit the ' +\n",
              "          '<a target=\"_blank\" href=https://colab.research.google.com/notebooks/data_table.ipynb>data table notebook</a>'\n",
              "          + ' to learn more about interactive tables.';\n",
              "        element.innerHTML = '';\n",
              "        dataTable['output_type'] = 'display_data';\n",
              "        await google.colab.output.renderOutput(dataTable, element);\n",
              "        const docLink = document.createElement('div');\n",
              "        docLink.innerHTML = docLinkHtml;\n",
              "        element.appendChild(docLink);\n",
              "      }\n",
              "    </script>\n",
              "  </div>\n",
              "\n",
              "\n",
              "<div id=\"df-2921932f-1b06-4a0a-a445-2e5f1e30ebf3\">\n",
              "  <button class=\"colab-df-quickchart\" onclick=\"quickchart('df-2921932f-1b06-4a0a-a445-2e5f1e30ebf3')\"\n",
              "            title=\"Suggest charts\"\n",
              "            style=\"display:none;\">\n",
              "\n",
              "<svg xmlns=\"http://www.w3.org/2000/svg\" height=\"24px\"viewBox=\"0 0 24 24\"\n",
              "     width=\"24px\">\n",
              "    <g>\n",
              "        <path d=\"M19 3H5c-1.1 0-2 .9-2 2v14c0 1.1.9 2 2 2h14c1.1 0 2-.9 2-2V5c0-1.1-.9-2-2-2zM9 17H7v-7h2v7zm4 0h-2V7h2v10zm4 0h-2v-4h2v4z\"/>\n",
              "    </g>\n",
              "</svg>\n",
              "  </button>\n",
              "\n",
              "<style>\n",
              "  .colab-df-quickchart {\n",
              "      --bg-color: #E8F0FE;\n",
              "      --fill-color: #1967D2;\n",
              "      --hover-bg-color: #E2EBFA;\n",
              "      --hover-fill-color: #174EA6;\n",
              "      --disabled-fill-color: #AAA;\n",
              "      --disabled-bg-color: #DDD;\n",
              "  }\n",
              "\n",
              "  [theme=dark] .colab-df-quickchart {\n",
              "      --bg-color: #3B4455;\n",
              "      --fill-color: #D2E3FC;\n",
              "      --hover-bg-color: #434B5C;\n",
              "      --hover-fill-color: #FFFFFF;\n",
              "      --disabled-bg-color: #3B4455;\n",
              "      --disabled-fill-color: #666;\n",
              "  }\n",
              "\n",
              "  .colab-df-quickchart {\n",
              "    background-color: var(--bg-color);\n",
              "    border: none;\n",
              "    border-radius: 50%;\n",
              "    cursor: pointer;\n",
              "    display: none;\n",
              "    fill: var(--fill-color);\n",
              "    height: 32px;\n",
              "    padding: 0;\n",
              "    width: 32px;\n",
              "  }\n",
              "\n",
              "  .colab-df-quickchart:hover {\n",
              "    background-color: var(--hover-bg-color);\n",
              "    box-shadow: 0 1px 2px rgba(60, 64, 67, 0.3), 0 1px 3px 1px rgba(60, 64, 67, 0.15);\n",
              "    fill: var(--button-hover-fill-color);\n",
              "  }\n",
              "\n",
              "  .colab-df-quickchart-complete:disabled,\n",
              "  .colab-df-quickchart-complete:disabled:hover {\n",
              "    background-color: var(--disabled-bg-color);\n",
              "    fill: var(--disabled-fill-color);\n",
              "    box-shadow: none;\n",
              "  }\n",
              "\n",
              "  .colab-df-spinner {\n",
              "    border: 2px solid var(--fill-color);\n",
              "    border-color: transparent;\n",
              "    border-bottom-color: var(--fill-color);\n",
              "    animation:\n",
              "      spin 1s steps(1) infinite;\n",
              "  }\n",
              "\n",
              "  @keyframes spin {\n",
              "    0% {\n",
              "      border-color: transparent;\n",
              "      border-bottom-color: var(--fill-color);\n",
              "      border-left-color: var(--fill-color);\n",
              "    }\n",
              "    20% {\n",
              "      border-color: transparent;\n",
              "      border-left-color: var(--fill-color);\n",
              "      border-top-color: var(--fill-color);\n",
              "    }\n",
              "    30% {\n",
              "      border-color: transparent;\n",
              "      border-left-color: var(--fill-color);\n",
              "      border-top-color: var(--fill-color);\n",
              "      border-right-color: var(--fill-color);\n",
              "    }\n",
              "    40% {\n",
              "      border-color: transparent;\n",
              "      border-right-color: var(--fill-color);\n",
              "      border-top-color: var(--fill-color);\n",
              "    }\n",
              "    60% {\n",
              "      border-color: transparent;\n",
              "      border-right-color: var(--fill-color);\n",
              "    }\n",
              "    80% {\n",
              "      border-color: transparent;\n",
              "      border-right-color: var(--fill-color);\n",
              "      border-bottom-color: var(--fill-color);\n",
              "    }\n",
              "    90% {\n",
              "      border-color: transparent;\n",
              "      border-bottom-color: var(--fill-color);\n",
              "    }\n",
              "  }\n",
              "</style>\n",
              "\n",
              "  <script>\n",
              "    async function quickchart(key) {\n",
              "      const quickchartButtonEl =\n",
              "        document.querySelector('#' + key + ' button');\n",
              "      quickchartButtonEl.disabled = true;  // To prevent multiple clicks.\n",
              "      quickchartButtonEl.classList.add('colab-df-spinner');\n",
              "      try {\n",
              "        const charts = await google.colab.kernel.invokeFunction(\n",
              "            'suggestCharts', [key], {});\n",
              "      } catch (error) {\n",
              "        console.error('Error during call to suggestCharts:', error);\n",
              "      }\n",
              "      quickchartButtonEl.classList.remove('colab-df-spinner');\n",
              "      quickchartButtonEl.classList.add('colab-df-quickchart-complete');\n",
              "    }\n",
              "    (() => {\n",
              "      let quickchartButtonEl =\n",
              "        document.querySelector('#df-2921932f-1b06-4a0a-a445-2e5f1e30ebf3 button');\n",
              "      quickchartButtonEl.style.display =\n",
              "        google.colab.kernel.accessAllowed ? 'block' : 'none';\n",
              "    })();\n",
              "  </script>\n",
              "</div>\n",
              "    </div>\n",
              "  </div>\n"
            ],
            "application/vnd.google.colaboratory.intrinsic+json": {
              "type": "dataframe",
              "summary": "{\n  \"name\": \"X\",\n  \"rows\": 8,\n  \"fields\": [\n    {\n      \"column\": \"Area\",\n      \"properties\": {\n        \"dtype\": \"number\",\n        \"std\": 71779.03790093416,\n        \"min\": 900.0,\n        \"max\": 235047.0,\n        \"num_unique_values\": 8,\n        \"samples\": [\n          87804.12777777777,\n          78902.0,\n          900.0\n        ],\n        \"semantic_type\": \"\",\n        \"description\": \"\"\n      }\n    },\n    {\n      \"column\": \"MajorAxisLength\",\n      \"properties\": {\n        \"dtype\": \"number\",\n        \"std\": 308.53234008572025,\n        \"min\": 116.03512062468943,\n        \"max\": 997.2919406,\n        \"num_unique_values\": 8,\n        \"samples\": [\n          430.92995049844444,\n          407.80395115,\n          900.0\n        ],\n        \"semantic_type\": \"\",\n        \"description\": \"\"\n      }\n    },\n    {\n      \"column\": \"MinorAxisLength\",\n      \"properties\": {\n        \"dtype\": \"number\",\n        \"std\": 264.91360620496556,\n        \"min\": 49.98890170571764,\n        \"max\": 900.0,\n        \"num_unique_values\": 8,\n        \"samples\": [\n          254.48813290322227,\n          247.84840865,\n          900.0\n        ],\n        \"semantic_type\": \"\",\n        \"description\": \"\"\n      }\n    },\n    {\n      \"column\": \"Eccentricity\",\n      \"properties\": {\n        \"dtype\": \"number\",\n        \"std\": 317.9675705812945,\n        \"min\": 0.09031840993160666,\n        \"max\": 900.0,\n        \"num_unique_values\": 8,\n        \"samples\": [\n          0.7815421500333333,\n          0.798846044,\n          900.0\n        ],\n        \"semantic_type\": \"\",\n        \"description\": \"\"\n      }\n    },\n    {\n      \"column\": \"ConvexArea\",\n      \"properties\": {\n        \"dtype\": \"number\",\n        \"std\": 85326.7295231056,\n        \"min\": 900.0,\n        \"max\": 278217.0,\n        \"num_unique_values\": 8,\n        \"samples\": [\n          91186.09,\n          81651.0,\n          900.0\n        ],\n        \"semantic_type\": \"\",\n        \"description\": \"\"\n      }\n    },\n    {\n      \"column\": \"Extent\",\n      \"properties\": {\n        \"dtype\": \"number\",\n        \"std\": 317.9920039511005,\n        \"min\": 0.053468200288159295,\n        \"max\": 900.0,\n        \"num_unique_values\": 8,\n        \"samples\": [\n          0.6995079264077777,\n          0.7073669579999999,\n          900.0\n        ],\n        \"semantic_type\": \"\",\n        \"description\": \"\"\n      }\n    },\n    {\n      \"column\": \"Perimeter\",\n      \"properties\": {\n        \"dtype\": \"number\",\n        \"std\": 713.6329075426044,\n        \"min\": 273.7643154160196,\n        \"max\": 2697.753,\n        \"num_unique_values\": 8,\n        \"samples\": [\n          1165.9066355555556,\n          1119.509,\n          900.0\n        ],\n        \"semantic_type\": \"\",\n        \"description\": \"\"\n      }\n    }\n  ]\n}"
            }
          },
          "metadata": {},
          "execution_count": 14
        }
      ]
    },
    {
      "cell_type": "markdown",
      "source": [
        "#### Remarks:\n",
        "\n",
        "As shown in the results above, the minimumum and the maximum  has a large difference compared to the 25% and 75% quartile respectively. This proves the presence of an outlier. To visualize the outliers, a box plot will be performed.\n",
        "\n"
      ],
      "metadata": {
        "id": "nUxIgKLsaNLY"
      }
    },
    {
      "cell_type": "code",
      "source": [
        "import matplotlib.pyplot as plt\n",
        "\n",
        "# Specify the columns you want to include\n",
        "selected_columns = ['Area',\t'MajorAxisLength',\t'MinorAxisLength',\t'Eccentricity',\t'ConvexArea',\t'Extent',\t'Perimeter']\n",
        "\n",
        "# Filter the DataFrame to include only the selected columns\n",
        "X_selected = X[selected_columns]\n",
        "\n",
        "# Create subplots\n",
        "fig, axs = plt.subplots(1, len(selected_columns), figsize=(12, 5))\n",
        "\n",
        "# Plot boxplots for each selected column\n",
        "for i, col in enumerate(selected_columns):\n",
        "    axs[i].boxplot(X_selected[col])\n",
        "    axs[i].set_xlabel(col)\n",
        "\n",
        "plt.tight_layout()\n",
        "plt.show()"
      ],
      "metadata": {
        "colab": {
          "base_uri": "https://localhost:8080/",
          "height": 507
        },
        "id": "-x1mTm9-aOhp",
        "outputId": "cc53b1a8-a9e4-4282-8c14-fcc9c2ec6d63"
      },
      "execution_count": null,
      "outputs": [
        {
          "output_type": "display_data",
          "data": {
            "text/plain": [
              "<Figure size 1200x500 with 7 Axes>"
            ],
            "image/png": "[encoded data removed]"
          },
          "metadata": {}
        }
      ]
    },
    {
      "cell_type": "code",
      "source": [
        "def IQR_outliers(df, column_name, thresh=1.5):\n",
        "  Q1 = df[column_name].quantile(0.25)\n",
        "  Q3 = df[column_name].quantile(0.75)\n",
        "  IQR = Q3 - Q1\n",
        "  lower_bound = Q1 - (thresh * IQR)\n",
        "  upper_bound = Q3 + (thresh * IQR)\n",
        "\n",
        "  return df[(df[column_name] >= lower_bound) & (df [column_name] <= upper_bound)]"
      ],
      "metadata": {
        "id": "5AIw3pDqaWM4"
      },
      "execution_count": null,
      "outputs": []
    },
    {
      "cell_type": "code",
      "source": [
        "# Selected columns for analysis\n",
        "selected_columns = ['Area',\t'MajorAxisLength',\t'MinorAxisLength',\t'Eccentricity',\t'ConvexArea',\t'Extent',\t'Perimeter']\n",
        "\n",
        "# Remove outliers from selected columns\n",
        "indices_to_keep = np.array([]) # Store indices of rows to keep in X\n",
        "for col in selected_columns:\n",
        "    outliers_removed_X = IQR_outliers(X, col)\n",
        "    indices_to_keep = np.intersect1d(indices_to_keep, outliers_removed_X.index) if indices_to_keep.size else outliers_removed_X.index\n",
        "\n",
        "# Filter X and y with the indices to keep\n",
        "X = X.loc[indices_to_keep]\n",
        "y = y.loc[indices_to_keep]"
      ],
      "metadata": {
        "id": "YKTpvf6Pa9xY"
      },
      "execution_count": null,
      "outputs": []
    },
    {
      "cell_type": "code",
      "source": [
        "selected_columns = ['Area',\t'MajorAxisLength',\t'MinorAxisLength',\t'Eccentricity',\t'ConvexArea',\t'Extent',\t'Perimeter']\n",
        "# Create subplots\n",
        "fig, axs = plt.subplots(1, len(selected_columns), figsize=(12, 5))\n",
        "\n",
        "# Plot boxplots for each selected column\n",
        "for i, col in enumerate(selected_columns):\n",
        "    axs[i].boxplot(X[col])\n",
        "    axs[i].set_xlabel(col)\n",
        "\n",
        "plt.tight_layout()\n",
        "plt.show()"
      ],
      "metadata": {
        "colab": {
          "base_uri": "https://localhost:8080/",
          "height": 507
        },
        "id": "UheYOIMDa_Lx",
        "outputId": "10bff455-799e-4482-e904-9b4e871b07d9"
      },
      "execution_count": null,
      "outputs": [
        {
          "output_type": "display_data",
          "data": {
            "text/plain": [
              "<Figure size 1200x500 with 7 Axes>"
            ],
            "image/png": "[encoded data removed]"
          },
          "metadata": {}
        }
      ]
    },
    {
      "cell_type": "code",
      "source": [
        "X.shape, y.shape"
      ],
      "metadata": {
        "colab": {
          "base_uri": "https://localhost:8080/"
        },
        "id": "5_BBWO_TcI0Z",
        "outputId": "b28916fd-add1-4105-8118-1be8b56e460d"
      },
      "execution_count": null,
      "outputs": [
        {
          "output_type": "execute_result",
          "data": {
            "text/plain": [
              "((748, 7), (748, 1))"
            ]
          },
          "metadata": {},
          "execution_count": 21
        }
      ]
    },
    {
      "cell_type": "markdown",
      "source": [
        "Remarks:\n",
        "\n",
        "After performing outlier detection and removal, 152 outliers are removed from the data set."
      ],
      "metadata": {
        "id": "lph5g51XcQ3S"
      }
    },
    {
      "cell_type": "markdown",
      "source": [
        "### Standardization of Data\n",
        "\n",
        "In this section, standard scaler was used to transform the features to a standardized values."
      ],
      "metadata": {
        "id": "D_4Fv2G5dGRx"
      }
    },
    {
      "cell_type": "code",
      "source": [
        "from sklearn.preprocessing import StandardScaler\n",
        "\n",
        "normalize = StandardScaler()\n",
        "X_norm = normalize.fit_transform(X)"
      ],
      "metadata": {
        "id": "igt4bj6zcKF7"
      },
      "execution_count": null,
      "outputs": []
    },
    {
      "cell_type": "markdown",
      "source": [
        "## Feature Selection\n",
        "\n",
        "\n",
        "In order to determine the relevant features, a random forest classifier will be performed and the top 4 features will be used."
      ],
      "metadata": {
        "id": "uAhTnlLNK7to"
      }
    },
    {
      "cell_type": "code",
      "source": [
        "from sklearn.ensemble import RandomForestClassifier\n",
        "\n",
        "# Create a Random Forest classifier\n",
        "clf = RandomForestClassifier(n_estimators=100, random_state=42)\n",
        "\n",
        "# Fit the classifier to the data\n",
        "clf.fit(X_norm, y)\n",
        "\n",
        "# Get feature importances\n",
        "importances = clf.feature_importances_\n",
        "\n",
        "# Sort feature importances in descending order\n",
        "indices = np.argsort(importances)[::-1]\n",
        "\n",
        "# Print the feature ranking\n",
        "print(\"Feature ranking:\")\n",
        "for f in range(7):\n",
        "    print(f\"{f + 1}. Feature {indices[f]} ({importances[indices[f]]})\")\n",
        "\n",
        "# Plot the feature importances\n",
        "plt.figure()\n",
        "plt.title(\"Feature importances\")\n",
        "plt.bar(range(7), importances[indices], align=\"center\")\n",
        "plt.xticks(range(7), indices)\n",
        "plt.xlim([-1,7])\n",
        "plt.show()\n",
        "\n",
        "# Select the top k features (e.g., top 4 features)\n",
        "k = 4\n",
        "top_k_features = indices[:k]\n",
        "print(f\"Top {k} features: {top_k_features}\")"
      ],
      "metadata": {
        "colab": {
          "base_uri": "https://localhost:8080/",
          "height": 643
        },
        "id": "Bo45QtkgJWjT",
        "outputId": "20734b15-db48-4dee-95c6-d2fcab90e0d1"
      },
      "execution_count": null,
      "outputs": [
        {
          "output_type": "stream",
          "name": "stderr",
          "text": [
            "<ipython-input-23-414ff9afbccb>:7: DataConversionWarning: A column-vector y was passed when a 1d array was expected. Please change the shape of y to (n_samples,), for example using ravel().\n",
            "  clf.fit(X_norm, y)\n"
          ]
        },
        {
          "output_type": "stream",
          "name": "stdout",
          "text": [
            "Feature ranking:\n",
            "1. Feature 6 (0.2435150583592718)\n",
            "2. Feature 1 (0.22282845787573705)\n",
            "3. Feature 4 (0.1533217685936459)\n",
            "4. Feature 0 (0.12891841691003586)\n",
            "5. Feature 3 (0.09524548132864506)\n",
            "6. Feature 2 (0.08613434516640577)\n",
            "7. Feature 5 (0.07003647176625864)\n"
          ]
        },
        {
          "output_type": "display_data",
          "data": {
            "text/plain": [
              "<Figure size 640x480 with 1 Axes>"
            ],
            "image/png": "[encoded data removed]"
          },
          "metadata": {}
        },
        {
          "output_type": "stream",
          "name": "stdout",
          "text": [
            "Top 4 features: [6 1 4 0]\n"
          ]
        }
      ]
    },
    {
      "cell_type": "code",
      "source": [
        "#New Features\n",
        "\n",
        "X = X_norm[:,[0,1,4,6]]\n",
        "\n",
        "print(X)\n"
      ],
      "metadata": {
        "colab": {
          "base_uri": "https://localhost:8080/"
        },
        "id": "T5WzkgWqJrp5",
        "outputId": "d53029cc-29c1-48d0-f206-a9a8f85ed234"
      },
      "execution_count": null,
      "outputs": [
        {
          "output_type": "stream",
          "name": "stdout",
          "text": [
            "[[ 0.31404927  0.38097045  0.30713976  0.36104809]\n",
            " [-0.14585464 -0.03796935 -0.11671868  0.05101724]\n",
            " [ 0.43804991  0.38121832  0.42145932  0.48323472]\n",
            " ...\n",
            " [ 0.7655798   0.2567916   0.8737985   0.90282269]\n",
            " [ 0.53730252  0.78273992  0.56335834  0.73210502]\n",
            " [ 0.2427824   1.20382838  0.25850617  0.80339011]]\n"
          ]
        }
      ]
    },
    {
      "cell_type": "markdown",
      "source": [
        "### Remarks:\n",
        "\n",
        "As shown the top 4 features are 0, 1, 4, and 6. These features will be used in the model training. In the a trial code that was created prior to the following model creations in the activity, it showed that using all the features resulted to patterns not being learned. Therefore, performing a feature importance is a must and as shown in the next lines of code, the model performed significantly better compared to the trial code."
      ],
      "metadata": {
        "id": "7lCLStc7JvjA"
      }
    },
    {
      "cell_type": "markdown",
      "source": [
        "# Creating the Model"
      ],
      "metadata": {
        "id": "ER2Zkr6Sd2Gc"
      }
    },
    {
      "cell_type": "code",
      "source": [
        "from keras.models  import Sequential\n",
        "from keras.layers import Input, Dense\n",
        "from keras.optimizers import SGD"
      ],
      "metadata": {
        "id": "ldj8cffWeJKm"
      },
      "execution_count": null,
      "outputs": []
    },
    {
      "cell_type": "code",
      "source": [
        "model = Sequential([\n",
        "            Dense(4, activation='relu', input_shape=(X.shape[1],)),\n",
        "            Dense(3, activation='relu', input_shape=(X.shape[1],)),\n",
        "            Dense(1, activation='sigmoid')\n",
        "        ])\n",
        "\n",
        "optimizer = SGD(learning_rate = 0.02)\n",
        "model.compile(optimizer= optimizer,\n",
        "              loss='binary_crossentropy',\n",
        "              metrics=['accuracy'])\n",
        "\n",
        "model.fit(X,y, epochs=150, batch_size=32, verbose=0)\n",
        "# evaluate the model\n",
        "scores = model.evaluate(X, y, verbose=0)\n",
        "print(\"%s: %.2f%%\" % (model.metrics_names[1], scores[1]*100))"
      ],
      "metadata": {
        "colab": {
          "base_uri": "https://localhost:8080/"
        },
        "id": "92yXseiXdIyR",
        "outputId": "31d249ae-b5f8-4477-8672-7f0cef9b3cd9"
      },
      "execution_count": null,
      "outputs": [
        {
          "output_type": "stream",
          "name": "stdout",
          "text": [
            "accuracy: 84.63%\n"
          ]
        }
      ]
    },
    {
      "cell_type": "markdown",
      "source": [
        "# Tasks:\n",
        "Perform the following tasks:\n",
        "1. Save a model in HDF5 format\n",
        "2. Save a model and load the model in a JSON format\n",
        "3. Save a model and load the model in a YAML format\n",
        "4. Checkpoint Neural Network Model Improvements\n",
        "5. Checkpoint Best Neural Network Model only\n",
        "6. Load a saved Neural Network model\n",
        "7. Visualize Model Training History in Keras\n",
        "8. Show the application of Dropout Regularization\n",
        "9. Show the application of Dropout on the visible layer\n",
        "10. Show the application of Dropout on the hidden layer\n",
        "11. Show the application of a time-based learning rate schedule\n",
        "12. Show the application of a drop-based learning rate schedule\n"
      ],
      "metadata": {
        "id": "sWPk7jNngprN"
      }
    },
    {
      "cell_type": "markdown",
      "source": [
        "## 1. Save a model in HDF5 Format"
      ],
      "metadata": {
        "id": "D5vUhAFfhHY7"
      }
    },
    {
      "cell_type": "code",
      "source": [
        "from google.colab import drive\n",
        "drive.mount('/content/drive')"
      ],
      "metadata": {
        "colab": {
          "base_uri": "https://localhost:8080/"
        },
        "id": "mav0g8aCwdJj",
        "outputId": "bac553ec-2ed1-45e4-ab6e-7618e7c3b956"
      },
      "execution_count": null,
      "outputs": [
        {
          "output_type": "stream",
          "name": "stdout",
          "text": [
            "Drive already mounted at /content/drive; to attempt to forcibly remount, call drive.mount(\"/content/drive\", force_remount=True).\n"
          ]
        }
      ]
    },
    {
      "cell_type": "code",
      "source": [
        "!pip install h5py"
      ],
      "metadata": {
        "colab": {
          "base_uri": "https://localhost:8080/"
        },
        "id": "4B6H3M9UeItt",
        "outputId": "435da000-f11e-45e3-c762-bedaaf293fad"
      },
      "execution_count": null,
      "outputs": [
        {
          "output_type": "stream",
          "name": "stdout",
          "text": [
            "Requirement already satisfied: h5py in /usr/local/lib/python3.10/dist-packages (3.9.0)\n",
            "Requirement already satisfied: numpy>=1.17.3 in /usr/local/lib/python3.10/dist-packages (from h5py) (1.25.2)\n"
          ]
        }
      ]
    },
    {
      "cell_type": "code",
      "source": [
        "#Method 1:\n",
        "\n",
        "model.save(\"/content/drive/MyDrive/CPE018 - Assignment 8.1 / model.h5\")\n",
        "print(\"Saved model to disk\")\n",
        "\n",
        "\n",
        "# Method 2:\n",
        "model.save_weights(\"/content/drive/MyDrive/CPE018 - Assignment 8.1 / model.h5\")\n",
        "print(\"Saved model to disk\")\n",
        "\n",
        "\n"
      ],
      "metadata": {
        "colab": {
          "base_uri": "https://localhost:8080/"
        },
        "id": "ckVq7ge0vZpi",
        "outputId": "a0dcfea6-9ade-4d41-bf5a-a06c3f8e9076"
      },
      "execution_count": null,
      "outputs": [
        {
          "output_type": "stream",
          "name": "stdout",
          "text": [
            "Saved model to disk\n"
          ]
        }
      ]
    },
    {
      "cell_type": "markdown",
      "source": [
        "### **Proof:**\n",
        "\n",
        "![image.png](data:image/png;base64,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)\n",
        "\n",
        "![image.png](data:image/png;base64,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)\n",
        "\n"
      ],
      "metadata": {
        "id": "PHmbspBCznZ5"
      }
    },
    {
      "cell_type": "markdown",
      "source": [
        "### Remarks and Observations:\n",
        "\n",
        "The code shows two different ways to save a model. The first one is saving a model using save() function where it saves the entire model. On the other hand, the other code saves only the weights of the model to a HDF5 file. If the goal is to save the wntire model, method 1 should be used as it encompases all the architecture, weights and training configurations. On the other hand, if the only goal is to save a weight and be used as a manual checkpoint of the trained parameters of the model.\n",
        "\n",
        "\n",
        "---\n",
        "\n",
        "References:\n",
        "- https://www.tensorflow.org/tutorials/keras/save_and_load\n",
        "- https://ksingh7.medium.com/part-ii-converting-saving-keras-model-as-a-single-hdf5-h5-file-67d1fd50cc90"
      ],
      "metadata": {
        "id": "3JzFKdFAkQN8"
      }
    },
    {
      "cell_type": "markdown",
      "source": [
        "## 2. Save a model and load the model in a JSON format"
      ],
      "metadata": {
        "id": "BTcId2IQxCd5"
      }
    },
    {
      "cell_type": "code",
      "source": [
        "from tensorflow.keras.models import Sequential, model_from_json\n",
        "# serialize model to JSON\n",
        "model_json = model.to_json()\n",
        "with open(\"model.json\", \"w\") as json_file:\n",
        "    json_file.write(model_json)\n",
        "\n",
        "# serialize weights to HDF5\n",
        "model.save_weights(\"/content/drive/MyDrive/CPE018 - Assignment 8.1 / model.h5\")\n",
        "print(\"Saved model to disk\")\n"
      ],
      "metadata": {
        "colab": {
          "base_uri": "https://localhost:8080/"
        },
        "id": "phW32VfAyu2V",
        "outputId": "db4b41fa-1b58-46aa-d43f-da6eaaf15ac0"
      },
      "execution_count": null,
      "outputs": [
        {
          "output_type": "stream",
          "name": "stdout",
          "text": [
            "Saved model to disk\n"
          ]
        }
      ]
    },
    {
      "cell_type": "code",
      "source": [
        "# load json and create model\n",
        "json_file = open('model.json', 'r')\n",
        "loaded_model_json = json_file.read()\n",
        "json_file.close()\n",
        "loaded_model = model_from_json(loaded_model_json)\n",
        "# load weights into new model\n",
        "loaded_model.load_weights(\"/content/drive/MyDrive/CPE018 - Assignment 8.1 / model.h5\")\n",
        "print(\"Loaded model from disk\")"
      ],
      "metadata": {
        "colab": {
          "base_uri": "https://localhost:8080/"
        },
        "id": "WjYR3OlB0nMA",
        "outputId": "379f0f28-a86e-4bdc-9cff-55df85c61f3b"
      },
      "execution_count": null,
      "outputs": [
        {
          "output_type": "stream",
          "name": "stdout",
          "text": [
            "Loaded model from disk\n"
          ]
        }
      ]
    },
    {
      "cell_type": "code",
      "source": [
        "# evaluate loaded model on test data\n",
        "loaded_model.compile(loss='binary_crossentropy', optimizer='rmsprop', metrics=['accuracy'])\n",
        "score = loaded_model.evaluate(X, y, verbose=0)\n",
        "print(\"%s: %.2f%%\" % (loaded_model.metrics_names[1], score[1]*100))"
      ],
      "metadata": {
        "colab": {
          "base_uri": "https://localhost:8080/"
        },
        "id": "8Y693n2W1WTm",
        "outputId": "cfdddbd9-5b40-43e3-e65f-cbcb717da23a"
      },
      "execution_count": null,
      "outputs": [
        {
          "output_type": "stream",
          "name": "stdout",
          "text": [
            "accuracy: 86.36%\n"
          ]
        }
      ]
    },
    {
      "cell_type": "markdown",
      "source": [
        "### **Remarks**:\n",
        "\n",
        "In the screenshot above, the model was successfuly saved to .json file. This file format has the architecture of the model. By saving this model along with the weights stored in an h5 file format, combining these two will successully load the data. The json file extension enables the programmers to save the model to a readable code.\n",
        "\n",
        "\n",
        "\n",
        "---\n",
        "References:\n",
        "- https://machinelearningmastery.com/save-load-keras-deep-learning-models/\n",
        "- https://www.turing.com/kb/what-is-json"
      ],
      "metadata": {
        "id": "g1e1pnq1o6HP"
      }
    },
    {
      "cell_type": "markdown",
      "source": [
        "## 3. Save a model and load the model in a YAML format"
      ],
      "metadata": {
        "id": "AdnUp5kN1pyb"
      }
    },
    {
      "cell_type": "code",
      "source": [
        "# serialize model to YAML\n",
        "model_yaml = model.to_json()\n",
        "with open(\"model.yaml\", \"w\") as yaml_file:\n",
        "    yaml_file.write(model_yaml)\n",
        "# serialize weights to HDF5\n",
        "model.save_weights(\"/content/drive/MyDrive/Colab Notebooks/model_yaml.h5\")\n",
        "print(\"Saved model to disk\")"
      ],
      "metadata": {
        "colab": {
          "base_uri": "https://localhost:8080/"
        },
        "id": "cwt1Pxsq1uVN",
        "outputId": "61e7cca7-0d48-4caa-bb93-fd95a696d6fc"
      },
      "execution_count": null,
      "outputs": [
        {
          "output_type": "stream",
          "name": "stdout",
          "text": [
            "Saved model to disk\n"
          ]
        }
      ]
    },
    {
      "cell_type": "markdown",
      "source": [
        "### **Proof:**\n",
        "\n",
        "![image.png](data:image/png;base64,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)\n",
        "\n",
        "![image.png](data:image/png;base64,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)"
      ],
      "metadata": {
        "id": "1s5rbZtz29BL"
      }
    },
    {
      "cell_type": "code",
      "source": [
        "from tensorflow.keras.models import Sequential, model_from_yaml\n",
        "\n",
        "# load YAML and create model\n",
        "yaml_file = open('model.yaml', 'r')\n",
        "loaded_model_yaml = yaml_file.read()\n",
        "yaml_file.close()\n",
        "loaded_model = model_from_json(loaded_model_yaml)\n",
        "# load weights into new model\n",
        "loaded_model.load_weights(\"/content/drive/MyDrive/Colab Notebooks/model_yaml.h5\")\n",
        "print(\"Loaded model from disk\")\n"
      ],
      "metadata": {
        "colab": {
          "base_uri": "https://localhost:8080/"
        },
        "id": "Ku2XswFG2xjq",
        "outputId": "bfa58729-f1ae-4cf2-d92f-a1acc25f562e"
      },
      "execution_count": null,
      "outputs": [
        {
          "output_type": "stream",
          "name": "stdout",
          "text": [
            "Loaded model from disk\n"
          ]
        }
      ]
    },
    {
      "cell_type": "code",
      "source": [
        "# evaluate loaded model on test data\n",
        "loaded_model.compile(loss='binary_crossentropy', optimizer='rmsprop', metrics=['accuracy'])\n",
        "score = loaded_model.evaluate(X, y, verbose=0)\n",
        "print(\"YAML\")\n",
        "print(\"%s: %.2f%%\" % (loaded_model.metrics_names[1], score[1]*100))"
      ],
      "metadata": {
        "colab": {
          "base_uri": "https://localhost:8080/"
        },
        "id": "OoXkmTio3Vxf",
        "outputId": "6fc62a71-9930-41d2-c191-0cd7089056c8"
      },
      "execution_count": null,
      "outputs": [
        {
          "output_type": "stream",
          "name": "stdout",
          "text": [
            "YAML\n",
            "accuracy: 86.36%\n"
          ]
        }
      ]
    },
    {
      "cell_type": "markdown",
      "source": [
        "### Remarks:\n",
        "\n",
        "In this code, another file format was introduced, the YAML Ain't Markup Language (YAML) file format. It has the same function as the .json file, but their main difference is that yaml format is more readable as it is more similar to a Python code. The JSON file also is more secure and compact compared to YAML file.\n",
        "\n",
        "\n",
        "---\n",
        "**Refence:**\n",
        "- https://ksingh7.medium.com/part-ii-converting-saving-keras-model-as-a-single-hdf5-h5-file-67d1fd50cc90\n",
        "-https://www.cloudbees.com/blog/yaml-tutorial-everything-you-need-get-started\n",
        "- https://www.snaplogic.com/blog/json-vs-yaml-whats-the-difference-and-which-one-is-right-for-your-enterprise"
      ],
      "metadata": {
        "id": "C4RO9zbbyhuN"
      }
    },
    {
      "cell_type": "markdown",
      "source": [
        "## 4. Checkpoint Neural Network Model Improvements"
      ],
      "metadata": {
        "id": "3KP04POD4Bgj"
      }
    },
    {
      "cell_type": "code",
      "source": [
        "from keras.callbacks import ModelCheckpoint\n",
        "# checkpoint\n",
        "filepath=\"weights-improvement-{epoch:02d}-{val_accuracy:.2f}.hdf5\"\n",
        "checkpoint = ModelCheckpoint(filepath, monitor='val_accuracy', verbose=1, save_best_only=True, mode='max')\n",
        "callbacks_list = [checkpoint]\n"
      ],
      "metadata": {
        "id": "ifir-eIZ5uwh"
      },
      "execution_count": null,
      "outputs": []
    },
    {
      "cell_type": "code",
      "source": [
        "# Fit the model\n",
        "model.fit(X, y, validation_split=0.33, epochs=150, batch_size=32, callbacks=callbacks_list, verbose=0)"
      ],
      "metadata": {
        "colab": {
          "base_uri": "https://localhost:8080/"
        },
        "id": "EFg_Bttu7F6T",
        "outputId": "85289fb2-5004-4822-a5f4-b82f37edff4f"
      },
      "execution_count": null,
      "outputs": [
        {
          "output_type": "stream",
          "name": "stdout",
          "text": [
            "\n",
            "Epoch 1: val_accuracy improved from -inf to 0.69231, saving model to weights-improvement-01-0.69.hdf5\n",
            "\n",
            "Epoch 2: val_accuracy did not improve from 0.69231\n"
          ]
        },
        {
          "output_type": "stream",
          "name": "stderr",
          "text": [
            "/usr/local/lib/python3.10/dist-packages/keras/src/engine/training.py:3103: UserWarning: You are saving your model as an HDF5 file via `model.save()`. This file format is considered legacy. We recommend using instead the native Keras format, e.g. `model.save('my_model.keras')`.\n",
            "  saving_api.save_model(\n"
          ]
        },
        {
          "output_type": "stream",
          "name": "stdout",
          "text": [
            "\n",
            "Epoch 3: val_accuracy improved from 0.69231 to 0.72470, saving model to weights-improvement-03-0.72.hdf5\n",
            "\n",
            "Epoch 4: val_accuracy did not improve from 0.72470\n",
            "\n",
            "Epoch 5: val_accuracy did not improve from 0.72470\n",
            "\n",
            "Epoch 6: val_accuracy did not improve from 0.72470\n",
            "\n",
            "Epoch 7: val_accuracy did not improve from 0.72470\n",
            "\n",
            "Epoch 8: val_accuracy did not improve from 0.72470\n",
            "\n",
            "Epoch 9: val_accuracy did not improve from 0.72470\n",
            "\n",
            "Epoch 10: val_accuracy did not improve from 0.72470\n",
            "\n",
            "Epoch 11: val_accuracy did not improve from 0.72470\n",
            "\n",
            "Epoch 12: val_accuracy improved from 0.72470 to 0.78138, saving model to weights-improvement-12-0.78.hdf5\n",
            "\n",
            "Epoch 13: val_accuracy did not improve from 0.78138\n",
            "\n",
            "Epoch 14: val_accuracy did not improve from 0.78138\n",
            "\n",
            "Epoch 15: val_accuracy did not improve from 0.78138\n",
            "\n",
            "Epoch 16: val_accuracy did not improve from 0.78138\n",
            "\n",
            "Epoch 17: val_accuracy did not improve from 0.78138\n",
            "\n",
            "Epoch 18: val_accuracy did not improve from 0.78138\n",
            "\n",
            "Epoch 19: val_accuracy did not improve from 0.78138\n",
            "\n",
            "Epoch 20: val_accuracy did not improve from 0.78138\n",
            "\n",
            "Epoch 21: val_accuracy did not improve from 0.78138\n",
            "\n",
            "Epoch 22: val_accuracy did not improve from 0.78138\n",
            "\n",
            "Epoch 23: val_accuracy did not improve from 0.78138\n",
            "\n",
            "Epoch 24: val_accuracy did not improve from 0.78138\n",
            "\n",
            "Epoch 25: val_accuracy did not improve from 0.78138\n",
            "\n",
            "Epoch 26: val_accuracy did not improve from 0.78138\n",
            "\n",
            "Epoch 27: val_accuracy did not improve from 0.78138\n",
            "\n",
            "Epoch 28: val_accuracy did not improve from 0.78138\n",
            "\n",
            "Epoch 29: val_accuracy did not improve from 0.78138\n",
            "\n",
            "Epoch 30: val_accuracy did not improve from 0.78138\n",
            "\n",
            "Epoch 31: val_accuracy did not improve from 0.78138\n",
            "\n",
            "Epoch 32: val_accuracy did not improve from 0.78138\n",
            "\n",
            "Epoch 33: val_accuracy did not improve from 0.78138\n",
            "\n",
            "Epoch 34: val_accuracy did not improve from 0.78138\n",
            "\n",
            "Epoch 35: val_accuracy did not improve from 0.78138\n",
            "\n",
            "Epoch 36: val_accuracy did not improve from 0.78138\n",
            "\n",
            "Epoch 37: val_accuracy did not improve from 0.78138\n",
            "\n",
            "Epoch 38: val_accuracy did not improve from 0.78138\n",
            "\n",
            "Epoch 39: val_accuracy did not improve from 0.78138\n",
            "\n",
            "Epoch 40: val_accuracy did not improve from 0.78138\n",
            "\n",
            "Epoch 41: val_accuracy did not improve from 0.78138\n",
            "\n",
            "Epoch 42: val_accuracy did not improve from 0.78138\n",
            "\n",
            "Epoch 43: val_accuracy did not improve from 0.78138\n",
            "\n",
            "Epoch 44: val_accuracy improved from 0.78138 to 0.78947, saving model to weights-improvement-44-0.79.hdf5\n",
            "\n",
            "Epoch 45: val_accuracy did not improve from 0.78947\n",
            "\n",
            "Epoch 46: val_accuracy did not improve from 0.78947\n",
            "\n",
            "Epoch 47: val_accuracy did not improve from 0.78947\n",
            "\n",
            "Epoch 48: val_accuracy did not improve from 0.78947\n",
            "\n",
            "Epoch 49: val_accuracy did not improve from 0.78947\n",
            "\n",
            "Epoch 50: val_accuracy did not improve from 0.78947\n",
            "\n",
            "Epoch 51: val_accuracy did not improve from 0.78947\n",
            "\n",
            "Epoch 52: val_accuracy did not improve from 0.78947\n",
            "\n",
            "Epoch 53: val_accuracy did not improve from 0.78947\n",
            "\n",
            "Epoch 54: val_accuracy did not improve from 0.78947\n",
            "\n",
            "Epoch 55: val_accuracy did not improve from 0.78947\n",
            "\n",
            "Epoch 56: val_accuracy did not improve from 0.78947\n",
            "\n",
            "Epoch 57: val_accuracy did not improve from 0.78947\n",
            "\n",
            "Epoch 58: val_accuracy did not improve from 0.78947\n",
            "\n",
            "Epoch 59: val_accuracy did not improve from 0.78947\n",
            "\n",
            "Epoch 60: val_accuracy did not improve from 0.78947\n",
            "\n",
            "Epoch 61: val_accuracy did not improve from 0.78947\n",
            "\n",
            "Epoch 62: val_accuracy did not improve from 0.78947\n",
            "\n",
            "Epoch 63: val_accuracy did not improve from 0.78947\n",
            "\n",
            "Epoch 64: val_accuracy did not improve from 0.78947\n",
            "\n",
            "Epoch 65: val_accuracy did not improve from 0.78947\n",
            "\n",
            "Epoch 66: val_accuracy did not improve from 0.78947\n",
            "\n",
            "Epoch 67: val_accuracy did not improve from 0.78947\n",
            "\n",
            "Epoch 68: val_accuracy did not improve from 0.78947\n",
            "\n",
            "Epoch 69: val_accuracy did not improve from 0.78947\n",
            "\n",
            "Epoch 70: val_accuracy did not improve from 0.78947\n",
            "\n",
            "Epoch 71: val_accuracy did not improve from 0.78947\n",
            "\n",
            "Epoch 72: val_accuracy did not improve from 0.78947\n",
            "\n",
            "Epoch 73: val_accuracy did not improve from 0.78947\n",
            "\n",
            "Epoch 74: val_accuracy did not improve from 0.78947\n",
            "\n",
            "Epoch 75: val_accuracy did not improve from 0.78947\n",
            "\n",
            "Epoch 76: val_accuracy did not improve from 0.78947\n",
            "\n",
            "Epoch 77: val_accuracy did not improve from 0.78947\n",
            "\n",
            "Epoch 78: val_accuracy did not improve from 0.78947\n",
            "\n",
            "Epoch 79: val_accuracy did not improve from 0.78947\n",
            "\n",
            "Epoch 80: val_accuracy did not improve from 0.78947\n",
            "\n",
            "Epoch 81: val_accuracy did not improve from 0.78947\n",
            "\n",
            "Epoch 82: val_accuracy did not improve from 0.78947\n",
            "\n",
            "Epoch 83: val_accuracy did not improve from 0.78947\n",
            "\n",
            "Epoch 84: val_accuracy did not improve from 0.78947\n",
            "\n",
            "Epoch 85: val_accuracy did not improve from 0.78947\n",
            "\n",
            "Epoch 86: val_accuracy did not improve from 0.78947\n",
            "\n",
            "Epoch 87: val_accuracy did not improve from 0.78947\n",
            "\n",
            "Epoch 88: val_accuracy did not improve from 0.78947\n",
            "\n",
            "Epoch 89: val_accuracy did not improve from 0.78947\n",
            "\n",
            "Epoch 90: val_accuracy did not improve from 0.78947\n",
            "\n",
            "Epoch 91: val_accuracy did not improve from 0.78947\n",
            "\n",
            "Epoch 92: val_accuracy did not improve from 0.78947\n",
            "\n",
            "Epoch 93: val_accuracy did not improve from 0.78947\n",
            "\n",
            "Epoch 94: val_accuracy did not improve from 0.78947\n",
            "\n",
            "Epoch 95: val_accuracy did not improve from 0.78947\n",
            "\n",
            "Epoch 96: val_accuracy did not improve from 0.78947\n",
            "\n",
            "Epoch 97: val_accuracy did not improve from 0.78947\n",
            "\n",
            "Epoch 98: val_accuracy did not improve from 0.78947\n",
            "\n",
            "Epoch 99: val_accuracy did not improve from 0.78947\n",
            "\n",
            "Epoch 100: val_accuracy did not improve from 0.78947\n",
            "\n",
            "Epoch 101: val_accuracy did not improve from 0.78947\n",
            "\n",
            "Epoch 102: val_accuracy did not improve from 0.78947\n",
            "\n",
            "Epoch 103: val_accuracy did not improve from 0.78947\n",
            "\n",
            "Epoch 104: val_accuracy did not improve from 0.78947\n",
            "\n",
            "Epoch 105: val_accuracy did not improve from 0.78947\n",
            "\n",
            "Epoch 106: val_accuracy did not improve from 0.78947\n",
            "\n",
            "Epoch 107: val_accuracy did not improve from 0.78947\n",
            "\n",
            "Epoch 108: val_accuracy did not improve from 0.78947\n",
            "\n",
            "Epoch 109: val_accuracy did not improve from 0.78947\n",
            "\n",
            "Epoch 110: val_accuracy did not improve from 0.78947\n",
            "\n",
            "Epoch 111: val_accuracy did not improve from 0.78947\n",
            "\n",
            "Epoch 112: val_accuracy did not improve from 0.78947\n",
            "\n",
            "Epoch 113: val_accuracy did not improve from 0.78947\n",
            "\n",
            "Epoch 114: val_accuracy did not improve from 0.78947\n",
            "\n",
            "Epoch 115: val_accuracy did not improve from 0.78947\n",
            "\n",
            "Epoch 116: val_accuracy did not improve from 0.78947\n",
            "\n",
            "Epoch 117: val_accuracy did not improve from 0.78947\n",
            "\n",
            "Epoch 118: val_accuracy improved from 0.78947 to 0.79352, saving model to weights-improvement-118-0.79.hdf5\n",
            "\n",
            "Epoch 119: val_accuracy did not improve from 0.79352\n",
            "\n",
            "Epoch 120: val_accuracy did not improve from 0.79352\n",
            "\n",
            "Epoch 121: val_accuracy did not improve from 0.79352\n",
            "\n",
            "Epoch 122: val_accuracy did not improve from 0.79352\n",
            "\n",
            "Epoch 123: val_accuracy did not improve from 0.79352\n",
            "\n",
            "Epoch 124: val_accuracy did not improve from 0.79352\n",
            "\n",
            "Epoch 125: val_accuracy did not improve from 0.79352\n",
            "\n",
            "Epoch 126: val_accuracy did not improve from 0.79352\n",
            "\n",
            "Epoch 127: val_accuracy did not improve from 0.79352\n",
            "\n",
            "Epoch 128: val_accuracy did not improve from 0.79352\n",
            "\n",
            "Epoch 129: val_accuracy did not improve from 0.79352\n",
            "\n",
            "Epoch 130: val_accuracy did not improve from 0.79352\n",
            "\n",
            "Epoch 131: val_accuracy did not improve from 0.79352\n",
            "\n",
            "Epoch 132: val_accuracy did not improve from 0.79352\n",
            "\n",
            "Epoch 133: val_accuracy did not improve from 0.79352\n",
            "\n",
            "Epoch 134: val_accuracy did not improve from 0.79352\n",
            "\n",
            "Epoch 135: val_accuracy did not improve from 0.79352\n",
            "\n",
            "Epoch 136: val_accuracy did not improve from 0.79352\n",
            "\n",
            "Epoch 137: val_accuracy did not improve from 0.79352\n",
            "\n",
            "Epoch 138: val_accuracy did not improve from 0.79352\n",
            "\n",
            "Epoch 139: val_accuracy did not improve from 0.79352\n",
            "\n",
            "Epoch 140: val_accuracy did not improve from 0.79352\n",
            "\n",
            "Epoch 141: val_accuracy did not improve from 0.79352\n",
            "\n",
            "Epoch 142: val_accuracy did not improve from 0.79352\n",
            "\n",
            "Epoch 143: val_accuracy did not improve from 0.79352\n",
            "\n",
            "Epoch 144: val_accuracy did not improve from 0.79352\n",
            "\n",
            "Epoch 145: val_accuracy did not improve from 0.79352\n",
            "\n",
            "Epoch 146: val_accuracy did not improve from 0.79352\n",
            "\n",
            "Epoch 147: val_accuracy did not improve from 0.79352\n",
            "\n",
            "Epoch 148: val_accuracy did not improve from 0.79352\n",
            "\n",
            "Epoch 149: val_accuracy did not improve from 0.79352\n",
            "\n",
            "Epoch 150: val_accuracy did not improve from 0.79352\n"
          ]
        },
        {
          "output_type": "execute_result",
          "data": {
            "text/plain": [
              "<keras.src.callbacks.History at 0x7d5a34463a90>"
            ]
          },
          "metadata": {},
          "execution_count": 194
        }
      ]
    },
    {
      "cell_type": "markdown",
      "source": [
        "### **Proof:**\n",
        "\n",
        "![image.png](data:image/png;base64,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)"
      ],
      "metadata": {
        "id": "-oSlboYD9qbF"
      }
    },
    {
      "cell_type": "markdown",
      "source": [
        "### **Remarks**\n",
        "\n",
        "The code basically saves a weight of the model to HDF5 file. It will only save a file or a checkpoint if only there is an improvement in the performance of the model.\n",
        "\n",
        "\n",
        "---\n",
        "Reference:\n",
        "- https://machinelearningmastery.com/check-point-deep-learning-models-keras/#:~:text=Checkpoint%20Neural%20Network%20Model%20Improvements,of%20diabetes%20binary%20classification%20problem.\n",
        "\n"
      ],
      "metadata": {
        "id": "gHob2NU00SIP"
      }
    },
    {
      "cell_type": "markdown",
      "source": [
        "## 5. Checkpoint Best Neural Network Model only"
      ],
      "metadata": {
        "id": "JBo77eDh6mRw"
      }
    },
    {
      "cell_type": "code",
      "source": [
        "# checkpoint\n",
        "filepath=\"weights.best.hdf5\"\n",
        "checkpoint = ModelCheckpoint(filepath, monitor='val_accuracy', verbose=1, save_best_only=True, mode='max')\n",
        "callbacks_list = [checkpoint]\n"
      ],
      "metadata": {
        "id": "XkhBl2Z-6sJt"
      },
      "execution_count": null,
      "outputs": []
    },
    {
      "cell_type": "code",
      "source": [
        "# Fit the model\n",
        "model.fit(X, y, validation_split=0.33, epochs=150, batch_size=32, callbacks=callbacks_list, verbose=0)"
      ],
      "metadata": {
        "colab": {
          "base_uri": "https://localhost:8080/"
        },
        "id": "pawM-Jm17she",
        "outputId": "a9fb9315-ccd3-41d8-c767-434e4e07a1f4"
      },
      "execution_count": null,
      "outputs": [
        {
          "output_type": "stream",
          "name": "stdout",
          "text": [
            "\n",
            "Epoch 1: val_accuracy improved from -inf to 0.68421, saving model to weights.best.hdf5\n",
            "\n",
            "Epoch 2: val_accuracy did not improve from 0.68421\n"
          ]
        },
        {
          "output_type": "stream",
          "name": "stderr",
          "text": [
            "/usr/local/lib/python3.10/dist-packages/keras/src/engine/training.py:3103: UserWarning: You are saving your model as an HDF5 file via `model.save()`. This file format is considered legacy. We recommend using instead the native Keras format, e.g. `model.save('my_model.keras')`.\n",
            "  saving_api.save_model(\n"
          ]
        },
        {
          "output_type": "stream",
          "name": "stdout",
          "text": [
            "\n",
            "Epoch 3: val_accuracy did not improve from 0.68421\n",
            "\n",
            "Epoch 4: val_accuracy did not improve from 0.68421\n",
            "\n",
            "Epoch 5: val_accuracy did not improve from 0.68421\n",
            "\n",
            "Epoch 6: val_accuracy improved from 0.68421 to 0.68826, saving model to weights.best.hdf5\n",
            "\n",
            "Epoch 7: val_accuracy did not improve from 0.68826\n",
            "\n",
            "Epoch 8: val_accuracy did not improve from 0.68826\n",
            "\n",
            "Epoch 9: val_accuracy did not improve from 0.68826\n",
            "\n",
            "Epoch 10: val_accuracy did not improve from 0.68826\n",
            "\n",
            "Epoch 11: val_accuracy did not improve from 0.68826\n",
            "\n",
            "Epoch 12: val_accuracy did not improve from 0.68826\n",
            "\n",
            "Epoch 13: val_accuracy did not improve from 0.68826\n",
            "\n",
            "Epoch 14: val_accuracy improved from 0.68826 to 0.75709, saving model to weights.best.hdf5\n",
            "\n",
            "Epoch 15: val_accuracy did not improve from 0.75709\n",
            "\n",
            "Epoch 16: val_accuracy did not improve from 0.75709\n",
            "\n",
            "Epoch 17: val_accuracy did not improve from 0.75709\n",
            "\n",
            "Epoch 18: val_accuracy did not improve from 0.75709\n",
            "\n",
            "Epoch 19: val_accuracy did not improve from 0.75709\n",
            "\n",
            "Epoch 20: val_accuracy did not improve from 0.75709\n",
            "\n",
            "Epoch 21: val_accuracy did not improve from 0.75709\n",
            "\n",
            "Epoch 22: val_accuracy did not improve from 0.75709\n",
            "\n",
            "Epoch 23: val_accuracy did not improve from 0.75709\n",
            "\n",
            "Epoch 24: val_accuracy did not improve from 0.75709\n",
            "\n",
            "Epoch 25: val_accuracy did not improve from 0.75709\n",
            "\n",
            "Epoch 26: val_accuracy did not improve from 0.75709\n",
            "\n",
            "Epoch 27: val_accuracy did not improve from 0.75709\n",
            "\n",
            "Epoch 28: val_accuracy did not improve from 0.75709\n",
            "\n",
            "Epoch 29: val_accuracy did not improve from 0.75709\n",
            "\n",
            "Epoch 30: val_accuracy did not improve from 0.75709\n",
            "\n",
            "Epoch 31: val_accuracy did not improve from 0.75709\n",
            "\n",
            "Epoch 32: val_accuracy did not improve from 0.75709\n",
            "\n",
            "Epoch 33: val_accuracy did not improve from 0.75709\n",
            "\n",
            "Epoch 34: val_accuracy did not improve from 0.75709\n",
            "\n",
            "Epoch 35: val_accuracy did not improve from 0.75709\n",
            "\n",
            "Epoch 36: val_accuracy did not improve from 0.75709\n",
            "\n",
            "Epoch 37: val_accuracy did not improve from 0.75709\n",
            "\n",
            "Epoch 38: val_accuracy did not improve from 0.75709\n",
            "\n",
            "Epoch 39: val_accuracy did not improve from 0.75709\n",
            "\n",
            "Epoch 40: val_accuracy did not improve from 0.75709\n",
            "\n",
            "Epoch 41: val_accuracy did not improve from 0.75709\n",
            "\n",
            "Epoch 42: val_accuracy improved from 0.75709 to 0.78543, saving model to weights.best.hdf5\n",
            "\n",
            "Epoch 43: val_accuracy did not improve from 0.78543\n",
            "\n",
            "Epoch 44: val_accuracy did not improve from 0.78543\n",
            "\n",
            "Epoch 45: val_accuracy did not improve from 0.78543\n",
            "\n",
            "Epoch 46: val_accuracy did not improve from 0.78543\n",
            "\n",
            "Epoch 47: val_accuracy did not improve from 0.78543\n",
            "\n",
            "Epoch 48: val_accuracy did not improve from 0.78543\n",
            "\n",
            "Epoch 49: val_accuracy did not improve from 0.78543\n",
            "\n",
            "Epoch 50: val_accuracy did not improve from 0.78543\n",
            "\n",
            "Epoch 51: val_accuracy did not improve from 0.78543\n",
            "\n",
            "Epoch 52: val_accuracy did not improve from 0.78543\n",
            "\n",
            "Epoch 53: val_accuracy did not improve from 0.78543\n",
            "\n",
            "Epoch 54: val_accuracy did not improve from 0.78543\n",
            "\n",
            "Epoch 55: val_accuracy did not improve from 0.78543\n",
            "\n",
            "Epoch 56: val_accuracy did not improve from 0.78543\n",
            "\n",
            "Epoch 57: val_accuracy did not improve from 0.78543\n",
            "\n",
            "Epoch 58: val_accuracy did not improve from 0.78543\n",
            "\n",
            "Epoch 59: val_accuracy did not improve from 0.78543\n",
            "\n",
            "Epoch 60: val_accuracy did not improve from 0.78543\n",
            "\n",
            "Epoch 61: val_accuracy did not improve from 0.78543\n",
            "\n",
            "Epoch 62: val_accuracy did not improve from 0.78543\n",
            "\n",
            "Epoch 63: val_accuracy did not improve from 0.78543\n",
            "\n",
            "Epoch 64: val_accuracy did not improve from 0.78543\n",
            "\n",
            "Epoch 65: val_accuracy did not improve from 0.78543\n",
            "\n",
            "Epoch 66: val_accuracy did not improve from 0.78543\n",
            "\n",
            "Epoch 67: val_accuracy did not improve from 0.78543\n",
            "\n",
            "Epoch 68: val_accuracy did not improve from 0.78543\n",
            "\n",
            "Epoch 69: val_accuracy did not improve from 0.78543\n",
            "\n",
            "Epoch 70: val_accuracy did not improve from 0.78543\n",
            "\n",
            "Epoch 71: val_accuracy did not improve from 0.78543\n",
            "\n",
            "Epoch 72: val_accuracy did not improve from 0.78543\n",
            "\n",
            "Epoch 73: val_accuracy did not improve from 0.78543\n",
            "\n",
            "Epoch 74: val_accuracy did not improve from 0.78543\n",
            "\n",
            "Epoch 75: val_accuracy did not improve from 0.78543\n",
            "\n",
            "Epoch 76: val_accuracy did not improve from 0.78543\n",
            "\n",
            "Epoch 77: val_accuracy did not improve from 0.78543\n",
            "\n",
            "Epoch 78: val_accuracy did not improve from 0.78543\n",
            "\n",
            "Epoch 79: val_accuracy did not improve from 0.78543\n",
            "\n",
            "Epoch 80: val_accuracy did not improve from 0.78543\n",
            "\n",
            "Epoch 81: val_accuracy did not improve from 0.78543\n",
            "\n",
            "Epoch 82: val_accuracy did not improve from 0.78543\n",
            "\n",
            "Epoch 83: val_accuracy did not improve from 0.78543\n",
            "\n",
            "Epoch 84: val_accuracy did not improve from 0.78543\n",
            "\n",
            "Epoch 85: val_accuracy did not improve from 0.78543\n",
            "\n",
            "Epoch 86: val_accuracy did not improve from 0.78543\n",
            "\n",
            "Epoch 87: val_accuracy did not improve from 0.78543\n",
            "\n",
            "Epoch 88: val_accuracy did not improve from 0.78543\n",
            "\n",
            "Epoch 89: val_accuracy did not improve from 0.78543\n",
            "\n",
            "Epoch 90: val_accuracy did not improve from 0.78543\n",
            "\n",
            "Epoch 91: val_accuracy did not improve from 0.78543\n",
            "\n",
            "Epoch 92: val_accuracy did not improve from 0.78543\n",
            "\n",
            "Epoch 93: val_accuracy did not improve from 0.78543\n",
            "\n",
            "Epoch 94: val_accuracy did not improve from 0.78543\n",
            "\n",
            "Epoch 95: val_accuracy did not improve from 0.78543\n",
            "\n",
            "Epoch 96: val_accuracy did not improve from 0.78543\n",
            "\n",
            "Epoch 97: val_accuracy did not improve from 0.78543\n",
            "\n",
            "Epoch 98: val_accuracy did not improve from 0.78543\n",
            "\n",
            "Epoch 99: val_accuracy did not improve from 0.78543\n",
            "\n",
            "Epoch 100: val_accuracy did not improve from 0.78543\n",
            "\n",
            "Epoch 101: val_accuracy did not improve from 0.78543\n",
            "\n",
            "Epoch 102: val_accuracy did not improve from 0.78543\n",
            "\n",
            "Epoch 103: val_accuracy did not improve from 0.78543\n",
            "\n",
            "Epoch 104: val_accuracy did not improve from 0.78543\n",
            "\n",
            "Epoch 105: val_accuracy did not improve from 0.78543\n",
            "\n",
            "Epoch 106: val_accuracy did not improve from 0.78543\n",
            "\n",
            "Epoch 107: val_accuracy did not improve from 0.78543\n",
            "\n",
            "Epoch 108: val_accuracy did not improve from 0.78543\n",
            "\n",
            "Epoch 109: val_accuracy did not improve from 0.78543\n",
            "\n",
            "Epoch 110: val_accuracy did not improve from 0.78543\n",
            "\n",
            "Epoch 111: val_accuracy did not improve from 0.78543\n",
            "\n",
            "Epoch 112: val_accuracy did not improve from 0.78543\n",
            "\n",
            "Epoch 113: val_accuracy did not improve from 0.78543\n",
            "\n",
            "Epoch 114: val_accuracy did not improve from 0.78543\n",
            "\n",
            "Epoch 115: val_accuracy did not improve from 0.78543\n",
            "\n",
            "Epoch 116: val_accuracy did not improve from 0.78543\n",
            "\n",
            "Epoch 117: val_accuracy did not improve from 0.78543\n",
            "\n",
            "Epoch 118: val_accuracy did not improve from 0.78543\n",
            "\n",
            "Epoch 119: val_accuracy did not improve from 0.78543\n",
            "\n",
            "Epoch 120: val_accuracy did not improve from 0.78543\n",
            "\n",
            "Epoch 121: val_accuracy did not improve from 0.78543\n",
            "\n",
            "Epoch 122: val_accuracy did not improve from 0.78543\n",
            "\n",
            "Epoch 123: val_accuracy did not improve from 0.78543\n",
            "\n",
            "Epoch 124: val_accuracy did not improve from 0.78543\n",
            "\n",
            "Epoch 125: val_accuracy did not improve from 0.78543\n",
            "\n",
            "Epoch 126: val_accuracy did not improve from 0.78543\n",
            "\n",
            "Epoch 127: val_accuracy did not improve from 0.78543\n",
            "\n",
            "Epoch 128: val_accuracy did not improve from 0.78543\n",
            "\n",
            "Epoch 129: val_accuracy did not improve from 0.78543\n",
            "\n",
            "Epoch 130: val_accuracy did not improve from 0.78543\n",
            "\n",
            "Epoch 131: val_accuracy did not improve from 0.78543\n",
            "\n",
            "Epoch 132: val_accuracy did not improve from 0.78543\n",
            "\n",
            "Epoch 133: val_accuracy did not improve from 0.78543\n",
            "\n",
            "Epoch 134: val_accuracy did not improve from 0.78543\n",
            "\n",
            "Epoch 135: val_accuracy did not improve from 0.78543\n",
            "\n",
            "Epoch 136: val_accuracy did not improve from 0.78543\n",
            "\n",
            "Epoch 137: val_accuracy did not improve from 0.78543\n",
            "\n",
            "Epoch 138: val_accuracy did not improve from 0.78543\n",
            "\n",
            "Epoch 139: val_accuracy did not improve from 0.78543\n",
            "\n",
            "Epoch 140: val_accuracy did not improve from 0.78543\n",
            "\n",
            "Epoch 141: val_accuracy did not improve from 0.78543\n",
            "\n",
            "Epoch 142: val_accuracy did not improve from 0.78543\n",
            "\n",
            "Epoch 143: val_accuracy did not improve from 0.78543\n",
            "\n",
            "Epoch 144: val_accuracy did not improve from 0.78543\n",
            "\n",
            "Epoch 145: val_accuracy did not improve from 0.78543\n",
            "\n",
            "Epoch 146: val_accuracy did not improve from 0.78543\n",
            "\n",
            "Epoch 147: val_accuracy did not improve from 0.78543\n",
            "\n",
            "Epoch 148: val_accuracy did not improve from 0.78543\n",
            "\n",
            "Epoch 149: val_accuracy did not improve from 0.78543\n",
            "\n",
            "Epoch 150: val_accuracy did not improve from 0.78543\n"
          ]
        },
        {
          "output_type": "execute_result",
          "data": {
            "text/plain": [
              "<keras.src.callbacks.History at 0x7d5a34251360>"
            ]
          },
          "metadata": {},
          "execution_count": 196
        }
      ]
    },
    {
      "cell_type": "markdown",
      "source": [
        "### **Proof:**\n",
        "\n",
        "![image.png](data:image/png;base64,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)"
      ],
      "metadata": {
        "id": "jEWTU6d-9fR6"
      }
    },
    {
      "cell_type": "markdown",
      "source": [
        "### **Remarks:**\n",
        "\n",
        "In this code, it works similary on the previous code, but the difference is that it only saves the best weight that was generated. This is very useful when experementing about the accuracy of the model as it saves and can be rerun later if needed.\n",
        "\n",
        "---\n",
        "Reference: <br>\n",
        "\n",
        "- https://machinelearningmastery.com/check-point-deep-learning-models-keras/#:~:text=Checkpoint%20Neural%20Network%20Model%20Improvements,of%20diabetes%20binary%20classification%20problem."
      ],
      "metadata": {
        "id": "3fa56rGw1X-U"
      }
    },
    {
      "cell_type": "markdown",
      "source": [
        "## 6. Load a saved Neural Network model"
      ],
      "metadata": {
        "id": "nv0llzEm6zyD"
      }
    },
    {
      "cell_type": "code",
      "source": [
        "# creating the model\n",
        "\n",
        "model = Sequential()\n",
        "model.add(Dense(4, input_dim=4, kernel_initializer = 'uniform' , activation= 'relu' ))\n",
        "model.add(Dense(3, kernel_initializer= 'uniform' , activation= 'relu' ))\n",
        "model.add(Dense(1, kernel_initializer= 'uniform' , activation= 'sigmoid' ))\n",
        "\n",
        "model.load_weights(\"weights.best.hdf5\")\n",
        "\n",
        "model.compile(loss= 'binary_crossentropy' , optimizer= 'adam' , metrics=[ 'accuracy' ])\n",
        "print(\"Created model and loaded weights from file\")"
      ],
      "metadata": {
        "colab": {
          "base_uri": "https://localhost:8080/"
        },
        "id": "EmJKuiQh63HS",
        "outputId": "9ee51779-f539-4780-bb98-646ace7f9eed"
      },
      "execution_count": null,
      "outputs": [
        {
          "output_type": "stream",
          "name": "stdout",
          "text": [
            "Created model and loaded weights from file\n"
          ]
        }
      ]
    },
    {
      "cell_type": "markdown",
      "source": [
        "### Remarks:\n",
        "\n",
        "The model was successfully loaded the `weights.best.hdf5` file. This shows that the weights that was saved was applied on the model. This shows the importance of saving the best weights for experimenting as it gives an access to the best weights that was used to produce a better performing model\n",
        "\n"
      ],
      "metadata": {
        "id": "cx0ZeaBVVRzV"
      }
    },
    {
      "cell_type": "markdown",
      "source": [
        "## 7. Visualize Model Training History in Keras"
      ],
      "metadata": {
        "id": "fqkUYN9b63hw"
      }
    },
    {
      "cell_type": "code",
      "source": [
        "import numpy as np\n",
        "from sklearn.model_selection import train_test_split\n",
        "np.random.seed(42)\n",
        "\n",
        "#splitting the data set to have the same sets if other parameters are changed\n",
        "X_train, X_test, y_train, y_test = train_test_split(X, y, test_size=0.33, random_state=42)"
      ],
      "metadata": {
        "id": "FJd3rlSrXO_U"
      },
      "execution_count": null,
      "outputs": []
    },
    {
      "cell_type": "code",
      "source": [
        "from keras.optimizers import SGD\n",
        "\n",
        "model = Sequential([\n",
        "            Dense(4, activation='relu', input_shape=(X.shape[1],)),\n",
        "            Dense(3, activation='relu'),\n",
        "            Dense(1, activation='sigmoid')\n",
        "        ])\n",
        "\n",
        "optimizer = SGD(learning_rate = 0.009\n",
        "\n",
        "                )\n",
        "model.compile(optimizer= optimizer,\n",
        "              loss='binary_crossentropy',\n",
        "              metrics=['accuracy'])\n",
        "\n",
        "history = model.fit(X_train, y_train, validation_data=(X_test,y_test), epochs=100, batch_size=32, verbose=0)\n",
        "\n",
        "# list all data in history\n",
        "print(history.history.keys())\n",
        "# summarize history for accuracy\n",
        "plt.plot(history.history['accuracy'])\n",
        "plt.plot(history.history['val_accuracy'])\n",
        "plt.title('model accuracy')\n",
        "plt.ylabel('accuracy')\n",
        "plt.xlabel('epoch')\n",
        "plt.legend(['train', 'test'], loc='upper left')\n",
        "plt.show()\n",
        "\n",
        "# summarize history for loss\n",
        "plt.plot(history.history['loss'])\n",
        "plt.plot(history.history['val_loss'])\n",
        "plt.title('model loss')\n",
        "plt.ylabel('loss')\n",
        "plt.xlabel('epoch')\n",
        "plt.legend(['train', 'test'], loc='upper left')\n",
        "plt.show()"
      ],
      "metadata": {
        "id": "qH-41Val67DQ",
        "colab": {
          "base_uri": "https://localhost:8080/",
          "height": 944
        },
        "outputId": "c6541e46-9800-4be9-842a-c695e553f779"
      },
      "execution_count": null,
      "outputs": [
        {
          "output_type": "stream",
          "name": "stdout",
          "text": [
            "dict_keys(['loss', 'accuracy', 'val_loss', 'val_accuracy'])\n"
          ]
        },
        {
          "output_type": "display_data",
          "data": {
            "text/plain": [
              "<Figure size 640x480 with 1 Axes>"
            ],
            "image/png": "[encoded data removed]"
          },
          "metadata": {}
        },
        {
          "output_type": "display_data",
          "data": {
            "text/plain": [
              "<Figure size 640x480 with 1 Axes>"
            ],
            "image/png": "[encoded data removed]"
          },
          "metadata": {}
        }
      ]
    },
    {
      "cell_type": "code",
      "source": [
        "# Print accuracy and loss\n",
        "train_loss, train_accuracy = model.evaluate(X_train, y_train, verbose=0)\n",
        "test_loss, test_accuracy = model.evaluate(X_test, y_test, verbose=0)\n",
        "print(f\"Training Accuracy: {train_accuracy:.4f}, Training Loss: {train_loss:.4f}\")\n",
        "print(f\"Test Accuracy: {test_accuracy:.4f}, Test Loss: {test_loss:.4f}\")"
      ],
      "metadata": {
        "colab": {
          "base_uri": "https://localhost:8080/"
        },
        "id": "D3CokllwY58I",
        "outputId": "084954a2-9797-4666-ebe2-49b0bf71c94c"
      },
      "execution_count": null,
      "outputs": [
        {
          "output_type": "stream",
          "name": "stdout",
          "text": [
            "Training Accuracy: 0.8283, Training Loss: 0.4132\n",
            "Test Accuracy: 0.8097, Test Loss: 0.4275\n"
          ]
        }
      ]
    },
    {
      "cell_type": "markdown",
      "source": [
        "### Remarks:\n",
        "\n",
        "In this code, the history of the model training was visualized. It is important to do this as it enables the programmer determine whether the model is learning or not, if it is overfit underfit or even an indicator of a good model. The model was ensured that it is good fit. Although the accuracy is around 82 percent, this model shows the goal of the task which is to visualize the training history in keras. Addtionally, this will also serve as a base model to compare the effect of dropout regularization in the suceeding cells.\n",
        "\n",
        "\n",
        "\n",
        "---\n",
        "**Reference:**\n",
        "- https://machinelearningmastery.com/display-deep-learning-model-training-history-in-keras/\n",
        "\n"
      ],
      "metadata": {
        "id": "OT-le9g267jm"
      }
    },
    {
      "cell_type": "markdown",
      "source": [
        "## 8. Show the application of Dropout Regularization\n",
        "\n",
        "In this section, a basic application of dropout regularization was applied. A simple hidden layer droupout was added in the model that was created earlier."
      ],
      "metadata": {
        "id": "NpcHQaSqN9sp"
      }
    },
    {
      "cell_type": "code",
      "source": [
        "import numpy as np\n",
        "from sklearn.model_selection import train_test_split\n",
        "np.random.seed(42)\n",
        "\n",
        "#splitting the data set to have the same sets if other parameters are changed\n",
        "X_train2, X_test2, y_train2, y_test2 = train_test_split(X, y, test_size=0.33, random_state=42)"
      ],
      "metadata": {
        "id": "UqxyeaPEhs2R"
      },
      "execution_count": null,
      "outputs": []
    },
    {
      "cell_type": "code",
      "source": [
        "from keras.optimizers import SGD\n",
        "from keras.layers import Dropout\n",
        "\n",
        "model2 = Sequential([\n",
        "            Dense(4, activation='relu', input_shape=(4,)),\n",
        "            Dropout(0.05),\n",
        "            Dense(3, activation='relu'),\n",
        "            Dense(1, activation='sigmoid')\n",
        "        ])\n",
        "\n",
        "optimizer = SGD(learning_rate = 0.009)\n",
        "\n",
        "model2.compile(optimizer= optimizer,\n",
        "              loss='binary_crossentropy',\n",
        "              metrics=['accuracy'])\n",
        "\n",
        "history2 = model2.fit(X_train2, y_train2, validation_data=(X_test2,y_test2), epochs=100, batch_size=32, verbose=0)\n",
        "\n",
        "# Print accuracy and loss\n",
        "train_loss, train_accuracy = model2.evaluate(X_train2, y_train2, verbose=0)\n",
        "test_loss, test_accuracy = model2.evaluate(X_test2, y_test2, verbose=0)\n",
        "print(f\"Training Accuracy: {train_accuracy:.4f}, Training Loss: {train_loss:.4f}\")\n",
        "print(f\"Test Accuracy: {test_accuracy:.4f}, Test Loss: {test_loss:.4f}\")\n"
      ],
      "metadata": {
        "id": "xC-ppho7BeD4",
        "colab": {
          "base_uri": "https://localhost:8080/"
        },
        "outputId": "a7f1eb1e-fd87-4b2d-a7ae-f5b19ec4b56c"
      },
      "execution_count": null,
      "outputs": [
        {
          "output_type": "stream",
          "name": "stdout",
          "text": [
            "Training Accuracy: 0.8303, Training Loss: 0.4395\n",
            "Test Accuracy: 0.8138, Test Loss: 0.4552\n"
          ]
        }
      ]
    },
    {
      "cell_type": "markdown",
      "source": [
        "### Remarks:\n",
        "The droupout regularization was implemeted as a hidden layer in the code which shows the basic application of a dropout regularization. In comparison to the previously created model, the accuracy and loss of both data frames resulted to a better performance compared to the base model. This is because the dropout regularization helps in preventing overfit and improves the model's generilazation capability.\n",
        "\n",
        "\n",
        "\n",
        "---\n",
        "**references:**\n",
        "- https://saturncloud.io/glossary/dropout-regularization/#:~:text=Importance,training%20data%2C%20thereby%20preventing%20overfitting.\n"
      ],
      "metadata": {
        "id": "iLiMd-BenUY_"
      }
    },
    {
      "cell_type": "markdown",
      "source": [
        "## 9. Show the application of Dropout on the visible layer\n"
      ],
      "metadata": {
        "id": "6GX2Of1VOCKf"
      }
    },
    {
      "cell_type": "code",
      "source": [
        "from keras.optimizers import SGD\n",
        "from keras.layers import Dropout\n",
        "\n",
        "model3 = Sequential([\n",
        "            Dropout(0.05, input_shape=(4,)),\n",
        "            Dense(4, activation='relu'),\n",
        "            Dense(3, activation='relu'),\n",
        "            Dense(1, activation='sigmoid')\n",
        "        ])\n",
        "\n",
        "optimizer = SGD(learning_rate = 0.009,momentum = 0.9)\n",
        "\n",
        "model3.compile(optimizer= optimizer,\n",
        "              loss='binary_crossentropy',\n",
        "              metrics=['accuracy'])\n",
        "\n",
        "history3 = model3.fit(X_train2, y_train2, validation_data=(X_test2,y_test2), epochs=100, batch_size=32, verbose=0)\n",
        "\n",
        "# Print accuracy and loss\n",
        "train_loss, train_accuracy = model3.evaluate(X_train2, y_train2, verbose=0)\n",
        "test_loss, test_accuracy = model3.evaluate(X_test2, y_test2, verbose=0)\n",
        "print(f\"Training Accuracy: {train_accuracy:.4f}, Training Loss: {train_loss:.4f}\")\n",
        "print(f\"Test Accuracy: {test_accuracy:.4f}, Test Loss: {test_loss:.4f}\")\n"
      ],
      "metadata": {
        "id": "UHmj9ITYFmj5",
        "colab": {
          "base_uri": "https://localhost:8080/"
        },
        "outputId": "8d756871-fa79-4a92-d106-e074365e51e7"
      },
      "execution_count": null,
      "outputs": [
        {
          "output_type": "stream",
          "name": "stdout",
          "text": [
            "Training Accuracy: 0.8483, Training Loss: 0.3522\n",
            "Test Accuracy: 0.8381, Test Loss: 0.3543\n"
          ]
        }
      ]
    },
    {
      "cell_type": "markdown",
      "source": [
        "### Remarks:\n",
        "\n",
        "The dropout regularization rate that was used in this code that gave a better performance is 5%. Upong evaluating the model, it resulted to better performance compared to the previous implementation. This could means that adding a droupout on a visible layer affects the model perfomance"
      ],
      "metadata": {
        "id": "eryEnWaKqaEo"
      }
    },
    {
      "cell_type": "markdown",
      "source": [
        "## 10. Show the application of Dropout on the hidden layer\n"
      ],
      "metadata": {
        "id": "S_STzgwrOMD6"
      }
    },
    {
      "cell_type": "code",
      "source": [
        "from keras.optimizers import SGD\n",
        "from keras.layers import Dropout\n",
        "\n",
        "model4 = Sequential([\n",
        "            Dense(4, activation='relu', input_shape=(4,)),\n",
        "            Dense(3, activation='relu'),\n",
        "            Dropout(0.05),\n",
        "            Dense(1, activation='sigmoid')\n",
        "        ])\n",
        "\n",
        "optimizer = SGD(learning_rate = 0.009,momentum = 0.9)\n",
        "\n",
        "model4.compile(optimizer= optimizer,\n",
        "              loss='binary_crossentropy',\n",
        "              metrics=['accuracy'])\n",
        "\n",
        "history4 = model4.fit(X_train2, y_train2, validation_data=(X_test2,y_test2), epochs=100, batch_size=32, verbose=0)\n",
        "\n",
        "# Print accuracy and loss\n",
        "train_loss, train_accuracy = model4.evaluate(X_train2, y_train2, verbose=0)\n",
        "test_loss, test_accuracy = model4.evaluate(X_test2, y_test2, verbose=0)\n",
        "print(f\"Training Accuracy: {train_accuracy:.4f}, Training Loss: {train_loss:.4f}\")\n",
        "print(f\"Test Accuracy: {test_accuracy:.4f}, Test Loss: {test_loss:.4f}\")\n"
      ],
      "metadata": {
        "id": "FnGghEN2ONkM",
        "colab": {
          "base_uri": "https://localhost:8080/"
        },
        "outputId": "38462573-7683-460d-fec6-4add0dec6262"
      },
      "execution_count": null,
      "outputs": [
        {
          "output_type": "stream",
          "name": "stdout",
          "text": [
            "Training Accuracy: 0.8623, Training Loss: 0.3311\n",
            "Test Accuracy: 0.8421, Test Loss: 0.3506\n"
          ]
        }
      ]
    },
    {
      "cell_type": "markdown",
      "source": [
        "### Remarks:\n",
        "\n",
        "In this case, a dropout regularization layer was added before the output layer. This resulted to the best performance in comparison to other models that was previously created. This does not mean that it will always work on other data set but specifically only on this data set."
      ],
      "metadata": {
        "id": "OQ7J7ZIxvNcE"
      }
    },
    {
      "cell_type": "markdown",
      "source": [
        "## 11. Show the application of a time-based learning rate schedule\n"
      ],
      "metadata": {
        "id": "Ix2RvyqqONxz"
      }
    },
    {
      "cell_type": "code",
      "source": [
        "from tensorflow.keras.optimizers.legacy import SGD\n",
        "from keras.layers import Dropout\n",
        "\n",
        "model5 = Sequential([\n",
        "            Dense(4, activation='relu', input_shape=(4,)),\n",
        "            Dense(3, activation='relu'),\n",
        "            Dropout(0.05),\n",
        "            Dense(1, activation='sigmoid')\n",
        "        ])\n",
        "\n",
        "#The time-based learning rate schedule:\n",
        "epochs = 100\n",
        "learning_rate = 0.009\n",
        "decay_rate = learning_rate / epochs\n",
        "momentum = 0.9\n",
        "optimizer =  SGD(learning_rate=learning_rate, momentum=momentum, decay=decay_rate, nesterov=False)\n",
        "\n",
        "#compiling the model:\n",
        "model5.compile(optimizer= optimizer,\n",
        "              loss='binary_crossentropy',\n",
        "              metrics=['accuracy'])\n",
        "\n",
        "history5 = model5.fit(X_train2, y_train2, validation_data=(X_test2,y_test2), epochs=epochs, batch_size=32, verbose=2)\n",
        "\n"
      ],
      "metadata": {
        "id": "WfkU2g2lOQLZ",
        "colab": {
          "base_uri": "https://localhost:8080/"
        },
        "outputId": "8f4861b8-bd38-4743-f2c9-0c2acd698d22"
      },
      "execution_count": null,
      "outputs": [
        {
          "output_type": "stream",
          "name": "stdout",
          "text": [
            "Epoch 1/100\n",
            "16/16 - 3s - loss: 0.6729 - accuracy: 0.5409 - val_loss: 0.6113 - val_accuracy: 0.7733 - 3s/epoch - 173ms/step\n",
            "Epoch 2/100\n",
            "16/16 - 0s - loss: 0.5580 - accuracy: 0.7784 - val_loss: 0.5498 - val_accuracy: 0.8057 - 201ms/epoch - 13ms/step\n",
            "Epoch 3/100\n",
            "16/16 - 0s - loss: 0.5092 - accuracy: 0.8084 - val_loss: 0.5125 - val_accuracy: 0.8097 - 233ms/epoch - 15ms/step\n",
            "Epoch 4/100\n",
            "16/16 - 0s - loss: 0.4835 - accuracy: 0.8343 - val_loss: 0.4889 - val_accuracy: 0.8057 - 262ms/epoch - 16ms/step\n",
            "Epoch 5/100\n",
            "16/16 - 0s - loss: 0.4591 - accuracy: 0.8244 - val_loss: 0.4717 - val_accuracy: 0.8097 - 136ms/epoch - 8ms/step\n",
            "Epoch 6/100\n",
            "16/16 - 0s - loss: 0.4508 - accuracy: 0.8303 - val_loss: 0.4579 - val_accuracy: 0.8097 - 305ms/epoch - 19ms/step\n",
            "Epoch 7/100\n",
            "16/16 - 0s - loss: 0.4420 - accuracy: 0.8303 - val_loss: 0.4486 - val_accuracy: 0.8219 - 268ms/epoch - 17ms/step\n",
            "Epoch 8/100\n",
            "16/16 - 0s - loss: 0.4320 - accuracy: 0.8263 - val_loss: 0.4404 - val_accuracy: 0.8219 - 234ms/epoch - 15ms/step\n",
            "Epoch 9/100\n",
            "16/16 - 0s - loss: 0.4214 - accuracy: 0.8363 - val_loss: 0.4340 - val_accuracy: 0.8219 - 88ms/epoch - 6ms/step\n",
            "Epoch 10/100\n",
            "16/16 - 0s - loss: 0.4214 - accuracy: 0.8244 - val_loss: 0.4301 - val_accuracy: 0.8219 - 76ms/epoch - 5ms/step\n",
            "Epoch 11/100\n",
            "16/16 - 0s - loss: 0.4256 - accuracy: 0.8244 - val_loss: 0.4253 - val_accuracy: 0.8138 - 75ms/epoch - 5ms/step\n",
            "Epoch 12/100\n",
            "16/16 - 0s - loss: 0.4227 - accuracy: 0.8303 - val_loss: 0.4241 - val_accuracy: 0.8097 - 62ms/epoch - 4ms/step\n",
            "Epoch 13/100\n",
            "16/16 - 0s - loss: 0.4212 - accuracy: 0.8224 - val_loss: 0.4216 - val_accuracy: 0.8138 - 73ms/epoch - 5ms/step\n",
            "Epoch 14/100\n",
            "16/16 - 0s - loss: 0.4181 - accuracy: 0.8303 - val_loss: 0.4175 - val_accuracy: 0.8097 - 69ms/epoch - 4ms/step\n",
            "Epoch 15/100\n",
            "16/16 - 0s - loss: 0.4214 - accuracy: 0.8224 - val_loss: 0.4154 - val_accuracy: 0.8138 - 72ms/epoch - 4ms/step\n",
            "Epoch 16/100\n",
            "16/16 - 0s - loss: 0.4168 - accuracy: 0.8363 - val_loss: 0.4109 - val_accuracy: 0.8138 - 77ms/epoch - 5ms/step\n",
            "Epoch 17/100\n",
            "16/16 - 0s - loss: 0.4140 - accuracy: 0.8363 - val_loss: 0.4106 - val_accuracy: 0.8138 - 68ms/epoch - 4ms/step\n",
            "Epoch 18/100\n",
            "16/16 - 0s - loss: 0.4179 - accuracy: 0.8303 - val_loss: 0.4096 - val_accuracy: 0.8138 - 69ms/epoch - 4ms/step\n",
            "Epoch 19/100\n",
            "16/16 - 0s - loss: 0.4139 - accuracy: 0.8283 - val_loss: 0.4031 - val_accuracy: 0.8219 - 64ms/epoch - 4ms/step\n",
            "Epoch 20/100\n",
            "16/16 - 0s - loss: 0.4125 - accuracy: 0.8263 - val_loss: 0.4009 - val_accuracy: 0.8219 - 63ms/epoch - 4ms/step\n",
            "Epoch 21/100\n",
            "16/16 - 0s - loss: 0.4014 - accuracy: 0.8383 - val_loss: 0.3999 - val_accuracy: 0.8138 - 113ms/epoch - 7ms/step\n",
            "Epoch 22/100\n",
            "16/16 - 0s - loss: 0.4084 - accuracy: 0.8303 - val_loss: 0.3963 - val_accuracy: 0.8178 - 69ms/epoch - 4ms/step\n",
            "Epoch 23/100\n",
            "16/16 - 0s - loss: 0.4050 - accuracy: 0.8263 - val_loss: 0.3920 - val_accuracy: 0.8259 - 80ms/epoch - 5ms/step\n",
            "Epoch 24/100\n",
            "16/16 - 0s - loss: 0.3966 - accuracy: 0.8383 - val_loss: 0.3899 - val_accuracy: 0.8300 - 82ms/epoch - 5ms/step\n",
            "Epoch 25/100\n",
            "16/16 - 0s - loss: 0.4044 - accuracy: 0.8383 - val_loss: 0.3857 - val_accuracy: 0.8381 - 78ms/epoch - 5ms/step\n",
            "Epoch 26/100\n",
            "16/16 - 0s - loss: 0.4021 - accuracy: 0.8303 - val_loss: 0.3882 - val_accuracy: 0.8300 - 73ms/epoch - 5ms/step\n",
            "Epoch 27/100\n",
            "16/16 - 0s - loss: 0.4013 - accuracy: 0.8363 - val_loss: 0.3867 - val_accuracy: 0.8300 - 79ms/epoch - 5ms/step\n",
            "Epoch 28/100\n",
            "16/16 - 0s - loss: 0.4092 - accuracy: 0.8224 - val_loss: 0.3820 - val_accuracy: 0.8381 - 62ms/epoch - 4ms/step\n",
            "Epoch 29/100\n",
            "16/16 - 0s - loss: 0.3866 - accuracy: 0.8283 - val_loss: 0.3806 - val_accuracy: 0.8381 - 63ms/epoch - 4ms/step\n",
            "Epoch 30/100\n",
            "16/16 - 0s - loss: 0.4003 - accuracy: 0.8263 - val_loss: 0.3782 - val_accuracy: 0.8381 - 64ms/epoch - 4ms/step\n",
            "Epoch 31/100\n",
            "16/16 - 0s - loss: 0.4073 - accuracy: 0.8244 - val_loss: 0.3790 - val_accuracy: 0.8381 - 73ms/epoch - 5ms/step\n",
            "Epoch 32/100\n",
            "16/16 - 0s - loss: 0.3977 - accuracy: 0.8323 - val_loss: 0.3810 - val_accuracy: 0.8421 - 63ms/epoch - 4ms/step\n",
            "Epoch 33/100\n",
            "16/16 - 0s - loss: 0.3916 - accuracy: 0.8263 - val_loss: 0.3752 - val_accuracy: 0.8381 - 75ms/epoch - 5ms/step\n",
            "Epoch 34/100\n",
            "16/16 - 0s - loss: 0.3897 - accuracy: 0.8303 - val_loss: 0.3753 - val_accuracy: 0.8381 - 122ms/epoch - 8ms/step\n",
            "Epoch 35/100\n",
            "16/16 - 0s - loss: 0.4000 - accuracy: 0.8244 - val_loss: 0.3735 - val_accuracy: 0.8381 - 61ms/epoch - 4ms/step\n",
            "Epoch 36/100\n",
            "16/16 - 0s - loss: 0.3896 - accuracy: 0.8283 - val_loss: 0.3733 - val_accuracy: 0.8381 - 73ms/epoch - 5ms/step\n",
            "Epoch 37/100\n",
            "16/16 - 0s - loss: 0.3873 - accuracy: 0.8263 - val_loss: 0.3705 - val_accuracy: 0.8421 - 73ms/epoch - 5ms/step\n",
            "Epoch 38/100\n",
            "16/16 - 0s - loss: 0.3888 - accuracy: 0.8283 - val_loss: 0.3694 - val_accuracy: 0.8421 - 70ms/epoch - 4ms/step\n",
            "Epoch 39/100\n",
            "16/16 - 0s - loss: 0.3759 - accuracy: 0.8323 - val_loss: 0.3682 - val_accuracy: 0.8462 - 71ms/epoch - 4ms/step\n",
            "Epoch 40/100\n",
            "16/16 - 0s - loss: 0.3877 - accuracy: 0.8303 - val_loss: 0.3691 - val_accuracy: 0.8381 - 70ms/epoch - 4ms/step\n",
            "Epoch 41/100\n",
            "16/16 - 0s - loss: 0.3909 - accuracy: 0.8323 - val_loss: 0.3658 - val_accuracy: 0.8462 - 74ms/epoch - 5ms/step\n",
            "Epoch 42/100\n",
            "16/16 - 0s - loss: 0.3983 - accuracy: 0.8363 - val_loss: 0.3635 - val_accuracy: 0.8502 - 62ms/epoch - 4ms/step\n",
            "Epoch 43/100\n",
            "16/16 - 0s - loss: 0.3842 - accuracy: 0.8343 - val_loss: 0.3681 - val_accuracy: 0.8381 - 72ms/epoch - 4ms/step\n",
            "Epoch 44/100\n",
            "16/16 - 0s - loss: 0.3885 - accuracy: 0.8343 - val_loss: 0.3677 - val_accuracy: 0.8381 - 67ms/epoch - 4ms/step\n",
            "Epoch 45/100\n",
            "16/16 - 0s - loss: 0.3875 - accuracy: 0.8323 - val_loss: 0.3651 - val_accuracy: 0.8421 - 63ms/epoch - 4ms/step\n",
            "Epoch 46/100\n",
            "16/16 - 0s - loss: 0.3819 - accuracy: 0.8343 - val_loss: 0.3635 - val_accuracy: 0.8462 - 68ms/epoch - 4ms/step\n",
            "Epoch 47/100\n",
            "16/16 - 0s - loss: 0.3933 - accuracy: 0.8263 - val_loss: 0.3633 - val_accuracy: 0.8462 - 68ms/epoch - 4ms/step\n",
            "Epoch 48/100\n",
            "16/16 - 0s - loss: 0.3764 - accuracy: 0.8483 - val_loss: 0.3619 - val_accuracy: 0.8462 - 84ms/epoch - 5ms/step\n",
            "Epoch 49/100\n",
            "16/16 - 0s - loss: 0.3810 - accuracy: 0.8403 - val_loss: 0.3611 - val_accuracy: 0.8462 - 66ms/epoch - 4ms/step\n",
            "Epoch 50/100\n",
            "16/16 - 0s - loss: 0.3806 - accuracy: 0.8403 - val_loss: 0.3593 - val_accuracy: 0.8502 - 64ms/epoch - 4ms/step\n",
            "Epoch 51/100\n",
            "16/16 - 0s - loss: 0.3761 - accuracy: 0.8323 - val_loss: 0.3590 - val_accuracy: 0.8502 - 63ms/epoch - 4ms/step\n",
            "Epoch 52/100\n",
            "16/16 - 0s - loss: 0.3787 - accuracy: 0.8403 - val_loss: 0.3608 - val_accuracy: 0.8462 - 70ms/epoch - 4ms/step\n",
            "Epoch 53/100\n",
            "16/16 - 0s - loss: 0.3788 - accuracy: 0.8383 - val_loss: 0.3585 - val_accuracy: 0.8502 - 60ms/epoch - 4ms/step\n",
            "Epoch 54/100\n",
            "16/16 - 0s - loss: 0.3781 - accuracy: 0.8423 - val_loss: 0.3577 - val_accuracy: 0.8543 - 71ms/epoch - 4ms/step\n",
            "Epoch 55/100\n",
            "16/16 - 0s - loss: 0.3755 - accuracy: 0.8423 - val_loss: 0.3573 - val_accuracy: 0.8502 - 66ms/epoch - 4ms/step\n",
            "Epoch 56/100\n",
            "16/16 - 0s - loss: 0.3735 - accuracy: 0.8363 - val_loss: 0.3571 - val_accuracy: 0.8502 - 72ms/epoch - 5ms/step\n",
            "Epoch 57/100\n",
            "16/16 - 0s - loss: 0.3816 - accuracy: 0.8343 - val_loss: 0.3560 - val_accuracy: 0.8583 - 73ms/epoch - 5ms/step\n",
            "Epoch 58/100\n",
            "16/16 - 0s - loss: 0.3789 - accuracy: 0.8363 - val_loss: 0.3593 - val_accuracy: 0.8543 - 83ms/epoch - 5ms/step\n",
            "Epoch 59/100\n",
            "16/16 - 0s - loss: 0.3774 - accuracy: 0.8423 - val_loss: 0.3536 - val_accuracy: 0.8583 - 67ms/epoch - 4ms/step\n",
            "Epoch 60/100\n",
            "16/16 - 0s - loss: 0.3719 - accuracy: 0.8443 - val_loss: 0.3561 - val_accuracy: 0.8502 - 73ms/epoch - 5ms/step\n",
            "Epoch 61/100\n",
            "16/16 - 0s - loss: 0.3746 - accuracy: 0.8423 - val_loss: 0.3554 - val_accuracy: 0.8502 - 77ms/epoch - 5ms/step\n",
            "Epoch 62/100\n",
            "16/16 - 0s - loss: 0.3786 - accuracy: 0.8383 - val_loss: 0.3551 - val_accuracy: 0.8502 - 74ms/epoch - 5ms/step\n",
            "Epoch 63/100\n",
            "16/16 - 0s - loss: 0.3638 - accuracy: 0.8403 - val_loss: 0.3526 - val_accuracy: 0.8583 - 77ms/epoch - 5ms/step\n",
            "Epoch 64/100\n",
            "16/16 - 0s - loss: 0.3695 - accuracy: 0.8363 - val_loss: 0.3533 - val_accuracy: 0.8543 - 75ms/epoch - 5ms/step\n",
            "Epoch 65/100\n",
            "16/16 - 0s - loss: 0.3758 - accuracy: 0.8343 - val_loss: 0.3509 - val_accuracy: 0.8583 - 82ms/epoch - 5ms/step\n",
            "Epoch 66/100\n",
            "16/16 - 0s - loss: 0.3709 - accuracy: 0.8383 - val_loss: 0.3557 - val_accuracy: 0.8623 - 65ms/epoch - 4ms/step\n",
            "Epoch 67/100\n",
            "16/16 - 0s - loss: 0.3724 - accuracy: 0.8403 - val_loss: 0.3555 - val_accuracy: 0.8623 - 73ms/epoch - 5ms/step\n",
            "Epoch 68/100\n",
            "16/16 - 0s - loss: 0.3794 - accuracy: 0.8244 - val_loss: 0.3526 - val_accuracy: 0.8543 - 64ms/epoch - 4ms/step\n",
            "Epoch 69/100\n",
            "16/16 - 0s - loss: 0.3653 - accuracy: 0.8463 - val_loss: 0.3548 - val_accuracy: 0.8583 - 66ms/epoch - 4ms/step\n",
            "Epoch 70/100\n",
            "16/16 - 0s - loss: 0.3777 - accuracy: 0.8383 - val_loss: 0.3522 - val_accuracy: 0.8543 - 75ms/epoch - 5ms/step\n",
            "Epoch 71/100\n",
            "16/16 - 0s - loss: 0.3739 - accuracy: 0.8443 - val_loss: 0.3539 - val_accuracy: 0.8543 - 66ms/epoch - 4ms/step\n",
            "Epoch 72/100\n",
            "16/16 - 0s - loss: 0.3697 - accuracy: 0.8363 - val_loss: 0.3514 - val_accuracy: 0.8502 - 79ms/epoch - 5ms/step\n",
            "Epoch 73/100\n",
            "16/16 - 0s - loss: 0.3726 - accuracy: 0.8343 - val_loss: 0.3502 - val_accuracy: 0.8543 - 77ms/epoch - 5ms/step\n",
            "Epoch 74/100\n",
            "16/16 - 0s - loss: 0.3714 - accuracy: 0.8343 - val_loss: 0.3511 - val_accuracy: 0.8502 - 74ms/epoch - 5ms/step\n",
            "Epoch 75/100\n",
            "16/16 - 0s - loss: 0.3696 - accuracy: 0.8403 - val_loss: 0.3516 - val_accuracy: 0.8502 - 74ms/epoch - 5ms/step\n",
            "Epoch 76/100\n",
            "16/16 - 0s - loss: 0.3613 - accuracy: 0.8423 - val_loss: 0.3518 - val_accuracy: 0.8502 - 86ms/epoch - 5ms/step\n",
            "Epoch 77/100\n",
            "16/16 - 0s - loss: 0.3760 - accuracy: 0.8303 - val_loss: 0.3533 - val_accuracy: 0.8543 - 79ms/epoch - 5ms/step\n",
            "Epoch 78/100\n",
            "16/16 - 0s - loss: 0.3593 - accuracy: 0.8423 - val_loss: 0.3553 - val_accuracy: 0.8421 - 77ms/epoch - 5ms/step\n",
            "Epoch 79/100\n",
            "16/16 - 0s - loss: 0.3638 - accuracy: 0.8363 - val_loss: 0.3505 - val_accuracy: 0.8543 - 73ms/epoch - 5ms/step\n",
            "Epoch 80/100\n",
            "16/16 - 0s - loss: 0.3615 - accuracy: 0.8403 - val_loss: 0.3533 - val_accuracy: 0.8462 - 64ms/epoch - 4ms/step\n",
            "Epoch 81/100\n",
            "16/16 - 0s - loss: 0.3629 - accuracy: 0.8463 - val_loss: 0.3525 - val_accuracy: 0.8462 - 72ms/epoch - 4ms/step\n",
            "Epoch 82/100\n",
            "16/16 - 0s - loss: 0.3668 - accuracy: 0.8363 - val_loss: 0.3507 - val_accuracy: 0.8543 - 63ms/epoch - 4ms/step\n",
            "Epoch 83/100\n",
            "16/16 - 0s - loss: 0.3650 - accuracy: 0.8383 - val_loss: 0.3514 - val_accuracy: 0.8462 - 63ms/epoch - 4ms/step\n",
            "Epoch 84/100\n",
            "16/16 - 0s - loss: 0.3592 - accuracy: 0.8403 - val_loss: 0.3515 - val_accuracy: 0.8543 - 71ms/epoch - 4ms/step\n",
            "Epoch 85/100\n",
            "16/16 - 0s - loss: 0.3608 - accuracy: 0.8443 - val_loss: 0.3536 - val_accuracy: 0.8543 - 70ms/epoch - 4ms/step\n",
            "Epoch 86/100\n",
            "16/16 - 0s - loss: 0.3654 - accuracy: 0.8323 - val_loss: 0.3492 - val_accuracy: 0.8543 - 75ms/epoch - 5ms/step\n",
            "Epoch 87/100\n",
            "16/16 - 0s - loss: 0.3695 - accuracy: 0.8443 - val_loss: 0.3521 - val_accuracy: 0.8462 - 61ms/epoch - 4ms/step\n",
            "Epoch 88/100\n",
            "16/16 - 0s - loss: 0.3739 - accuracy: 0.8323 - val_loss: 0.3518 - val_accuracy: 0.8462 - 80ms/epoch - 5ms/step\n",
            "Epoch 89/100\n",
            "16/16 - 0s - loss: 0.3660 - accuracy: 0.8363 - val_loss: 0.3519 - val_accuracy: 0.8462 - 71ms/epoch - 4ms/step\n",
            "Epoch 90/100\n",
            "16/16 - 0s - loss: 0.3568 - accuracy: 0.8463 - val_loss: 0.3495 - val_accuracy: 0.8543 - 76ms/epoch - 5ms/step\n",
            "Epoch 91/100\n",
            "16/16 - 0s - loss: 0.3661 - accuracy: 0.8383 - val_loss: 0.3484 - val_accuracy: 0.8543 - 72ms/epoch - 5ms/step\n",
            "Epoch 92/100\n",
            "16/16 - 0s - loss: 0.3624 - accuracy: 0.8383 - val_loss: 0.3533 - val_accuracy: 0.8543 - 72ms/epoch - 4ms/step\n",
            "Epoch 93/100\n",
            "16/16 - 0s - loss: 0.3609 - accuracy: 0.8403 - val_loss: 0.3486 - val_accuracy: 0.8543 - 71ms/epoch - 4ms/step\n",
            "Epoch 94/100\n",
            "16/16 - 0s - loss: 0.3668 - accuracy: 0.8303 - val_loss: 0.3507 - val_accuracy: 0.8543 - 78ms/epoch - 5ms/step\n",
            "Epoch 95/100\n",
            "16/16 - 0s - loss: 0.3587 - accuracy: 0.8403 - val_loss: 0.3514 - val_accuracy: 0.8462 - 75ms/epoch - 5ms/step\n",
            "Epoch 96/100\n",
            "16/16 - 0s - loss: 0.3664 - accuracy: 0.8403 - val_loss: 0.3514 - val_accuracy: 0.8462 - 68ms/epoch - 4ms/step\n",
            "Epoch 97/100\n",
            "16/16 - 0s - loss: 0.3547 - accuracy: 0.8463 - val_loss: 0.3514 - val_accuracy: 0.8462 - 74ms/epoch - 5ms/step\n",
            "Epoch 98/100\n",
            "16/16 - 0s - loss: 0.3618 - accuracy: 0.8423 - val_loss: 0.3523 - val_accuracy: 0.8502 - 63ms/epoch - 4ms/step\n",
            "Epoch 99/100\n",
            "16/16 - 0s - loss: 0.3547 - accuracy: 0.8403 - val_loss: 0.3498 - val_accuracy: 0.8502 - 71ms/epoch - 4ms/step\n",
            "Epoch 100/100\n",
            "16/16 - 0s - loss: 0.3647 - accuracy: 0.8383 - val_loss: 0.3503 - val_accuracy: 0.8543 - 62ms/epoch - 4ms/step\n"
          ]
        }
      ]
    },
    {
      "cell_type": "markdown",
      "source": [
        "### Remarks:\n",
        "\n",
        "In this code, it shows the basic application of a time-based learning rate schedule or decay schedule. The time-based learning rate basically adjusts the learning rate at every epoch. This is done inorder to fine tune the model effectively instead of manually doing it over and over.\n",
        "\n",
        "---\n",
        "**Reference:**\n",
        "- https://medium.com/@brijesh_soni/unlocking-the-secrets-of-the-learning-rate-a-beginner-friendly-guide-to-optimizing-machine-4a8cbab413b2#:~:text=Types%20of%20learning%20rate,-There%20are%20several&text=Time-based%20learning%20rate%3A%20The,1%20%2B%20decay_rate%20*%20epoch)%20.\n",
        "\n",
        "- https://towardsdatascience.com/learning-rate-schedules-and-adaptive-learning-rate-methods-for-deep-learning-2c8f433990d1\n",
        "\n",
        "- https://arxiv.org/pdf/2110.14109.pdf"
      ],
      "metadata": {
        "id": "JR8qHe9EwqCr"
      }
    },
    {
      "cell_type": "markdown",
      "source": [
        "## 12. Show the application of a drop-based learning rate schedule"
      ],
      "metadata": {
        "id": "qCqNdrIkOPXI"
      }
    },
    {
      "cell_type": "code",
      "source": [
        "# learning rate schedule\n",
        "def step_decay(epoch):\n",
        "\tinitial_lrate = 0.1\n",
        "\tdrop = 0.5\n",
        "\tepochs_drop = 10.0\n",
        "\tlrate = initial_lrate * math.pow(drop, math.floor((1+epoch)/epochs_drop))\n",
        "\treturn lrate\n"
      ],
      "metadata": {
        "id": "OzBTLMqOw5Sa"
      },
      "execution_count": null,
      "outputs": []
    },
    {
      "cell_type": "code",
      "source": [
        "from tensorflow.keras.optimizers.legacy import SGD\n",
        "from keras.layers import Dropout\n",
        "from tensorflow.keras.callbacks import LearningRateScheduler\n",
        "import math\n",
        "\n",
        "model6 = Sequential([\n",
        "            Dense(4, activation='relu', input_shape=(4,)),\n",
        "            Dense(3, activation='relu'),\n",
        "            Dropout(0.05),\n",
        "            Dense(1, activation='sigmoid')\n",
        "        ])\n",
        "\n",
        "# Compile model\n",
        "optimizer = SGD(learning_rate=0.0, momentum=0.9)\n",
        "model6.compile(optimizer=optimizer,\n",
        "              loss='binary_crossentropy',\n",
        "              metrics=['accuracy'])\n",
        "\n",
        "# learning schedule callback\n",
        "lrate = LearningRateScheduler(step_decay)\n",
        "callbacks_list = [lrate]\n",
        "\n",
        "\n",
        "history6 = model6.fit(X_train2, y_train2, validation_data=(X_test2,y_test2), epochs=100, batch_size=32, callbacks=callbacks_list, verbose=2)\n"
      ],
      "metadata": {
        "id": "RePXEt_9OQm7",
        "colab": {
          "base_uri": "https://localhost:8080/"
        },
        "outputId": "f6d77971-4cd6-41e8-db35-d847dc30a589"
      },
      "execution_count": null,
      "outputs": [
        {
          "output_type": "stream",
          "name": "stdout",
          "text": [
            "Epoch 1/100\n",
            "16/16 - 1s - loss: 0.5593 - accuracy: 0.7864 - val_loss: 0.4438 - val_accuracy: 0.8219 - lr: 0.1000 - 1s/epoch - 64ms/step\n",
            "Epoch 2/100\n",
            "16/16 - 0s - loss: 0.4851 - accuracy: 0.7824 - val_loss: 0.4216 - val_accuracy: 0.8340 - lr: 0.1000 - 65ms/epoch - 4ms/step\n",
            "Epoch 3/100\n",
            "16/16 - 0s - loss: 0.4445 - accuracy: 0.8084 - val_loss: 0.3924 - val_accuracy: 0.8340 - lr: 0.1000 - 64ms/epoch - 4ms/step\n",
            "Epoch 4/100\n",
            "16/16 - 0s - loss: 0.4351 - accuracy: 0.8104 - val_loss: 0.3755 - val_accuracy: 0.8583 - lr: 0.1000 - 84ms/epoch - 5ms/step\n",
            "Epoch 5/100\n",
            "16/16 - 0s - loss: 0.3906 - accuracy: 0.8283 - val_loss: 0.3590 - val_accuracy: 0.8623 - lr: 0.1000 - 90ms/epoch - 6ms/step\n",
            "Epoch 6/100\n",
            "16/16 - 0s - loss: 0.4139 - accuracy: 0.8124 - val_loss: 0.3747 - val_accuracy: 0.8381 - lr: 0.1000 - 66ms/epoch - 4ms/step\n",
            "Epoch 7/100\n",
            "16/16 - 0s - loss: 0.3913 - accuracy: 0.8224 - val_loss: 0.3549 - val_accuracy: 0.8502 - lr: 0.1000 - 78ms/epoch - 5ms/step\n",
            "Epoch 8/100\n",
            "16/16 - 0s - loss: 0.3798 - accuracy: 0.8263 - val_loss: 0.3780 - val_accuracy: 0.8178 - lr: 0.1000 - 73ms/epoch - 5ms/step\n",
            "Epoch 9/100\n",
            "16/16 - 0s - loss: 0.3778 - accuracy: 0.8283 - val_loss: 0.3512 - val_accuracy: 0.8300 - lr: 0.1000 - 76ms/epoch - 5ms/step\n",
            "Epoch 10/100\n",
            "16/16 - 0s - loss: 0.3716 - accuracy: 0.8403 - val_loss: 0.3534 - val_accuracy: 0.8340 - lr: 0.0500 - 63ms/epoch - 4ms/step\n",
            "Epoch 11/100\n",
            "16/16 - 0s - loss: 0.3831 - accuracy: 0.8283 - val_loss: 0.3550 - val_accuracy: 0.8300 - lr: 0.0500 - 69ms/epoch - 4ms/step\n",
            "Epoch 12/100\n",
            "16/16 - 0s - loss: 0.3921 - accuracy: 0.8363 - val_loss: 0.3573 - val_accuracy: 0.8300 - lr: 0.0500 - 65ms/epoch - 4ms/step\n",
            "Epoch 13/100\n",
            "16/16 - 0s - loss: 0.3791 - accuracy: 0.8343 - val_loss: 0.3560 - val_accuracy: 0.8381 - lr: 0.0500 - 69ms/epoch - 4ms/step\n",
            "Epoch 14/100\n",
            "16/16 - 0s - loss: 0.3928 - accuracy: 0.8283 - val_loss: 0.3550 - val_accuracy: 0.8381 - lr: 0.0500 - 74ms/epoch - 5ms/step\n",
            "Epoch 15/100\n",
            "16/16 - 0s - loss: 0.3747 - accuracy: 0.8323 - val_loss: 0.3633 - val_accuracy: 0.8259 - lr: 0.0500 - 67ms/epoch - 4ms/step\n",
            "Epoch 16/100\n",
            "16/16 - 0s - loss: 0.3649 - accuracy: 0.8583 - val_loss: 0.3728 - val_accuracy: 0.8381 - lr: 0.0500 - 66ms/epoch - 4ms/step\n",
            "Epoch 17/100\n",
            "16/16 - 0s - loss: 0.3786 - accuracy: 0.8483 - val_loss: 0.3644 - val_accuracy: 0.8381 - lr: 0.0500 - 76ms/epoch - 5ms/step\n",
            "Epoch 18/100\n",
            "16/16 - 0s - loss: 0.3771 - accuracy: 0.8363 - val_loss: 0.3641 - val_accuracy: 0.8178 - lr: 0.0500 - 76ms/epoch - 5ms/step\n",
            "Epoch 19/100\n",
            "16/16 - 0s - loss: 0.3736 - accuracy: 0.8283 - val_loss: 0.3652 - val_accuracy: 0.8259 - lr: 0.0500 - 65ms/epoch - 4ms/step\n",
            "Epoch 20/100\n",
            "16/16 - 0s - loss: 0.3819 - accuracy: 0.8443 - val_loss: 0.3498 - val_accuracy: 0.8502 - lr: 0.0250 - 77ms/epoch - 5ms/step\n",
            "Epoch 21/100\n",
            "16/16 - 0s - loss: 0.3887 - accuracy: 0.8263 - val_loss: 0.3605 - val_accuracy: 0.8259 - lr: 0.0250 - 81ms/epoch - 5ms/step\n",
            "Epoch 22/100\n",
            "16/16 - 0s - loss: 0.3733 - accuracy: 0.8583 - val_loss: 0.3507 - val_accuracy: 0.8502 - lr: 0.0250 - 71ms/epoch - 4ms/step\n",
            "Epoch 23/100\n",
            "16/16 - 0s - loss: 0.3621 - accuracy: 0.8403 - val_loss: 0.3642 - val_accuracy: 0.8259 - lr: 0.0250 - 80ms/epoch - 5ms/step\n",
            "Epoch 24/100\n",
            "16/16 - 0s - loss: 0.3903 - accuracy: 0.8423 - val_loss: 0.3550 - val_accuracy: 0.8381 - lr: 0.0250 - 79ms/epoch - 5ms/step\n",
            "Epoch 25/100\n",
            "16/16 - 0s - loss: 0.3753 - accuracy: 0.8383 - val_loss: 0.3540 - val_accuracy: 0.8381 - lr: 0.0250 - 72ms/epoch - 4ms/step\n",
            "Epoch 26/100\n",
            "16/16 - 0s - loss: 0.3714 - accuracy: 0.8363 - val_loss: 0.3596 - val_accuracy: 0.8300 - lr: 0.0250 - 74ms/epoch - 5ms/step\n",
            "Epoch 27/100\n",
            "16/16 - 0s - loss: 0.3787 - accuracy: 0.8423 - val_loss: 0.3510 - val_accuracy: 0.8381 - lr: 0.0250 - 70ms/epoch - 4ms/step\n",
            "Epoch 28/100\n",
            "16/16 - 0s - loss: 0.3764 - accuracy: 0.8483 - val_loss: 0.3551 - val_accuracy: 0.8421 - lr: 0.0250 - 72ms/epoch - 5ms/step\n",
            "Epoch 29/100\n",
            "16/16 - 0s - loss: 0.3622 - accuracy: 0.8483 - val_loss: 0.3558 - val_accuracy: 0.8381 - lr: 0.0250 - 83ms/epoch - 5ms/step\n",
            "Epoch 30/100\n",
            "16/16 - 0s - loss: 0.3777 - accuracy: 0.8423 - val_loss: 0.3562 - val_accuracy: 0.8421 - lr: 0.0125 - 90ms/epoch - 6ms/step\n",
            "Epoch 31/100\n",
            "16/16 - 0s - loss: 0.3736 - accuracy: 0.8423 - val_loss: 0.3588 - val_accuracy: 0.8381 - lr: 0.0125 - 67ms/epoch - 4ms/step\n",
            "Epoch 32/100\n",
            "16/16 - 0s - loss: 0.3609 - accuracy: 0.8483 - val_loss: 0.3536 - val_accuracy: 0.8421 - lr: 0.0125 - 77ms/epoch - 5ms/step\n",
            "Epoch 33/100\n",
            "16/16 - 0s - loss: 0.3645 - accuracy: 0.8543 - val_loss: 0.3586 - val_accuracy: 0.8340 - lr: 0.0125 - 80ms/epoch - 5ms/step\n",
            "Epoch 34/100\n",
            "16/16 - 0s - loss: 0.3620 - accuracy: 0.8463 - val_loss: 0.3568 - val_accuracy: 0.8381 - lr: 0.0125 - 67ms/epoch - 4ms/step\n",
            "Epoch 35/100\n",
            "16/16 - 0s - loss: 0.3641 - accuracy: 0.8443 - val_loss: 0.3592 - val_accuracy: 0.8381 - lr: 0.0125 - 74ms/epoch - 5ms/step\n",
            "Epoch 36/100\n",
            "16/16 - 0s - loss: 0.3704 - accuracy: 0.8423 - val_loss: 0.3563 - val_accuracy: 0.8381 - lr: 0.0125 - 72ms/epoch - 4ms/step\n",
            "Epoch 37/100\n",
            "16/16 - 0s - loss: 0.3809 - accuracy: 0.8244 - val_loss: 0.3595 - val_accuracy: 0.8381 - lr: 0.0125 - 78ms/epoch - 5ms/step\n",
            "Epoch 38/100\n",
            "16/16 - 0s - loss: 0.3682 - accuracy: 0.8403 - val_loss: 0.3549 - val_accuracy: 0.8421 - lr: 0.0125 - 79ms/epoch - 5ms/step\n",
            "Epoch 39/100\n",
            "16/16 - 0s - loss: 0.3698 - accuracy: 0.8443 - val_loss: 0.3582 - val_accuracy: 0.8340 - lr: 0.0125 - 71ms/epoch - 4ms/step\n",
            "Epoch 40/100\n",
            "16/16 - 0s - loss: 0.3746 - accuracy: 0.8403 - val_loss: 0.3568 - val_accuracy: 0.8340 - lr: 0.0063 - 75ms/epoch - 5ms/step\n",
            "Epoch 41/100\n",
            "16/16 - 0s - loss: 0.3651 - accuracy: 0.8543 - val_loss: 0.3558 - val_accuracy: 0.8421 - lr: 0.0063 - 72ms/epoch - 5ms/step\n",
            "Epoch 42/100\n",
            "16/16 - 0s - loss: 0.3507 - accuracy: 0.8583 - val_loss: 0.3582 - val_accuracy: 0.8381 - lr: 0.0063 - 73ms/epoch - 5ms/step\n",
            "Epoch 43/100\n",
            "16/16 - 0s - loss: 0.3593 - accuracy: 0.8523 - val_loss: 0.3574 - val_accuracy: 0.8421 - lr: 0.0063 - 91ms/epoch - 6ms/step\n",
            "Epoch 44/100\n",
            "16/16 - 0s - loss: 0.3702 - accuracy: 0.8483 - val_loss: 0.3580 - val_accuracy: 0.8340 - lr: 0.0063 - 88ms/epoch - 6ms/step\n",
            "Epoch 45/100\n",
            "16/16 - 0s - loss: 0.3715 - accuracy: 0.8383 - val_loss: 0.3576 - val_accuracy: 0.8421 - lr: 0.0063 - 64ms/epoch - 4ms/step\n",
            "Epoch 46/100\n",
            "16/16 - 0s - loss: 0.3850 - accuracy: 0.8283 - val_loss: 0.3588 - val_accuracy: 0.8381 - lr: 0.0063 - 74ms/epoch - 5ms/step\n",
            "Epoch 47/100\n",
            "16/16 - 0s - loss: 0.3662 - accuracy: 0.8423 - val_loss: 0.3580 - val_accuracy: 0.8381 - lr: 0.0063 - 77ms/epoch - 5ms/step\n",
            "Epoch 48/100\n",
            "16/16 - 0s - loss: 0.3860 - accuracy: 0.8343 - val_loss: 0.3576 - val_accuracy: 0.8381 - lr: 0.0063 - 83ms/epoch - 5ms/step\n",
            "Epoch 49/100\n",
            "16/16 - 0s - loss: 0.3616 - accuracy: 0.8443 - val_loss: 0.3598 - val_accuracy: 0.8381 - lr: 0.0063 - 75ms/epoch - 5ms/step\n",
            "Epoch 50/100\n",
            "16/16 - 0s - loss: 0.3608 - accuracy: 0.8583 - val_loss: 0.3591 - val_accuracy: 0.8421 - lr: 0.0031 - 81ms/epoch - 5ms/step\n",
            "Epoch 51/100\n",
            "16/16 - 0s - loss: 0.3675 - accuracy: 0.8403 - val_loss: 0.3594 - val_accuracy: 0.8340 - lr: 0.0031 - 94ms/epoch - 6ms/step\n",
            "Epoch 52/100\n",
            "16/16 - 0s - loss: 0.3751 - accuracy: 0.8443 - val_loss: 0.3582 - val_accuracy: 0.8381 - lr: 0.0031 - 88ms/epoch - 5ms/step\n",
            "Epoch 53/100\n",
            "16/16 - 0s - loss: 0.3607 - accuracy: 0.8603 - val_loss: 0.3584 - val_accuracy: 0.8381 - lr: 0.0031 - 73ms/epoch - 5ms/step\n",
            "Epoch 54/100\n",
            "16/16 - 0s - loss: 0.3662 - accuracy: 0.8483 - val_loss: 0.3574 - val_accuracy: 0.8381 - lr: 0.0031 - 84ms/epoch - 5ms/step\n",
            "Epoch 55/100\n",
            "16/16 - 0s - loss: 0.3637 - accuracy: 0.8443 - val_loss: 0.3581 - val_accuracy: 0.8421 - lr: 0.0031 - 100ms/epoch - 6ms/step\n",
            "Epoch 56/100\n",
            "16/16 - 0s - loss: 0.3605 - accuracy: 0.8503 - val_loss: 0.3587 - val_accuracy: 0.8381 - lr: 0.0031 - 76ms/epoch - 5ms/step\n",
            "Epoch 57/100\n",
            "16/16 - 0s - loss: 0.3716 - accuracy: 0.8423 - val_loss: 0.3591 - val_accuracy: 0.8381 - lr: 0.0031 - 90ms/epoch - 6ms/step\n",
            "Epoch 58/100\n",
            "16/16 - 0s - loss: 0.3574 - accuracy: 0.8423 - val_loss: 0.3585 - val_accuracy: 0.8340 - lr: 0.0031 - 76ms/epoch - 5ms/step\n",
            "Epoch 59/100\n",
            "16/16 - 0s - loss: 0.3506 - accuracy: 0.8643 - val_loss: 0.3580 - val_accuracy: 0.8421 - lr: 0.0031 - 71ms/epoch - 4ms/step\n",
            "Epoch 60/100\n",
            "16/16 - 0s - loss: 0.3672 - accuracy: 0.8423 - val_loss: 0.3571 - val_accuracy: 0.8381 - lr: 0.0016 - 66ms/epoch - 4ms/step\n",
            "Epoch 61/100\n",
            "16/16 - 0s - loss: 0.3784 - accuracy: 0.8443 - val_loss: 0.3581 - val_accuracy: 0.8381 - lr: 0.0016 - 68ms/epoch - 4ms/step\n",
            "Epoch 62/100\n",
            "16/16 - 0s - loss: 0.3468 - accuracy: 0.8603 - val_loss: 0.3579 - val_accuracy: 0.8381 - lr: 0.0016 - 64ms/epoch - 4ms/step\n",
            "Epoch 63/100\n",
            "16/16 - 0s - loss: 0.3505 - accuracy: 0.8643 - val_loss: 0.3580 - val_accuracy: 0.8421 - lr: 0.0016 - 86ms/epoch - 5ms/step\n",
            "Epoch 64/100\n",
            "16/16 - 0s - loss: 0.3560 - accuracy: 0.8483 - val_loss: 0.3591 - val_accuracy: 0.8381 - lr: 0.0016 - 67ms/epoch - 4ms/step\n",
            "Epoch 65/100\n",
            "16/16 - 0s - loss: 0.3689 - accuracy: 0.8503 - val_loss: 0.3581 - val_accuracy: 0.8381 - lr: 0.0016 - 74ms/epoch - 5ms/step\n",
            "Epoch 66/100\n",
            "16/16 - 0s - loss: 0.3800 - accuracy: 0.8463 - val_loss: 0.3579 - val_accuracy: 0.8421 - lr: 0.0016 - 74ms/epoch - 5ms/step\n",
            "Epoch 67/100\n",
            "16/16 - 0s - loss: 0.3664 - accuracy: 0.8503 - val_loss: 0.3581 - val_accuracy: 0.8381 - lr: 0.0016 - 75ms/epoch - 5ms/step\n",
            "Epoch 68/100\n",
            "16/16 - 0s - loss: 0.3570 - accuracy: 0.8523 - val_loss: 0.3584 - val_accuracy: 0.8381 - lr: 0.0016 - 69ms/epoch - 4ms/step\n",
            "Epoch 69/100\n",
            "16/16 - 0s - loss: 0.3648 - accuracy: 0.8423 - val_loss: 0.3587 - val_accuracy: 0.8340 - lr: 0.0016 - 70ms/epoch - 4ms/step\n",
            "Epoch 70/100\n",
            "16/16 - 0s - loss: 0.3545 - accuracy: 0.8483 - val_loss: 0.3585 - val_accuracy: 0.8381 - lr: 7.8125e-04 - 64ms/epoch - 4ms/step\n",
            "Epoch 71/100\n",
            "16/16 - 0s - loss: 0.3808 - accuracy: 0.8363 - val_loss: 0.3583 - val_accuracy: 0.8381 - lr: 7.8125e-04 - 74ms/epoch - 5ms/step\n",
            "Epoch 72/100\n",
            "16/16 - 0s - loss: 0.3741 - accuracy: 0.8483 - val_loss: 0.3581 - val_accuracy: 0.8381 - lr: 7.8125e-04 - 66ms/epoch - 4ms/step\n",
            "Epoch 73/100\n",
            "16/16 - 0s - loss: 0.3603 - accuracy: 0.8523 - val_loss: 0.3582 - val_accuracy: 0.8381 - lr: 7.8125e-04 - 94ms/epoch - 6ms/step\n",
            "Epoch 74/100\n",
            "16/16 - 0s - loss: 0.3558 - accuracy: 0.8583 - val_loss: 0.3583 - val_accuracy: 0.8381 - lr: 7.8125e-04 - 93ms/epoch - 6ms/step\n",
            "Epoch 75/100\n",
            "16/16 - 0s - loss: 0.3597 - accuracy: 0.8503 - val_loss: 0.3585 - val_accuracy: 0.8340 - lr: 7.8125e-04 - 98ms/epoch - 6ms/step\n",
            "Epoch 76/100\n",
            "16/16 - 0s - loss: 0.3694 - accuracy: 0.8423 - val_loss: 0.3579 - val_accuracy: 0.8421 - lr: 7.8125e-04 - 93ms/epoch - 6ms/step\n",
            "Epoch 77/100\n",
            "16/16 - 0s - loss: 0.3550 - accuracy: 0.8483 - val_loss: 0.3584 - val_accuracy: 0.8340 - lr: 7.8125e-04 - 108ms/epoch - 7ms/step\n",
            "Epoch 78/100\n",
            "16/16 - 0s - loss: 0.3589 - accuracy: 0.8563 - val_loss: 0.3586 - val_accuracy: 0.8340 - lr: 7.8125e-04 - 91ms/epoch - 6ms/step\n",
            "Epoch 79/100\n",
            "16/16 - 0s - loss: 0.3570 - accuracy: 0.8503 - val_loss: 0.3583 - val_accuracy: 0.8340 - lr: 7.8125e-04 - 102ms/epoch - 6ms/step\n",
            "Epoch 80/100\n",
            "16/16 - 0s - loss: 0.3512 - accuracy: 0.8523 - val_loss: 0.3582 - val_accuracy: 0.8381 - lr: 3.9063e-04 - 147ms/epoch - 9ms/step\n",
            "Epoch 81/100\n",
            "16/16 - 0s - loss: 0.3727 - accuracy: 0.8383 - val_loss: 0.3584 - val_accuracy: 0.8340 - lr: 3.9063e-04 - 124ms/epoch - 8ms/step\n",
            "Epoch 82/100\n",
            "16/16 - 0s - loss: 0.3674 - accuracy: 0.8503 - val_loss: 0.3584 - val_accuracy: 0.8340 - lr: 3.9063e-04 - 103ms/epoch - 6ms/step\n",
            "Epoch 83/100\n",
            "16/16 - 0s - loss: 0.3761 - accuracy: 0.8283 - val_loss: 0.3582 - val_accuracy: 0.8340 - lr: 3.9063e-04 - 100ms/epoch - 6ms/step\n",
            "Epoch 84/100\n",
            "16/16 - 0s - loss: 0.3685 - accuracy: 0.8523 - val_loss: 0.3586 - val_accuracy: 0.8340 - lr: 3.9063e-04 - 91ms/epoch - 6ms/step\n",
            "Epoch 85/100\n",
            "16/16 - 0s - loss: 0.3399 - accuracy: 0.8723 - val_loss: 0.3585 - val_accuracy: 0.8340 - lr: 3.9063e-04 - 87ms/epoch - 5ms/step\n",
            "Epoch 86/100\n",
            "16/16 - 0s - loss: 0.3652 - accuracy: 0.8463 - val_loss: 0.3582 - val_accuracy: 0.8381 - lr: 3.9063e-04 - 99ms/epoch - 6ms/step\n",
            "Epoch 87/100\n",
            "16/16 - 0s - loss: 0.3643 - accuracy: 0.8403 - val_loss: 0.3584 - val_accuracy: 0.8340 - lr: 3.9063e-04 - 107ms/epoch - 7ms/step\n",
            "Epoch 88/100\n",
            "16/16 - 0s - loss: 0.3486 - accuracy: 0.8583 - val_loss: 0.3586 - val_accuracy: 0.8340 - lr: 3.9063e-04 - 122ms/epoch - 8ms/step\n",
            "Epoch 89/100\n",
            "16/16 - 0s - loss: 0.3699 - accuracy: 0.8443 - val_loss: 0.3585 - val_accuracy: 0.8340 - lr: 3.9063e-04 - 149ms/epoch - 9ms/step\n",
            "Epoch 90/100\n",
            "16/16 - 0s - loss: 0.3709 - accuracy: 0.8463 - val_loss: 0.3584 - val_accuracy: 0.8340 - lr: 1.9531e-04 - 115ms/epoch - 7ms/step\n",
            "Epoch 91/100\n",
            "16/16 - 0s - loss: 0.3491 - accuracy: 0.8563 - val_loss: 0.3584 - val_accuracy: 0.8340 - lr: 1.9531e-04 - 113ms/epoch - 7ms/step\n",
            "Epoch 92/100\n",
            "16/16 - 0s - loss: 0.3648 - accuracy: 0.8523 - val_loss: 0.3585 - val_accuracy: 0.8340 - lr: 1.9531e-04 - 115ms/epoch - 7ms/step\n",
            "Epoch 93/100\n",
            "16/16 - 0s - loss: 0.3559 - accuracy: 0.8483 - val_loss: 0.3584 - val_accuracy: 0.8340 - lr: 1.9531e-04 - 109ms/epoch - 7ms/step\n",
            "Epoch 94/100\n",
            "16/16 - 0s - loss: 0.3680 - accuracy: 0.8463 - val_loss: 0.3583 - val_accuracy: 0.8340 - lr: 1.9531e-04 - 146ms/epoch - 9ms/step\n",
            "Epoch 95/100\n",
            "16/16 - 0s - loss: 0.3555 - accuracy: 0.8523 - val_loss: 0.3584 - val_accuracy: 0.8340 - lr: 1.9531e-04 - 68ms/epoch - 4ms/step\n",
            "Epoch 96/100\n",
            "16/16 - 0s - loss: 0.3722 - accuracy: 0.8483 - val_loss: 0.3583 - val_accuracy: 0.8381 - lr: 1.9531e-04 - 70ms/epoch - 4ms/step\n",
            "Epoch 97/100\n",
            "16/16 - 0s - loss: 0.3449 - accuracy: 0.8543 - val_loss: 0.3584 - val_accuracy: 0.8340 - lr: 1.9531e-04 - 121ms/epoch - 8ms/step\n",
            "Epoch 98/100\n",
            "16/16 - 0s - loss: 0.3618 - accuracy: 0.8523 - val_loss: 0.3583 - val_accuracy: 0.8340 - lr: 1.9531e-04 - 68ms/epoch - 4ms/step\n",
            "Epoch 99/100\n",
            "16/16 - 0s - loss: 0.3771 - accuracy: 0.8263 - val_loss: 0.3584 - val_accuracy: 0.8340 - lr: 1.9531e-04 - 74ms/epoch - 5ms/step\n",
            "Epoch 100/100\n",
            "16/16 - 0s - loss: 0.3694 - accuracy: 0.8423 - val_loss: 0.3583 - val_accuracy: 0.8340 - lr: 9.7656e-05 - 78ms/epoch - 5ms/step\n"
          ]
        }
      ]
    },
    {
      "cell_type": "markdown",
      "source": [
        "### Remarks:\n",
        "\n",
        " The purpose of the code is similar to the time-based learning rate but the difference is that the dropping or adjustment of learning rate is done every certain number of epoch, in this case, 10 epoch. The advantage of this is that it really helps in improving the regularization of and generalization of the model.\n",
        "\n",
        " ---\n",
        " **References:**\n",
        " - https://towardsdatascience.com/learning-rate-schedules-and-adaptive-learning-rate-methods-for-deep-learning-2c8f433990d1\n",
        "\n",
        " - https://medium.com/@immanobharathi21/understanding-time-based-vs-drop-based-learning-rate-schedules-631d1d7d24c2"
      ],
      "metadata": {
        "id": "lM5QGUQFznbg"
      }
    },
    {
      "cell_type": "markdown",
      "source": [
        "# **CONCLUSION**\n",
        "\n",
        "\n",
        "The activity aims to discuss how to save models, load it and visiualize the history of the model. It also discussed the dropout regularization and different approaches for learning rate fine tuning.\n",
        "\n",
        "After the activity I conclude the following things:\n",
        "\n",
        "- Saving the model helps a lot in ensuring that the model can be recreated and be used.\n",
        "- JSON and YAML file extensions are the best used in saving the model as it is readable friendly and suitable for saving the model.\n",
        "- Checkpoints are good to use to save the best weights for the model that imrove its performance.\n",
        "- Visualization of the history tells a lot about the fit of the data and indicates whether the model is learning or not, overfit or underfit .\n",
        "- Dropout regularization prevents overfitting and helps in making the generalization of the model better. Additionally, depending on the probability used, the effect would differ. In my case, 20% did not any do good thus adjusting it to 5% yielded to better results. Lastly, depending on the placement on the architecture, the effect to the performance would differ.\n",
        "- The use of two methods: time-based learning rate schele and drop-based rate schedule helps a lot in fine tuning of the model where it improves the generalization of the model by forcing the model to learn from different weights.\n"
      ],
      "metadata": {
        "id": "KTvl-RsaqejN"
      }
    }
  ]
}

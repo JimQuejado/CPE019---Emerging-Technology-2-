{
  "nbformat": 4,
  "nbformat_minor": 0,
  "metadata": {
    "colab": {
      "provenance": [],
      "toc_visible": true,
      "authorship_tag": "ABX9TyM4vKOotcP439LTcWBRGQv6",
      "include_colab_link": true
    },
    "kernelspec": {
      "name": "python3",
      "display_name": "Python 3"
    },
    "language_info": {
      "name": "python"
    }
  },
  "cells": [
    {
      "cell_type": "markdown",
      "metadata": {
        "id": "view-in-github",
        "colab_type": "text"
      },
      "source": [
        "<a href=\"https://colab.research.google.com/github/JimQuejado/Quejado-CPE019-Emerging-Technology-2/blob/main/7.%20Quejado_Assignment_5_2_Build_and_Apply_Multilayer_Perceptron.ipynb\" target=\"_parent\"><img src=\"https://colab.research.google.com/assets/colab-badge.svg\" alt=\"Open In Colab\"/></a>"
      ]
    },
    {
      "cell_type": "markdown",
      "source": [
        "\n",
        "\n",
        "\n",
        "# **CPE019 -Assignment 5.2: Build and Apply Multilayer Perceptron**\n",
        "\n",
        "---\n",
        "\n",
        "\n",
        "**Name:** QUEJADO,  Jimlord M. <br>\n",
        "**Course and Section:** CPE019-CPE32S3 <br>\n",
        "**Date of Submission**: March 26, 2024<br>\n",
        "**Instructor:** Engr. Roman Richard<br>\n",
        "\n",
        "---\n",
        "\n",
        "\n",
        "## Objectives: <br>\n",
        "\n",
        "In this assignment, you are task to build a multilayer perceptron model. The following are the requirements:\n",
        "\n",
        "* Choose any dataset <br>\n",
        "* Explain the problem you are trying to solve<br>\n",
        "* Create your own model<br>\n",
        "* Evaluate the accuracy of your model<br>\n",
        "\n"
      ],
      "metadata": {
        "id": "RJVsvlfQDMv1"
      }
    },
    {
      "cell_type": "markdown",
      "source": [
        "\n",
        "\n",
        "---\n",
        "\n",
        "\n",
        "## **About the Data Set:** <br>\n",
        "\n",
        "\n"
      ],
      "metadata": {
        "id": "xDwKiFUxDtrp"
      }
    },
    {
      "cell_type": "markdown",
      "source": [
        "### **Dry Bean Data Set**\n",
        "\n",
        "\n",
        "Images of 13,611 grains of 7 different registered dry beans were taken with a high-resolution camera. A total of 16 features; 12 dimensions and 4 shape forms, were obtained from the grains.\n",
        "\n",
        "\n",
        "\n",
        "---\n",
        "\n",
        "\n",
        "**Dataset Characteristics**<br>\n",
        "Multivariate<br>\n",
        "\n",
        "**Subject Area**<br>\n",
        "Biology<br>\n",
        "\n",
        "**Associated Tasks**<br>\n",
        "Classification<br>\n",
        "\n",
        "**Feature Type**<br>\n",
        "Integer, Real<br>\n",
        "\n",
        "**# Instances**<br>\n",
        "13611\n",
        "\n",
        "**# Features**<br>\n",
        "16<br>\n",
        "\n",
        "\n",
        "\n",
        "---\n",
        "\n",
        "\n",
        "**DOI**<br>\n",
        "10.24432/C50S4B <br>\n",
        "\n",
        "**Link** <br>\n",
        "https://archive.ics.uci.edu/dataset/602/dry+bean+dataset\n"
      ],
      "metadata": {
        "id": "0HZFAlGmFOvL"
      }
    },
    {
      "cell_type": "markdown",
      "source": [
        "\n",
        "\n",
        "---\n",
        "\n",
        "\n",
        "### Attribute Information:\n",
        "*The following are information about the attributes in the data. Note that the sequence of the attributes below does not reflect the actual sequence in the dataset*. <br>\n",
        "\n",
        "\n",
        "---\n",
        "\n",
        "\n",
        "#### *Data Type: Categorical* <br>\n",
        "* **Class** (Seker, Barbunya, Bombay, Cali, Dermosan, Horoz and Sira)<br>\n",
        "\n",
        "#### *Data Type: Integer* <br>\n",
        "* **Area (A)**: The area of a bean zone and the number of pixels within its boundaries. <br>\n",
        "* **Convex area (C)**: Number of pixels in the smallest convex polygon that can contain the area of a bean seed.<br>\n",
        "\n",
        "#### *Data Type: Continous* <br>\n",
        "* **Perimeter (P)**: Bean circumference is defined as the length of its border. <br>\n",
        "* **Major axis length (L)**: The distance between the ends of the longest line that can be drawn from a bean.<br>\n",
        "* **Minor axis length (l)**: The longest line that can be drawn from the bean while standing perpendicular to the main axis.<br>\n",
        "* **Aspect ratio (K)**: Defines the relationship between L and l.<br>\n",
        "* **Eccentricity (Ec)**: Eccentricity of the ellipse having the same moments as the region.<br>\n",
        "\n",
        "* **Equivalent diameter (Ed)**: The diameter of a circle having the same area as a bean seed area.<br>\n",
        "* **Extent (Ex)**: The ratio of the pixels in the bounding box to the bean area.<br>\n",
        "* **Solidity (S)**: Also known as convexity. The ratio of the pixels in the convex shell to those found in beans.<br>\n",
        "* **Roundness (R)**: Calculated with the following formula: (4piA)/(P^2)<br>\n",
        "* **Compactness (CO)**: Measures the roundness of an object: Ed/L<br>\n",
        "* **ShapeFactor1 (SF1)**<br>\n",
        "* **ShapeFactor2 (SF2)**<br>\n",
        "* **ShapeFactor3 (SF3)**<br>\n",
        "* **ShapeFactor4 (SF4)**<br>\n",
        "\n",
        "\n"
      ],
      "metadata": {
        "id": "9YVVLb8aJQtX"
      }
    },
    {
      "cell_type": "markdown",
      "source": [
        "## Scenario / Problem\n",
        "\n",
        "Create a Multi Perceptron model that can classify the following beans: <br>\n",
        "\n",
        "- **BARBUNYA**    \n",
        "- **BOMBAY**      \n",
        "- **CALI**        \n",
        "- **DERMASON**    \n",
        "- **HOROZ**       \n",
        "- **SEKER**       \n",
        "- **SIRA**\n",
        "\n"
      ],
      "metadata": {
        "id": "oDsWF3uQBHKk"
      }
    },
    {
      "cell_type": "markdown",
      "source": [
        "## Data Cleaning and Preprocessing"
      ],
      "metadata": {
        "id": "gS7PQoyDSGPm"
      }
    },
    {
      "cell_type": "markdown",
      "source": [
        "### Loading the Dataset\n",
        "\n",
        "In this section, the data set from UC Irvine Machine Learning Repository was imported to the notebook."
      ],
      "metadata": {
        "id": "t5vjkrYsSN-1"
      }
    },
    {
      "cell_type": "code",
      "source": [
        "#Importing Libraries\n",
        "import pandas as pd\n",
        "import numpy as np"
      ],
      "metadata": {
        "id": "ovq3LN7RSlBe"
      },
      "execution_count": 198,
      "outputs": []
    },
    {
      "cell_type": "code",
      "source": [
        "#Connecting to GoogleDrive\n",
        "\n",
        "from google.colab import drive\n",
        "drive.mount('/content/drive')"
      ],
      "metadata": {
        "id": "tBCJWGffSukx",
        "colab": {
          "base_uri": "https://localhost:8080/"
        },
        "outputId": "e316b155-5682-4beb-8967-f372f1f48260"
      },
      "execution_count": 199,
      "outputs": [
        {
          "output_type": "stream",
          "name": "stdout",
          "text": [
            "Drive already mounted at /content/drive; to attempt to forcibly remount, call drive.mount(\"/content/drive\", force_remount=True).\n"
          ]
        }
      ]
    },
    {
      "cell_type": "code",
      "source": [
        "#Loading the data\n",
        "data_path = \"/content/drive/MyDrive/CPE019 - HOA 5.2 /Dry_Bean_Dataset.csv\"\n",
        "BeanDF = pd.read_csv(data_path)"
      ],
      "metadata": {
        "id": "fq2Y3_MHTEyw"
      },
      "execution_count": 200,
      "outputs": []
    },
    {
      "cell_type": "code",
      "source": [
        "#checking if data set is properly loaded\n",
        "BeanDF.head()"
      ],
      "metadata": {
        "id": "AZ57VFcxTzJ6",
        "colab": {
          "base_uri": "https://localhost:8080/",
          "height": 226
        },
        "outputId": "7e856b33-e2bb-4cc3-8f0a-f1019ec8c308"
      },
      "execution_count": 201,
      "outputs": [
        {
          "output_type": "execute_result",
          "data": {
            "text/plain": [
              "    Area  Perimeter  MajorAxisLength  MinorAxisLength  AspectRation  \\\n",
              "0  28395    610.291       208.178117       173.888747      1.197191   \n",
              "1  28734    638.018       200.524796       182.734419      1.097356   \n",
              "2  29380    624.110       212.826130       175.931143      1.209713   \n",
              "3  30008    645.884       210.557999       182.516516      1.153638   \n",
              "4  30140    620.134       201.847882       190.279279      1.060798   \n",
              "\n",
              "   Eccentricity  ConvexArea  EquivDiameter    Extent  Solidity  roundness  \\\n",
              "0      0.549812       28715     190.141097  0.763923  0.988856   0.958027   \n",
              "1      0.411785       29172     191.272751  0.783968  0.984986   0.887034   \n",
              "2      0.562727       29690     193.410904  0.778113  0.989559   0.947849   \n",
              "3      0.498616       30724     195.467062  0.782681  0.976696   0.903936   \n",
              "4      0.333680       30417     195.896503  0.773098  0.990893   0.984877   \n",
              "\n",
              "   Compactness  ShapeFactor1  ShapeFactor2  ShapeFactor3  ShapeFactor4  Class  \n",
              "0     0.913358      0.007332      0.003147      0.834222      0.998724  SEKER  \n",
              "1     0.953861      0.006979      0.003564      0.909851      0.998430  SEKER  \n",
              "2     0.908774      0.007244      0.003048      0.825871      0.999066  SEKER  \n",
              "3     0.928329      0.007017      0.003215      0.861794      0.994199  SEKER  \n",
              "4     0.970516      0.006697      0.003665      0.941900      0.999166  SEKER  "
            ],
            "text/html": [
              "\n",
              "  <div id=\"df-17945600-ce39-4903-a68f-35964b21134d\" class=\"colab-df-container\">\n",
              "    <div>\n",
              "<style scoped>\n",
              "    .dataframe tbody tr th:only-of-type {\n",
              "        vertical-align: middle;\n",
              "    }\n",
              "\n",
              "    .dataframe tbody tr th {\n",
              "        vertical-align: top;\n",
              "    }\n",
              "\n",
              "    .dataframe thead th {\n",
              "        text-align: right;\n",
              "    }\n",
              "</style>\n",
              "<table border=\"1\" class=\"dataframe\">\n",
              "  <thead>\n",
              "    <tr style=\"text-align: right;\">\n",
              "      <th></th>\n",
              "      <th>Area</th>\n",
              "      <th>Perimeter</th>\n",
              "      <th>MajorAxisLength</th>\n",
              "      <th>MinorAxisLength</th>\n",
              "      <th>AspectRation</th>\n",
              "      <th>Eccentricity</th>\n",
              "      <th>ConvexArea</th>\n",
              "      <th>EquivDiameter</th>\n",
              "      <th>Extent</th>\n",
              "      <th>Solidity</th>\n",
              "      <th>roundness</th>\n",
              "      <th>Compactness</th>\n",
              "      <th>ShapeFactor1</th>\n",
              "      <th>ShapeFactor2</th>\n",
              "      <th>ShapeFactor3</th>\n",
              "      <th>ShapeFactor4</th>\n",
              "      <th>Class</th>\n",
              "    </tr>\n",
              "  </thead>\n",
              "  <tbody>\n",
              "    <tr>\n",
              "      <th>0</th>\n",
              "      <td>28395</td>\n",
              "      <td>610.291</td>\n",
              "      <td>208.178117</td>\n",
              "      <td>173.888747</td>\n",
              "      <td>1.197191</td>\n",
              "      <td>0.549812</td>\n",
              "      <td>28715</td>\n",
              "      <td>190.141097</td>\n",
              "      <td>0.763923</td>\n",
              "      <td>0.988856</td>\n",
              "      <td>0.958027</td>\n",
              "      <td>0.913358</td>\n",
              "      <td>0.007332</td>\n",
              "      <td>0.003147</td>\n",
              "      <td>0.834222</td>\n",
              "      <td>0.998724</td>\n",
              "      <td>SEKER</td>\n",
              "    </tr>\n",
              "    <tr>\n",
              "      <th>1</th>\n",
              "      <td>28734</td>\n",
              "      <td>638.018</td>\n",
              "      <td>200.524796</td>\n",
              "      <td>182.734419</td>\n",
              "      <td>1.097356</td>\n",
              "      <td>0.411785</td>\n",
              "      <td>29172</td>\n",
              "      <td>191.272751</td>\n",
              "      <td>0.783968</td>\n",
              "      <td>0.984986</td>\n",
              "      <td>0.887034</td>\n",
              "      <td>0.953861</td>\n",
              "      <td>0.006979</td>\n",
              "      <td>0.003564</td>\n",
              "      <td>0.909851</td>\n",
              "      <td>0.998430</td>\n",
              "      <td>SEKER</td>\n",
              "    </tr>\n",
              "    <tr>\n",
              "      <th>2</th>\n",
              "      <td>29380</td>\n",
              "      <td>624.110</td>\n",
              "      <td>212.826130</td>\n",
              "      <td>175.931143</td>\n",
              "      <td>1.209713</td>\n",
              "      <td>0.562727</td>\n",
              "      <td>29690</td>\n",
              "      <td>193.410904</td>\n",
              "      <td>0.778113</td>\n",
              "      <td>0.989559</td>\n",
              "      <td>0.947849</td>\n",
              "      <td>0.908774</td>\n",
              "      <td>0.007244</td>\n",
              "      <td>0.003048</td>\n",
              "      <td>0.825871</td>\n",
              "      <td>0.999066</td>\n",
              "      <td>SEKER</td>\n",
              "    </tr>\n",
              "    <tr>\n",
              "      <th>3</th>\n",
              "      <td>30008</td>\n",
              "      <td>645.884</td>\n",
              "      <td>210.557999</td>\n",
              "      <td>182.516516</td>\n",
              "      <td>1.153638</td>\n",
              "      <td>0.498616</td>\n",
              "      <td>30724</td>\n",
              "      <td>195.467062</td>\n",
              "      <td>0.782681</td>\n",
              "      <td>0.976696</td>\n",
              "      <td>0.903936</td>\n",
              "      <td>0.928329</td>\n",
              "      <td>0.007017</td>\n",
              "      <td>0.003215</td>\n",
              "      <td>0.861794</td>\n",
              "      <td>0.994199</td>\n",
              "      <td>SEKER</td>\n",
              "    </tr>\n",
              "    <tr>\n",
              "      <th>4</th>\n",
              "      <td>30140</td>\n",
              "      <td>620.134</td>\n",
              "      <td>201.847882</td>\n",
              "      <td>190.279279</td>\n",
              "      <td>1.060798</td>\n",
              "      <td>0.333680</td>\n",
              "      <td>30417</td>\n",
              "      <td>195.896503</td>\n",
              "      <td>0.773098</td>\n",
              "      <td>0.990893</td>\n",
              "      <td>0.984877</td>\n",
              "      <td>0.970516</td>\n",
              "      <td>0.006697</td>\n",
              "      <td>0.003665</td>\n",
              "      <td>0.941900</td>\n",
              "      <td>0.999166</td>\n",
              "      <td>SEKER</td>\n",
              "    </tr>\n",
              "  </tbody>\n",
              "</table>\n",
              "</div>\n",
              "    <div class=\"colab-df-buttons\">\n",
              "\n",
              "  <div class=\"colab-df-container\">\n",
              "    <button class=\"colab-df-convert\" onclick=\"convertToInteractive('df-17945600-ce39-4903-a68f-35964b21134d')\"\n",
              "            title=\"Convert this dataframe to an interactive table.\"\n",
              "            style=\"display:none;\">\n",
              "\n",
              "  <svg xmlns=\"http://www.w3.org/2000/svg\" height=\"24px\" viewBox=\"0 -960 960 960\">\n",
              "    <path d=\"M120-120v-720h720v720H120Zm60-500h600v-160H180v160Zm220 220h160v-160H400v160Zm0 220h160v-160H400v160ZM180-400h160v-160H180v160Zm440 0h160v-160H620v160ZM180-180h160v-160H180v160Zm440 0h160v-160H620v160Z\"/>\n",
              "  </svg>\n",
              "    </button>\n",
              "\n",
              "  <style>\n",
              "    .colab-df-container {\n",
              "      display:flex;\n",
              "      gap: 12px;\n",
              "    }\n",
              "\n",
              "    .colab-df-convert {\n",
              "      background-color: #E8F0FE;\n",
              "      border: none;\n",
              "      border-radius: 50%;\n",
              "      cursor: pointer;\n",
              "      display: none;\n",
              "      fill: #1967D2;\n",
              "      height: 32px;\n",
              "      padding: 0 0 0 0;\n",
              "      width: 32px;\n",
              "    }\n",
              "\n",
              "    .colab-df-convert:hover {\n",
              "      background-color: #E2EBFA;\n",
              "      box-shadow: 0px 1px 2px rgba(60, 64, 67, 0.3), 0px 1px 3px 1px rgba(60, 64, 67, 0.15);\n",
              "      fill: #174EA6;\n",
              "    }\n",
              "\n",
              "    .colab-df-buttons div {\n",
              "      margin-bottom: 4px;\n",
              "    }\n",
              "\n",
              "    [theme=dark] .colab-df-convert {\n",
              "      background-color: #3B4455;\n",
              "      fill: #D2E3FC;\n",
              "    }\n",
              "\n",
              "    [theme=dark] .colab-df-convert:hover {\n",
              "      background-color: #434B5C;\n",
              "      box-shadow: 0px 1px 3px 1px rgba(0, 0, 0, 0.15);\n",
              "      filter: drop-shadow(0px 1px 2px rgba(0, 0, 0, 0.3));\n",
              "      fill: #FFFFFF;\n",
              "    }\n",
              "  </style>\n",
              "\n",
              "    <script>\n",
              "      const buttonEl =\n",
              "        document.querySelector('#df-17945600-ce39-4903-a68f-35964b21134d button.colab-df-convert');\n",
              "      buttonEl.style.display =\n",
              "        google.colab.kernel.accessAllowed ? 'block' : 'none';\n",
              "\n",
              "      async function convertToInteractive(key) {\n",
              "        const element = document.querySelector('#df-17945600-ce39-4903-a68f-35964b21134d');\n",
              "        const dataTable =\n",
              "          await google.colab.kernel.invokeFunction('convertToInteractive',\n",
              "                                                    [key], {});\n",
              "        if (!dataTable) return;\n",
              "\n",
              "        const docLinkHtml = 'Like what you see? Visit the ' +\n",
              "          '<a target=\"_blank\" href=https://colab.research.google.com/notebooks/data_table.ipynb>data table notebook</a>'\n",
              "          + ' to learn more about interactive tables.';\n",
              "        element.innerHTML = '';\n",
              "        dataTable['output_type'] = 'display_data';\n",
              "        await google.colab.output.renderOutput(dataTable, element);\n",
              "        const docLink = document.createElement('div');\n",
              "        docLink.innerHTML = docLinkHtml;\n",
              "        element.appendChild(docLink);\n",
              "      }\n",
              "    </script>\n",
              "  </div>\n",
              "\n",
              "\n",
              "<div id=\"df-5f827b66-ab26-4ddc-8520-55fd8ebc7775\">\n",
              "  <button class=\"colab-df-quickchart\" onclick=\"quickchart('df-5f827b66-ab26-4ddc-8520-55fd8ebc7775')\"\n",
              "            title=\"Suggest charts\"\n",
              "            style=\"display:none;\">\n",
              "\n",
              "<svg xmlns=\"http://www.w3.org/2000/svg\" height=\"24px\"viewBox=\"0 0 24 24\"\n",
              "     width=\"24px\">\n",
              "    <g>\n",
              "        <path d=\"M19 3H5c-1.1 0-2 .9-2 2v14c0 1.1.9 2 2 2h14c1.1 0 2-.9 2-2V5c0-1.1-.9-2-2-2zM9 17H7v-7h2v7zm4 0h-2V7h2v10zm4 0h-2v-4h2v4z\"/>\n",
              "    </g>\n",
              "</svg>\n",
              "  </button>\n",
              "\n",
              "<style>\n",
              "  .colab-df-quickchart {\n",
              "      --bg-color: #E8F0FE;\n",
              "      --fill-color: #1967D2;\n",
              "      --hover-bg-color: #E2EBFA;\n",
              "      --hover-fill-color: #174EA6;\n",
              "      --disabled-fill-color: #AAA;\n",
              "      --disabled-bg-color: #DDD;\n",
              "  }\n",
              "\n",
              "  [theme=dark] .colab-df-quickchart {\n",
              "      --bg-color: #3B4455;\n",
              "      --fill-color: #D2E3FC;\n",
              "      --hover-bg-color: #434B5C;\n",
              "      --hover-fill-color: #FFFFFF;\n",
              "      --disabled-bg-color: #3B4455;\n",
              "      --disabled-fill-color: #666;\n",
              "  }\n",
              "\n",
              "  .colab-df-quickchart {\n",
              "    background-color: var(--bg-color);\n",
              "    border: none;\n",
              "    border-radius: 50%;\n",
              "    cursor: pointer;\n",
              "    display: none;\n",
              "    fill: var(--fill-color);\n",
              "    height: 32px;\n",
              "    padding: 0;\n",
              "    width: 32px;\n",
              "  }\n",
              "\n",
              "  .colab-df-quickchart:hover {\n",
              "    background-color: var(--hover-bg-color);\n",
              "    box-shadow: 0 1px 2px rgba(60, 64, 67, 0.3), 0 1px 3px 1px rgba(60, 64, 67, 0.15);\n",
              "    fill: var(--button-hover-fill-color);\n",
              "  }\n",
              "\n",
              "  .colab-df-quickchart-complete:disabled,\n",
              "  .colab-df-quickchart-complete:disabled:hover {\n",
              "    background-color: var(--disabled-bg-color);\n",
              "    fill: var(--disabled-fill-color);\n",
              "    box-shadow: none;\n",
              "  }\n",
              "\n",
              "  .colab-df-spinner {\n",
              "    border: 2px solid var(--fill-color);\n",
              "    border-color: transparent;\n",
              "    border-bottom-color: var(--fill-color);\n",
              "    animation:\n",
              "      spin 1s steps(1) infinite;\n",
              "  }\n",
              "\n",
              "  @keyframes spin {\n",
              "    0% {\n",
              "      border-color: transparent;\n",
              "      border-bottom-color: var(--fill-color);\n",
              "      border-left-color: var(--fill-color);\n",
              "    }\n",
              "    20% {\n",
              "      border-color: transparent;\n",
              "      border-left-color: var(--fill-color);\n",
              "      border-top-color: var(--fill-color);\n",
              "    }\n",
              "    30% {\n",
              "      border-color: transparent;\n",
              "      border-left-color: var(--fill-color);\n",
              "      border-top-color: var(--fill-color);\n",
              "      border-right-color: var(--fill-color);\n",
              "    }\n",
              "    40% {\n",
              "      border-color: transparent;\n",
              "      border-right-color: var(--fill-color);\n",
              "      border-top-color: var(--fill-color);\n",
              "    }\n",
              "    60% {\n",
              "      border-color: transparent;\n",
              "      border-right-color: var(--fill-color);\n",
              "    }\n",
              "    80% {\n",
              "      border-color: transparent;\n",
              "      border-right-color: var(--fill-color);\n",
              "      border-bottom-color: var(--fill-color);\n",
              "    }\n",
              "    90% {\n",
              "      border-color: transparent;\n",
              "      border-bottom-color: var(--fill-color);\n",
              "    }\n",
              "  }\n",
              "</style>\n",
              "\n",
              "  <script>\n",
              "    async function quickchart(key) {\n",
              "      const quickchartButtonEl =\n",
              "        document.querySelector('#' + key + ' button');\n",
              "      quickchartButtonEl.disabled = true;  // To prevent multiple clicks.\n",
              "      quickchartButtonEl.classList.add('colab-df-spinner');\n",
              "      try {\n",
              "        const charts = await google.colab.kernel.invokeFunction(\n",
              "            'suggestCharts', [key], {});\n",
              "      } catch (error) {\n",
              "        console.error('Error during call to suggestCharts:', error);\n",
              "      }\n",
              "      quickchartButtonEl.classList.remove('colab-df-spinner');\n",
              "      quickchartButtonEl.classList.add('colab-df-quickchart-complete');\n",
              "    }\n",
              "    (() => {\n",
              "      let quickchartButtonEl =\n",
              "        document.querySelector('#df-5f827b66-ab26-4ddc-8520-55fd8ebc7775 button');\n",
              "      quickchartButtonEl.style.display =\n",
              "        google.colab.kernel.accessAllowed ? 'block' : 'none';\n",
              "    })();\n",
              "  </script>\n",
              "</div>\n",
              "    </div>\n",
              "  </div>\n"
            ],
            "application/vnd.google.colaboratory.intrinsic+json": {
              "type": "dataframe",
              "variable_name": "BeanDF",
              "summary": "{\n  \"name\": \"BeanDF\",\n  \"rows\": 13611,\n  \"fields\": [\n    {\n      \"column\": \"Area\",\n      \"properties\": {\n        \"dtype\": \"number\",\n        \"std\": 29324,\n        \"min\": 20420,\n        \"max\": 254616,\n        \"num_unique_values\": 12011,\n        \"samples\": [\n          48012,\n          45550,\n          180089\n        ],\n        \"semantic_type\": \"\",\n        \"description\": \"\"\n      }\n    },\n    {\n      \"column\": \"Perimeter\",\n      \"properties\": {\n        \"dtype\": \"number\",\n        \"std\": 214.28969589196143,\n        \"min\": 524.736,\n        \"max\": 1985.37,\n        \"num_unique_values\": 13351,\n        \"samples\": [\n          777.051,\n          744.67,\n          626.673\n        ],\n        \"semantic_type\": \"\",\n        \"description\": \"\"\n      }\n    },\n    {\n      \"column\": \"MajorAxisLength\",\n      \"properties\": {\n        \"dtype\": \"number\",\n        \"std\": 85.69418595933297,\n        \"min\": 183.601165,\n        \"max\": 738.8601535,\n        \"num_unique_values\": 13543,\n        \"samples\": [\n          255.3327747,\n          344.0611383,\n          257.159639\n        ],\n        \"semantic_type\": \"\",\n        \"description\": \"\"\n      }\n    },\n    {\n      \"column\": \"MinorAxisLength\",\n      \"properties\": {\n        \"dtype\": \"number\",\n        \"std\": 44.97009129411452,\n        \"min\": 122.5126535,\n        \"max\": 460.1984968,\n        \"num_unique_values\": 13543,\n        \"samples\": [\n          190.5454144,\n          229.2631251,\n          172.8389871\n        ],\n        \"semantic_type\": \"\",\n        \"description\": \"\"\n      }\n    },\n    {\n      \"column\": \"AspectRation\",\n      \"properties\": {\n        \"dtype\": \"number\",\n        \"std\": 0.24667845568580302,\n        \"min\": 1.024867596,\n        \"max\": 2.430306447,\n        \"num_unique_values\": 13543,\n        \"samples\": [\n          1.340010073,\n          1.500726025,\n          1.487856666\n        ],\n        \"semantic_type\": \"\",\n        \"description\": \"\"\n      }\n    },\n    {\n      \"column\": \"Eccentricity\",\n      \"properties\": {\n        \"dtype\": \"number\",\n        \"std\": 0.09200176320620876,\n        \"min\": 0.218951263,\n        \"max\": 0.911422968,\n        \"num_unique_values\": 13543,\n        \"samples\": [\n          0.665651159,\n          0.745644339,\n          0.740453353\n        ],\n        \"semantic_type\": \"\",\n        \"description\": \"\"\n      }\n    },\n    {\n      \"column\": \"ConvexArea\",\n      \"properties\": {\n        \"dtype\": \"number\",\n        \"std\": 29774,\n        \"min\": 20684,\n        \"max\": 263261,\n        \"num_unique_values\": 12066,\n        \"samples\": [\n          43064,\n          28214,\n          80312\n        ],\n        \"semantic_type\": \"\",\n        \"description\": \"\"\n      }\n    },\n    {\n      \"column\": \"EquivDiameter\",\n      \"properties\": {\n        \"dtype\": \"number\",\n        \"std\": 59.17712014871188,\n        \"min\": 161.2437642,\n        \"max\": 569.3743583,\n        \"num_unique_values\": 12011,\n        \"samples\": [\n          247.2463893,\n          240.8237141,\n          478.8490747\n        ],\n        \"semantic_type\": \"\",\n        \"description\": \"\"\n      }\n    },\n    {\n      \"column\": \"Extent\",\n      \"properties\": {\n        \"dtype\": \"number\",\n        \"std\": 0.04908636684396477,\n        \"min\": 0.555314717,\n        \"max\": 0.866194641,\n        \"num_unique_values\": 13535,\n        \"samples\": [\n          0.753012629,\n          0.813903525,\n          0.710475845\n        ],\n        \"semantic_type\": \"\",\n        \"description\": \"\"\n      }\n    },\n    {\n      \"column\": \"Solidity\",\n      \"properties\": {\n        \"dtype\": \"number\",\n        \"std\": 0.004660379169838444,\n        \"min\": 0.919246157,\n        \"max\": 0.9946775,\n        \"num_unique_values\": 13522,\n        \"samples\": [\n          0.989451562,\n          0.988288395,\n          0.990392287\n        ],\n        \"semantic_type\": \"\",\n        \"description\": \"\"\n      }\n    },\n    {\n      \"column\": \"roundness\",\n      \"properties\": {\n        \"dtype\": \"number\",\n        \"std\": 0.05951988794941905,\n        \"min\": 0.489618256,\n        \"max\": 0.9906854,\n        \"num_unique_values\": 13540,\n        \"samples\": [\n          0.938825243,\n          0.905049768,\n          0.921551042\n        ],\n        \"semantic_type\": \"\",\n        \"description\": \"\"\n      }\n    },\n    {\n      \"column\": \"Compactness\",\n      \"properties\": {\n        \"dtype\": \"number\",\n        \"std\": 0.06171346311682394,\n        \"min\": 0.640576759,\n        \"max\": 0.987302969,\n        \"num_unique_values\": 13543,\n        \"samples\": [\n          0.86341771,\n          0.810085068,\n          0.819260795\n        ],\n        \"semantic_type\": \"\",\n        \"description\": \"\"\n      }\n    },\n    {\n      \"column\": \"ShapeFactor1\",\n      \"properties\": {\n        \"dtype\": \"number\",\n        \"std\": 0.0011279982248070585,\n        \"min\": 0.002778013,\n        \"max\": 0.010451169,\n        \"num_unique_values\": 13521,\n        \"samples\": [\n          0.008601217,\n          0.006711799,\n          0.008063532\n        ],\n        \"semantic_type\": \"\",\n        \"description\": \"\"\n      }\n    },\n    {\n      \"column\": \"ShapeFactor2\",\n      \"properties\": {\n        \"dtype\": \"number\",\n        \"std\": 0.0005958748528937666,\n        \"min\": 0.000564169,\n        \"max\": 0.003664972,\n        \"num_unique_values\": 13506,\n        \"samples\": [\n          0.001092201,\n          0.001521882,\n          0.000939109\n        ],\n        \"semantic_type\": \"\",\n        \"description\": \"\"\n      }\n    },\n    {\n      \"column\": \"ShapeFactor3\",\n      \"properties\": {\n        \"dtype\": \"number\",\n        \"std\": 0.098996150476599,\n        \"min\": 0.410338584,\n        \"max\": 0.974767153,\n        \"num_unique_values\": 13543,\n        \"samples\": [\n          0.745490141,\n          0.656237818,\n          0.67118825\n        ],\n        \"semantic_type\": \"\",\n        \"description\": \"\"\n      }\n    },\n    {\n      \"column\": \"ShapeFactor4\",\n      \"properties\": {\n        \"dtype\": \"number\",\n        \"std\": 0.004366457746634138,\n        \"min\": 0.947687403,\n        \"max\": 0.99973253,\n        \"num_unique_values\": 13532,\n        \"samples\": [\n          0.993185175,\n          0.997895985,\n          0.990881262\n        ],\n        \"semantic_type\": \"\",\n        \"description\": \"\"\n      }\n    },\n    {\n      \"column\": \"Class\",\n      \"properties\": {\n        \"dtype\": \"category\",\n        \"num_unique_values\": 7,\n        \"samples\": [\n          \"SEKER\",\n          \"BARBUNYA\",\n          \"SIRA\"\n        ],\n        \"semantic_type\": \"\",\n        \"description\": \"\"\n      }\n    }\n  ]\n}"
            }
          },
          "metadata": {},
          "execution_count": 201
        }
      ]
    },
    {
      "cell_type": "code",
      "source": [
        "BeanDF.describe()"
      ],
      "metadata": {
        "colab": {
          "base_uri": "https://localhost:8080/",
          "height": 320
        },
        "id": "lv2iRFHDEsOa",
        "outputId": "10a101d0-7aa8-445a-be9d-8187a2fcd1f7"
      },
      "execution_count": 340,
      "outputs": [
        {
          "output_type": "execute_result",
          "data": {
            "text/plain": [
              "                Area     Perimeter  MajorAxisLength  MinorAxisLength  \\\n",
              "count   13611.000000  13611.000000     13611.000000     13611.000000   \n",
              "mean    53048.284549    855.283459       320.141867       202.270714   \n",
              "std     29324.095717    214.289696        85.694186        44.970091   \n",
              "min     20420.000000    524.736000       183.601165       122.512653   \n",
              "25%     36328.000000    703.523500       253.303633       175.848170   \n",
              "50%     44652.000000    794.941000       296.883367       192.431733   \n",
              "75%     61332.000000    977.213000       376.495012       217.031741   \n",
              "max    254616.000000   1985.370000       738.860154       460.198497   \n",
              "\n",
              "       AspectRation  Eccentricity     ConvexArea  EquivDiameter        Extent  \\\n",
              "count  13611.000000  13611.000000   13611.000000   13611.000000  13611.000000   \n",
              "mean       1.583242      0.750895   53768.200206     253.064220      0.749733   \n",
              "std        0.246678      0.092002   29774.915817      59.177120      0.049086   \n",
              "min        1.024868      0.218951   20684.000000     161.243764      0.555315   \n",
              "25%        1.432307      0.715928   36714.500000     215.068003      0.718634   \n",
              "50%        1.551124      0.764441   45178.000000     238.438026      0.759859   \n",
              "75%        1.707109      0.810466   62294.000000     279.446467      0.786851   \n",
              "max        2.430306      0.911423  263261.000000     569.374358      0.866195   \n",
              "\n",
              "           Solidity     roundness   Compactness  ShapeFactor1  ShapeFactor2  \\\n",
              "count  13611.000000  13611.000000  13611.000000  13611.000000  13611.000000   \n",
              "mean       0.987143      0.873282      0.799864      0.006564      0.001716   \n",
              "std        0.004660      0.059520      0.061713      0.001128      0.000596   \n",
              "min        0.919246      0.489618      0.640577      0.002778      0.000564   \n",
              "25%        0.985670      0.832096      0.762469      0.005900      0.001154   \n",
              "50%        0.988283      0.883157      0.801277      0.006645      0.001694   \n",
              "75%        0.990013      0.916869      0.834270      0.007271      0.002170   \n",
              "max        0.994677      0.990685      0.987303      0.010451      0.003665   \n",
              "\n",
              "       ShapeFactor3  ShapeFactor4  \n",
              "count  13611.000000  13611.000000  \n",
              "mean       0.643590      0.995063  \n",
              "std        0.098996      0.004366  \n",
              "min        0.410339      0.947687  \n",
              "25%        0.581359      0.993703  \n",
              "50%        0.642044      0.996386  \n",
              "75%        0.696006      0.997883  \n",
              "max        0.974767      0.999733  "
            ],
            "text/html": [
              "\n",
              "  <div id=\"df-3c1ffa94-885a-49c5-bc53-a931bf95079a\" class=\"colab-df-container\">\n",
              "    <div>\n",
              "<style scoped>\n",
              "    .dataframe tbody tr th:only-of-type {\n",
              "        vertical-align: middle;\n",
              "    }\n",
              "\n",
              "    .dataframe tbody tr th {\n",
              "        vertical-align: top;\n",
              "    }\n",
              "\n",
              "    .dataframe thead th {\n",
              "        text-align: right;\n",
              "    }\n",
              "</style>\n",
              "<table border=\"1\" class=\"dataframe\">\n",
              "  <thead>\n",
              "    <tr style=\"text-align: right;\">\n",
              "      <th></th>\n",
              "      <th>Area</th>\n",
              "      <th>Perimeter</th>\n",
              "      <th>MajorAxisLength</th>\n",
              "      <th>MinorAxisLength</th>\n",
              "      <th>AspectRation</th>\n",
              "      <th>Eccentricity</th>\n",
              "      <th>ConvexArea</th>\n",
              "      <th>EquivDiameter</th>\n",
              "      <th>Extent</th>\n",
              "      <th>Solidity</th>\n",
              "      <th>roundness</th>\n",
              "      <th>Compactness</th>\n",
              "      <th>ShapeFactor1</th>\n",
              "      <th>ShapeFactor2</th>\n",
              "      <th>ShapeFactor3</th>\n",
              "      <th>ShapeFactor4</th>\n",
              "    </tr>\n",
              "  </thead>\n",
              "  <tbody>\n",
              "    <tr>\n",
              "      <th>count</th>\n",
              "      <td>13611.000000</td>\n",
              "      <td>13611.000000</td>\n",
              "      <td>13611.000000</td>\n",
              "      <td>13611.000000</td>\n",
              "      <td>13611.000000</td>\n",
              "      <td>13611.000000</td>\n",
              "      <td>13611.000000</td>\n",
              "      <td>13611.000000</td>\n",
              "      <td>13611.000000</td>\n",
              "      <td>13611.000000</td>\n",
              "      <td>13611.000000</td>\n",
              "      <td>13611.000000</td>\n",
              "      <td>13611.000000</td>\n",
              "      <td>13611.000000</td>\n",
              "      <td>13611.000000</td>\n",
              "      <td>13611.000000</td>\n",
              "    </tr>\n",
              "    <tr>\n",
              "      <th>mean</th>\n",
              "      <td>53048.284549</td>\n",
              "      <td>855.283459</td>\n",
              "      <td>320.141867</td>\n",
              "      <td>202.270714</td>\n",
              "      <td>1.583242</td>\n",
              "      <td>0.750895</td>\n",
              "      <td>53768.200206</td>\n",
              "      <td>253.064220</td>\n",
              "      <td>0.749733</td>\n",
              "      <td>0.987143</td>\n",
              "      <td>0.873282</td>\n",
              "      <td>0.799864</td>\n",
              "      <td>0.006564</td>\n",
              "      <td>0.001716</td>\n",
              "      <td>0.643590</td>\n",
              "      <td>0.995063</td>\n",
              "    </tr>\n",
              "    <tr>\n",
              "      <th>std</th>\n",
              "      <td>29324.095717</td>\n",
              "      <td>214.289696</td>\n",
              "      <td>85.694186</td>\n",
              "      <td>44.970091</td>\n",
              "      <td>0.246678</td>\n",
              "      <td>0.092002</td>\n",
              "      <td>29774.915817</td>\n",
              "      <td>59.177120</td>\n",
              "      <td>0.049086</td>\n",
              "      <td>0.004660</td>\n",
              "      <td>0.059520</td>\n",
              "      <td>0.061713</td>\n",
              "      <td>0.001128</td>\n",
              "      <td>0.000596</td>\n",
              "      <td>0.098996</td>\n",
              "      <td>0.004366</td>\n",
              "    </tr>\n",
              "    <tr>\n",
              "      <th>min</th>\n",
              "      <td>20420.000000</td>\n",
              "      <td>524.736000</td>\n",
              "      <td>183.601165</td>\n",
              "      <td>122.512653</td>\n",
              "      <td>1.024868</td>\n",
              "      <td>0.218951</td>\n",
              "      <td>20684.000000</td>\n",
              "      <td>161.243764</td>\n",
              "      <td>0.555315</td>\n",
              "      <td>0.919246</td>\n",
              "      <td>0.489618</td>\n",
              "      <td>0.640577</td>\n",
              "      <td>0.002778</td>\n",
              "      <td>0.000564</td>\n",
              "      <td>0.410339</td>\n",
              "      <td>0.947687</td>\n",
              "    </tr>\n",
              "    <tr>\n",
              "      <th>25%</th>\n",
              "      <td>36328.000000</td>\n",
              "      <td>703.523500</td>\n",
              "      <td>253.303633</td>\n",
              "      <td>175.848170</td>\n",
              "      <td>1.432307</td>\n",
              "      <td>0.715928</td>\n",
              "      <td>36714.500000</td>\n",
              "      <td>215.068003</td>\n",
              "      <td>0.718634</td>\n",
              "      <td>0.985670</td>\n",
              "      <td>0.832096</td>\n",
              "      <td>0.762469</td>\n",
              "      <td>0.005900</td>\n",
              "      <td>0.001154</td>\n",
              "      <td>0.581359</td>\n",
              "      <td>0.993703</td>\n",
              "    </tr>\n",
              "    <tr>\n",
              "      <th>50%</th>\n",
              "      <td>44652.000000</td>\n",
              "      <td>794.941000</td>\n",
              "      <td>296.883367</td>\n",
              "      <td>192.431733</td>\n",
              "      <td>1.551124</td>\n",
              "      <td>0.764441</td>\n",
              "      <td>45178.000000</td>\n",
              "      <td>238.438026</td>\n",
              "      <td>0.759859</td>\n",
              "      <td>0.988283</td>\n",
              "      <td>0.883157</td>\n",
              "      <td>0.801277</td>\n",
              "      <td>0.006645</td>\n",
              "      <td>0.001694</td>\n",
              "      <td>0.642044</td>\n",
              "      <td>0.996386</td>\n",
              "    </tr>\n",
              "    <tr>\n",
              "      <th>75%</th>\n",
              "      <td>61332.000000</td>\n",
              "      <td>977.213000</td>\n",
              "      <td>376.495012</td>\n",
              "      <td>217.031741</td>\n",
              "      <td>1.707109</td>\n",
              "      <td>0.810466</td>\n",
              "      <td>62294.000000</td>\n",
              "      <td>279.446467</td>\n",
              "      <td>0.786851</td>\n",
              "      <td>0.990013</td>\n",
              "      <td>0.916869</td>\n",
              "      <td>0.834270</td>\n",
              "      <td>0.007271</td>\n",
              "      <td>0.002170</td>\n",
              "      <td>0.696006</td>\n",
              "      <td>0.997883</td>\n",
              "    </tr>\n",
              "    <tr>\n",
              "      <th>max</th>\n",
              "      <td>254616.000000</td>\n",
              "      <td>1985.370000</td>\n",
              "      <td>738.860154</td>\n",
              "      <td>460.198497</td>\n",
              "      <td>2.430306</td>\n",
              "      <td>0.911423</td>\n",
              "      <td>263261.000000</td>\n",
              "      <td>569.374358</td>\n",
              "      <td>0.866195</td>\n",
              "      <td>0.994677</td>\n",
              "      <td>0.990685</td>\n",
              "      <td>0.987303</td>\n",
              "      <td>0.010451</td>\n",
              "      <td>0.003665</td>\n",
              "      <td>0.974767</td>\n",
              "      <td>0.999733</td>\n",
              "    </tr>\n",
              "  </tbody>\n",
              "</table>\n",
              "</div>\n",
              "    <div class=\"colab-df-buttons\">\n",
              "\n",
              "  <div class=\"colab-df-container\">\n",
              "    <button class=\"colab-df-convert\" onclick=\"convertToInteractive('df-3c1ffa94-885a-49c5-bc53-a931bf95079a')\"\n",
              "            title=\"Convert this dataframe to an interactive table.\"\n",
              "            style=\"display:none;\">\n",
              "\n",
              "  <svg xmlns=\"http://www.w3.org/2000/svg\" height=\"24px\" viewBox=\"0 -960 960 960\">\n",
              "    <path d=\"M120-120v-720h720v720H120Zm60-500h600v-160H180v160Zm220 220h160v-160H400v160Zm0 220h160v-160H400v160ZM180-400h160v-160H180v160Zm440 0h160v-160H620v160ZM180-180h160v-160H180v160Zm440 0h160v-160H620v160Z\"/>\n",
              "  </svg>\n",
              "    </button>\n",
              "\n",
              "  <style>\n",
              "    .colab-df-container {\n",
              "      display:flex;\n",
              "      gap: 12px;\n",
              "    }\n",
              "\n",
              "    .colab-df-convert {\n",
              "      background-color: #E8F0FE;\n",
              "      border: none;\n",
              "      border-radius: 50%;\n",
              "      cursor: pointer;\n",
              "      display: none;\n",
              "      fill: #1967D2;\n",
              "      height: 32px;\n",
              "      padding: 0 0 0 0;\n",
              "      width: 32px;\n",
              "    }\n",
              "\n",
              "    .colab-df-convert:hover {\n",
              "      background-color: #E2EBFA;\n",
              "      box-shadow: 0px 1px 2px rgba(60, 64, 67, 0.3), 0px 1px 3px 1px rgba(60, 64, 67, 0.15);\n",
              "      fill: #174EA6;\n",
              "    }\n",
              "\n",
              "    .colab-df-buttons div {\n",
              "      margin-bottom: 4px;\n",
              "    }\n",
              "\n",
              "    [theme=dark] .colab-df-convert {\n",
              "      background-color: #3B4455;\n",
              "      fill: #D2E3FC;\n",
              "    }\n",
              "\n",
              "    [theme=dark] .colab-df-convert:hover {\n",
              "      background-color: #434B5C;\n",
              "      box-shadow: 0px 1px 3px 1px rgba(0, 0, 0, 0.15);\n",
              "      filter: drop-shadow(0px 1px 2px rgba(0, 0, 0, 0.3));\n",
              "      fill: #FFFFFF;\n",
              "    }\n",
              "  </style>\n",
              "\n",
              "    <script>\n",
              "      const buttonEl =\n",
              "        document.querySelector('#df-3c1ffa94-885a-49c5-bc53-a931bf95079a button.colab-df-convert');\n",
              "      buttonEl.style.display =\n",
              "        google.colab.kernel.accessAllowed ? 'block' : 'none';\n",
              "\n",
              "      async function convertToInteractive(key) {\n",
              "        const element = document.querySelector('#df-3c1ffa94-885a-49c5-bc53-a931bf95079a');\n",
              "        const dataTable =\n",
              "          await google.colab.kernel.invokeFunction('convertToInteractive',\n",
              "                                                    [key], {});\n",
              "        if (!dataTable) return;\n",
              "\n",
              "        const docLinkHtml = 'Like what you see? Visit the ' +\n",
              "          '<a target=\"_blank\" href=https://colab.research.google.com/notebooks/data_table.ipynb>data table notebook</a>'\n",
              "          + ' to learn more about interactive tables.';\n",
              "        element.innerHTML = '';\n",
              "        dataTable['output_type'] = 'display_data';\n",
              "        await google.colab.output.renderOutput(dataTable, element);\n",
              "        const docLink = document.createElement('div');\n",
              "        docLink.innerHTML = docLinkHtml;\n",
              "        element.appendChild(docLink);\n",
              "      }\n",
              "    </script>\n",
              "  </div>\n",
              "\n",
              "\n",
              "<div id=\"df-867bca9a-a2ee-42e4-9aae-5bf624f025fd\">\n",
              "  <button class=\"colab-df-quickchart\" onclick=\"quickchart('df-867bca9a-a2ee-42e4-9aae-5bf624f025fd')\"\n",
              "            title=\"Suggest charts\"\n",
              "            style=\"display:none;\">\n",
              "\n",
              "<svg xmlns=\"http://www.w3.org/2000/svg\" height=\"24px\"viewBox=\"0 0 24 24\"\n",
              "     width=\"24px\">\n",
              "    <g>\n",
              "        <path d=\"M19 3H5c-1.1 0-2 .9-2 2v14c0 1.1.9 2 2 2h14c1.1 0 2-.9 2-2V5c0-1.1-.9-2-2-2zM9 17H7v-7h2v7zm4 0h-2V7h2v10zm4 0h-2v-4h2v4z\"/>\n",
              "    </g>\n",
              "</svg>\n",
              "  </button>\n",
              "\n",
              "<style>\n",
              "  .colab-df-quickchart {\n",
              "      --bg-color: #E8F0FE;\n",
              "      --fill-color: #1967D2;\n",
              "      --hover-bg-color: #E2EBFA;\n",
              "      --hover-fill-color: #174EA6;\n",
              "      --disabled-fill-color: #AAA;\n",
              "      --disabled-bg-color: #DDD;\n",
              "  }\n",
              "\n",
              "  [theme=dark] .colab-df-quickchart {\n",
              "      --bg-color: #3B4455;\n",
              "      --fill-color: #D2E3FC;\n",
              "      --hover-bg-color: #434B5C;\n",
              "      --hover-fill-color: #FFFFFF;\n",
              "      --disabled-bg-color: #3B4455;\n",
              "      --disabled-fill-color: #666;\n",
              "  }\n",
              "\n",
              "  .colab-df-quickchart {\n",
              "    background-color: var(--bg-color);\n",
              "    border: none;\n",
              "    border-radius: 50%;\n",
              "    cursor: pointer;\n",
              "    display: none;\n",
              "    fill: var(--fill-color);\n",
              "    height: 32px;\n",
              "    padding: 0;\n",
              "    width: 32px;\n",
              "  }\n",
              "\n",
              "  .colab-df-quickchart:hover {\n",
              "    background-color: var(--hover-bg-color);\n",
              "    box-shadow: 0 1px 2px rgba(60, 64, 67, 0.3), 0 1px 3px 1px rgba(60, 64, 67, 0.15);\n",
              "    fill: var(--button-hover-fill-color);\n",
              "  }\n",
              "\n",
              "  .colab-df-quickchart-complete:disabled,\n",
              "  .colab-df-quickchart-complete:disabled:hover {\n",
              "    background-color: var(--disabled-bg-color);\n",
              "    fill: var(--disabled-fill-color);\n",
              "    box-shadow: none;\n",
              "  }\n",
              "\n",
              "  .colab-df-spinner {\n",
              "    border: 2px solid var(--fill-color);\n",
              "    border-color: transparent;\n",
              "    border-bottom-color: var(--fill-color);\n",
              "    animation:\n",
              "      spin 1s steps(1) infinite;\n",
              "  }\n",
              "\n",
              "  @keyframes spin {\n",
              "    0% {\n",
              "      border-color: transparent;\n",
              "      border-bottom-color: var(--fill-color);\n",
              "      border-left-color: var(--fill-color);\n",
              "    }\n",
              "    20% {\n",
              "      border-color: transparent;\n",
              "      border-left-color: var(--fill-color);\n",
              "      border-top-color: var(--fill-color);\n",
              "    }\n",
              "    30% {\n",
              "      border-color: transparent;\n",
              "      border-left-color: var(--fill-color);\n",
              "      border-top-color: var(--fill-color);\n",
              "      border-right-color: var(--fill-color);\n",
              "    }\n",
              "    40% {\n",
              "      border-color: transparent;\n",
              "      border-right-color: var(--fill-color);\n",
              "      border-top-color: var(--fill-color);\n",
              "    }\n",
              "    60% {\n",
              "      border-color: transparent;\n",
              "      border-right-color: var(--fill-color);\n",
              "    }\n",
              "    80% {\n",
              "      border-color: transparent;\n",
              "      border-right-color: var(--fill-color);\n",
              "      border-bottom-color: var(--fill-color);\n",
              "    }\n",
              "    90% {\n",
              "      border-color: transparent;\n",
              "      border-bottom-color: var(--fill-color);\n",
              "    }\n",
              "  }\n",
              "</style>\n",
              "\n",
              "  <script>\n",
              "    async function quickchart(key) {\n",
              "      const quickchartButtonEl =\n",
              "        document.querySelector('#' + key + ' button');\n",
              "      quickchartButtonEl.disabled = true;  // To prevent multiple clicks.\n",
              "      quickchartButtonEl.classList.add('colab-df-spinner');\n",
              "      try {\n",
              "        const charts = await google.colab.kernel.invokeFunction(\n",
              "            'suggestCharts', [key], {});\n",
              "      } catch (error) {\n",
              "        console.error('Error during call to suggestCharts:', error);\n",
              "      }\n",
              "      quickchartButtonEl.classList.remove('colab-df-spinner');\n",
              "      quickchartButtonEl.classList.add('colab-df-quickchart-complete');\n",
              "    }\n",
              "    (() => {\n",
              "      let quickchartButtonEl =\n",
              "        document.querySelector('#df-867bca9a-a2ee-42e4-9aae-5bf624f025fd button');\n",
              "      quickchartButtonEl.style.display =\n",
              "        google.colab.kernel.accessAllowed ? 'block' : 'none';\n",
              "    })();\n",
              "  </script>\n",
              "</div>\n",
              "    </div>\n",
              "  </div>\n"
            ],
            "application/vnd.google.colaboratory.intrinsic+json": {
              "type": "dataframe",
              "summary": "{\n  \"name\": \"BeanDF\",\n  \"rows\": 8,\n  \"fields\": [\n    {\n      \"column\": \"Area\",\n      \"properties\": {\n        \"dtype\": \"number\",\n        \"std\": 78596.68016115956,\n        \"min\": 13611.0,\n        \"max\": 254616.0,\n        \"num_unique_values\": 8,\n        \"samples\": [\n          53048.284549261625,\n          44652.0,\n          13611.0\n        ],\n        \"semantic_type\": \"\",\n        \"description\": \"\"\n      }\n    },\n    {\n      \"column\": \"Perimeter\",\n      \"properties\": {\n        \"dtype\": \"number\",\n        \"std\": 4535.414873496133,\n        \"min\": 214.28969589196143,\n        \"max\": 13611.0,\n        \"num_unique_values\": 8,\n        \"samples\": [\n          855.283458599662,\n          794.941,\n          13611.0\n        ],\n        \"semantic_type\": \"\",\n        \"description\": \"\"\n      }\n    },\n    {\n      \"column\": \"MajorAxisLength\",\n      \"properties\": {\n        \"dtype\": \"number\",\n        \"std\": 4702.228457342055,\n        \"min\": 85.69418595933297,\n        \"max\": 13611.0,\n        \"num_unique_values\": 8,\n        \"samples\": [\n          320.14186730321796,\n          296.8833669,\n          13611.0\n        ],\n        \"semantic_type\": \"\",\n        \"description\": \"\"\n      }\n    },\n    {\n      \"column\": \"MinorAxisLength\",\n      \"properties\": {\n        \"dtype\": \"number\",\n        \"std\": 4742.219633431459,\n        \"min\": 44.97009129411452,\n        \"max\": 13611.0,\n        \"num_unique_values\": 8,\n        \"samples\": [\n          202.27071408288148,\n          192.4317333,\n          13611.0\n        ],\n        \"semantic_type\": \"\",\n        \"description\": \"\"\n      }\n    },\n    {\n      \"column\": \"AspectRation\",\n      \"properties\": {\n        \"dtype\": \"number\",\n        \"std\": 4811.711393542054,\n        \"min\": 0.24667845568580302,\n        \"max\": 13611.0,\n        \"num_unique_values\": 8,\n        \"samples\": [\n          1.5832419790188086,\n          1.551123666,\n          13611.0\n        ],\n        \"semantic_type\": \"\",\n        \"description\": \"\"\n      }\n    },\n    {\n      \"column\": \"Eccentricity\",\n      \"properties\": {\n        \"dtype\": \"number\",\n        \"std\": 4811.999838529261,\n        \"min\": 0.09200176320620876,\n        \"max\": 13611.0,\n        \"num_unique_values\": 8,\n        \"samples\": [\n          0.7508949293723458,\n          0.764440806,\n          13611.0\n        ],\n        \"semantic_type\": \"\",\n        \"description\": \"\"\n      }\n    },\n    {\n      \"column\": \"ConvexArea\",\n      \"properties\": {\n        \"dtype\": \"number\",\n        \"std\": 81482.62969446386,\n        \"min\": 13611.0,\n        \"max\": 263261.0,\n        \"num_unique_values\": 8,\n        \"samples\": [\n          53768.20020571596,\n          45178.0,\n          13611.0\n        ],\n        \"semantic_type\": \"\",\n        \"description\": \"\"\n      }\n    },\n    {\n      \"column\": \"EquivDiameter\",\n      \"properties\": {\n        \"dtype\": \"number\",\n        \"std\": 4724.767577465343,\n        \"min\": 59.17712014871188,\n        \"max\": 13611.0,\n        \"num_unique_values\": 8,\n        \"samples\": [\n          253.06421992490633,\n          238.4380258,\n          13611.0\n        ],\n        \"semantic_type\": \"\",\n        \"description\": \"\"\n      }\n    },\n    {\n      \"column\": \"Extent\",\n      \"properties\": {\n        \"dtype\": \"number\",\n        \"std\": 4811.988645544266,\n        \"min\": 0.04908636684396477,\n        \"max\": 13611.0,\n        \"num_unique_values\": 8,\n        \"samples\": [\n          0.749732787356403,\n          0.759858948,\n          13611.0\n        ],\n        \"semantic_type\": \"\",\n        \"description\": \"\"\n      }\n    },\n    {\n      \"column\": \"Solidity\",\n      \"properties\": {\n        \"dtype\": \"number\",\n        \"std\": 4811.918747182612,\n        \"min\": 0.004660379169838444,\n        \"max\": 13611.0,\n        \"num_unique_values\": 8,\n        \"samples\": [\n          0.9871428435655719,\n          0.988282998,\n          13611.0\n        ],\n        \"semantic_type\": \"\",\n        \"description\": \"\"\n      }\n    },\n    {\n      \"column\": \"roundness\",\n      \"properties\": {\n        \"dtype\": \"number\",\n        \"std\": 4811.960386735337,\n        \"min\": 0.05951988794941905,\n        \"max\": 13611.0,\n        \"num_unique_values\": 8,\n        \"samples\": [\n          0.8732818313054147,\n          0.883157289,\n          13611.0\n        ],\n        \"semantic_type\": \"\",\n        \"description\": \"\"\n      }\n    },\n    {\n      \"column\": \"Compactness\",\n      \"properties\": {\n        \"dtype\": \"number\",\n        \"std\": 4811.9683526910685,\n        \"min\": 0.06171346311682394,\n        \"max\": 13611.0,\n        \"num_unique_values\": 8,\n        \"samples\": [\n          0.7998636818695908,\n          0.801276684,\n          13611.0\n        ],\n        \"semantic_type\": \"\",\n        \"description\": \"\"\n      }\n    },\n    {\n      \"column\": \"ShapeFactor1\",\n      \"properties\": {\n        \"dtype\": \"number\",\n        \"std\": 4812.213141821532,\n        \"min\": 0.0011279982248070585,\n        \"max\": 13611.0,\n        \"num_unique_values\": 8,\n        \"samples\": [\n          0.0065636085073837325,\n          0.006645174,\n          13611.0\n        ],\n        \"semantic_type\": \"\",\n        \"description\": \"\"\n      }\n    },\n    {\n      \"column\": \"ShapeFactor2\",\n      \"properties\": {\n        \"dtype\": \"number\",\n        \"std\": 4812.214615583743,\n        \"min\": 0.000564169,\n        \"max\": 13611.0,\n        \"num_unique_values\": 8,\n        \"samples\": [\n          0.0017159473389170524,\n          0.001693531,\n          13611.0\n        ],\n        \"semantic_type\": \"\",\n        \"description\": \"\"\n      }\n    },\n    {\n      \"column\": \"ShapeFactor3\",\n      \"properties\": {\n        \"dtype\": \"number\",\n        \"std\": 4812.010796374378,\n        \"min\": 0.098996150476599,\n        \"max\": 13611.0,\n        \"num_unique_values\": 8,\n        \"samples\": [\n          0.643590181297039,\n          0.642044324,\n          13611.0\n        ],\n        \"semantic_type\": \"\",\n        \"description\": \"\"\n      }\n    },\n    {\n      \"column\": \"ShapeFactor4\",\n      \"properties\": {\n        \"dtype\": \"number\",\n        \"std\": 4811.915457984883,\n        \"min\": 0.004366457746634138,\n        \"max\": 13611.0,\n        \"num_unique_values\": 8,\n        \"samples\": [\n          0.9950633118301373,\n          0.996385938,\n          13611.0\n        ],\n        \"semantic_type\": \"\",\n        \"description\": \"\"\n      }\n    }\n  ]\n}"
            }
          },
          "metadata": {},
          "execution_count": 340
        }
      ]
    },
    {
      "cell_type": "markdown",
      "source": [
        "<font color='red'> **Remarks:**  </font> <br>\n",
        "As shown above it can be seen that the data needs preprocessing. The data has not yet been standardized, balanced, filtered, and some data are needed to be converted.  "
      ],
      "metadata": {
        "id": "4d6vQP0AFErE"
      }
    },
    {
      "cell_type": "markdown",
      "source": [
        "### Checking Missing Entries and data type"
      ],
      "metadata": {
        "id": "TDz__FlaWTio"
      }
    },
    {
      "cell_type": "markdown",
      "source": [
        "#### Checking  Null and dtype in each attributes\n",
        "\n",
        "Using the .info() to check the count the number of non-null and dtype of each attribute."
      ],
      "metadata": {
        "id": "YJrpVpZUXDEx"
      }
    },
    {
      "cell_type": "code",
      "source": [
        "BeanDF.info()"
      ],
      "metadata": {
        "id": "pGSzzVXFV1I0",
        "colab": {
          "base_uri": "https://localhost:8080/"
        },
        "outputId": "d98ae87d-fd15-43e9-978c-e2f5ceefdb35"
      },
      "execution_count": 202,
      "outputs": [
        {
          "output_type": "stream",
          "name": "stdout",
          "text": [
            "<class 'pandas.core.frame.DataFrame'>\n",
            "RangeIndex: 13611 entries, 0 to 13610\n",
            "Data columns (total 17 columns):\n",
            " #   Column           Non-Null Count  Dtype  \n",
            "---  ------           --------------  -----  \n",
            " 0   Area             13611 non-null  int64  \n",
            " 1   Perimeter        13611 non-null  float64\n",
            " 2   MajorAxisLength  13611 non-null  float64\n",
            " 3   MinorAxisLength  13611 non-null  float64\n",
            " 4   AspectRation     13611 non-null  float64\n",
            " 5   Eccentricity     13611 non-null  float64\n",
            " 6   ConvexArea       13611 non-null  int64  \n",
            " 7   EquivDiameter    13611 non-null  float64\n",
            " 8   Extent           13611 non-null  float64\n",
            " 9   Solidity         13611 non-null  float64\n",
            " 10  roundness        13611 non-null  float64\n",
            " 11  Compactness      13611 non-null  float64\n",
            " 12  ShapeFactor1     13611 non-null  float64\n",
            " 13  ShapeFactor2     13611 non-null  float64\n",
            " 14  ShapeFactor3     13611 non-null  float64\n",
            " 15  ShapeFactor4     13611 non-null  float64\n",
            " 16  Class            13611 non-null  object \n",
            "dtypes: float64(14), int64(2), object(1)\n",
            "memory usage: 1.8+ MB\n"
          ]
        }
      ]
    },
    {
      "cell_type": "markdown",
      "source": [
        "<font color='red'> **Remarks:**  </font> <br>\n",
        "There are no missing values which reflected to the description in the website. As shown, the Class is an object, and the convexArea and Area are int64. As shown in the .head() command, the Class must be converted to numerical and the data type of the ConvexArea and Area converted to float. The reason of doing this is for better efficiency. Having a homogenous data requires less computations resulting to less potential errors or any other unexpected behaviors."
      ],
      "metadata": {
        "id": "9u61lGfYXnZ2"
      }
    },
    {
      "cell_type": "markdown",
      "source": [
        "#### Changing attributes dtype int to float\n",
        "\n",
        "In this section, the int data type of the two variables namely Area and ConvexArea  "
      ],
      "metadata": {
        "id": "cz0DsQ_QXel3"
      }
    },
    {
      "cell_type": "code",
      "source": [
        "#Changing fromt int to float\n",
        "BeanDF['Area'] = BeanDF['Area'].astype(float)\n",
        "BeanDF['ConvexArea'] = BeanDF['ConvexArea'].astype(float)\n",
        "\n",
        "#Verifying\n",
        "print(BeanDF['Area'].dtype)\n",
        "print( BeanDF['ConvexArea'].dtype)"
      ],
      "metadata": {
        "id": "V7VkVQiMWcmc",
        "colab": {
          "base_uri": "https://localhost:8080/"
        },
        "outputId": "e8a1d06d-5598-4f87-ae53-fb2a2f67e357"
      },
      "execution_count": 203,
      "outputs": [
        {
          "output_type": "stream",
          "name": "stdout",
          "text": [
            "float64\n",
            "float64\n"
          ]
        }
      ]
    },
    {
      "cell_type": "markdown",
      "source": [
        "###Proccessing the Class Attribute\n",
        "\n",
        "\n",
        "In this section, I balanced the dataset and changed the categorical to numberical values."
      ],
      "metadata": {
        "id": "yBz5sgDpf7A-"
      }
    },
    {
      "cell_type": "markdown",
      "source": [
        "#### Checking the number of unique value in each class"
      ],
      "metadata": {
        "id": "BSJwsqnYgPfm"
      }
    },
    {
      "cell_type": "code",
      "source": [
        "count = BeanDF['Class'].value_counts()\n",
        "\n",
        "print(\"Counts of unique values in the 'Class' column:\")\n",
        "print(count)\n"
      ],
      "metadata": {
        "id": "BYGmzzH1c-gK",
        "colab": {
          "base_uri": "https://localhost:8080/"
        },
        "outputId": "43dfec0d-dfaf-47f5-e63b-7c4c3b9b7fcc"
      },
      "execution_count": 204,
      "outputs": [
        {
          "output_type": "stream",
          "name": "stdout",
          "text": [
            "Counts of unique values in the 'Class' column:\n",
            "DERMASON    3546\n",
            "SIRA        2636\n",
            "SEKER       2027\n",
            "HOROZ       1928\n",
            "CALI        1630\n",
            "BARBUNYA    1322\n",
            "BOMBAY       522\n",
            "Name: Class, dtype: int64\n"
          ]
        }
      ]
    },
    {
      "cell_type": "code",
      "source": [
        "#checking the ratio\n",
        "print(3546/522)"
      ],
      "metadata": {
        "id": "q2Lk8EW7hqJE",
        "colab": {
          "base_uri": "https://localhost:8080/"
        },
        "outputId": "212520cf-a1d1-4a66-bea7-59c842b32ec0"
      },
      "execution_count": 205,
      "outputs": [
        {
          "output_type": "stream",
          "name": "stdout",
          "text": [
            "6.793103448275862\n"
          ]
        }
      ]
    },
    {
      "cell_type": "markdown",
      "source": [
        "<font color ='red'> **Remarks:** <font>\n",
        "\n",
        "The number of data in each class are imbalanced. As shown the ratio of bombay and dermason is approximately 6.8 which is quite large. I decided to **undersample** the data in order to remove this imbalance. Although there are trade-offs in this approach, where some important features might be lost, the objective of this activity is to implement MLP without a minimum requirement of accuracy.\n"
      ],
      "metadata": {
        "id": "IIo7n_2GgWHC"
      }
    },
    {
      "cell_type": "markdown",
      "source": [
        "#### Undersampling the dataset\n",
        "\n",
        "In this section, each attribute will be undersampled to the number of bombay values\n"
      ],
      "metadata": {
        "id": "nUfg5RMSj4Pp"
      }
    },
    {
      "cell_type": "code",
      "source": [
        "minority = BeanDF['Class'].value_counts().min()\n",
        "\n",
        "# Undersample each class to match the size of the minority class\n",
        "beanDF_balanced = BeanDF.groupby('Class').apply(lambda x: x.sample(minority)).reset_index(drop=True)"
      ],
      "metadata": {
        "id": "AfGAmn59e3wY"
      },
      "execution_count": 206,
      "outputs": []
    },
    {
      "cell_type": "code",
      "source": [
        "count = beanDF_balanced['Class'].value_counts()\n",
        "print(count)"
      ],
      "metadata": {
        "id": "djRCM3jRkoiR",
        "colab": {
          "base_uri": "https://localhost:8080/"
        },
        "outputId": "da96f513-5842-4163-c5ed-34eca6b2c72f"
      },
      "execution_count": 207,
      "outputs": [
        {
          "output_type": "stream",
          "name": "stdout",
          "text": [
            "BARBUNYA    522\n",
            "BOMBAY      522\n",
            "CALI        522\n",
            "DERMASON    522\n",
            "HOROZ       522\n",
            "SEKER       522\n",
            "SIRA        522\n",
            "Name: Class, dtype: int64\n"
          ]
        }
      ]
    },
    {
      "cell_type": "markdown",
      "source": [
        "#### Changing the Values of Class to Numerical Value\n",
        "\n",
        "In this section the values in 'class' attribute would be changed into:\n",
        "\n",
        "\n",
        "```\n",
        "BARBUNYA    0\n",
        "BOMBAY      1\n",
        "CALI        2\n",
        "DERMASON    3\n",
        "HOROZ       4\n",
        "SEKER       5\n",
        "SIRA        6\n",
        "```"
      ],
      "metadata": {
        "id": "O7nGzkDklK8H"
      }
    },
    {
      "cell_type": "code",
      "source": [
        "#Checking the unique values\n",
        "print(beanDF_balanced['Class'].unique())"
      ],
      "metadata": {
        "id": "pBdyD30HoBr7",
        "colab": {
          "base_uri": "https://localhost:8080/"
        },
        "outputId": "4b5df318-938e-4aa2-d3c5-8c915c00cf44"
      },
      "execution_count": 208,
      "outputs": [
        {
          "output_type": "stream",
          "name": "stdout",
          "text": [
            "['BARBUNYA' 'BOMBAY' 'CALI' 'DERMASON' 'HOROZ' 'SEKER' 'SIRA']\n"
          ]
        }
      ]
    },
    {
      "cell_type": "code",
      "source": [
        "#mapping for the new labels\n",
        "new_Label = {\n",
        "  'BARBUNYA': 0,\n",
        "  'BOMBAY': 1,\n",
        "  'CALI': 2,\n",
        "  'DERMASON': 3,\n",
        "  'HOROZ': 4,\n",
        "  'SEKER':5,\n",
        "  'SIRA':6\n",
        "}\n",
        "\n",
        "beanDF_balanced['Class'] = beanDF_balanced['Class'].map(new_Label)"
      ],
      "metadata": {
        "id": "SQLMyj41mSvd"
      },
      "execution_count": 209,
      "outputs": []
    },
    {
      "cell_type": "code",
      "source": [
        "#Checking the unique values\n",
        "print(beanDF_balanced['Class'].unique())"
      ],
      "metadata": {
        "id": "r5gwlJHwo66V",
        "colab": {
          "base_uri": "https://localhost:8080/"
        },
        "outputId": "4daccb2f-d647-4d73-e796-9b5bd492b33c"
      },
      "execution_count": 210,
      "outputs": [
        {
          "output_type": "stream",
          "name": "stdout",
          "text": [
            "[0 1 2 3 4 5 6]\n"
          ]
        }
      ]
    },
    {
      "cell_type": "markdown",
      "source": [
        "<font color = 'Red'> **Remarks:** <font>\n",
        "\n",
        "By changing the class attribute, the data would compatible to MLP as it requires a numerical input and would also produce numerical output [1].\n",
        "\n",
        "---\n",
        "Reference:\n",
        "\n",
        "[1] S. Abirami and P. Chitra, “Energy-efficient edge based real-time healthcare support system,” in Advances in Computers, 2020, pp. 339–368. doi: 10.1016/bs.adcom.2019.09.007."
      ],
      "metadata": {
        "id": "fWFU9V_bpQn9"
      }
    },
    {
      "cell_type": "markdown",
      "source": [
        "### Splitting the DataSet\n",
        "\n",
        "In this section, the data set is divided into two: the training and tesing data set\n",
        "\n",
        "\n"
      ],
      "metadata": {
        "id": "Jz5HaiIGrbij"
      }
    },
    {
      "cell_type": "code",
      "source": [
        "from sklearn.model_selection import train_test_split\n",
        "\n",
        "#decalring the input and target variables\n",
        "X = beanDF_balanced.loc[:,\"Area\": \"ShapeFactor4\"]\n",
        "y = beanDF_balanced['Class']\n",
        "\n",
        "\n",
        "X_train, X_test, y_train, y_test = train_test_split(X, y, test_size=0.2, stratify=y, random_state=42)"
      ],
      "metadata": {
        "id": "HhqG4x8Urpr0"
      },
      "execution_count": 211,
      "outputs": []
    },
    {
      "cell_type": "code",
      "source": [
        "#checking if the number is balanced in each category\n",
        "print(\"y_train\")\n",
        "print(y_train.value_counts())\n",
        "\n",
        "print(\"y_test\")\n",
        "print(y_test.value_counts())"
      ],
      "metadata": {
        "id": "Eai-K1KEu8S_",
        "colab": {
          "base_uri": "https://localhost:8080/"
        },
        "outputId": "8d8fc1f6-9241-43dd-a30c-76a26bf5a6cc"
      },
      "execution_count": 212,
      "outputs": [
        {
          "output_type": "stream",
          "name": "stdout",
          "text": [
            "y_train\n",
            "5    418\n",
            "0    418\n",
            "1    418\n",
            "2    418\n",
            "6    417\n",
            "3    417\n",
            "4    417\n",
            "Name: Class, dtype: int64\n",
            "y_test\n",
            "6    105\n",
            "3    105\n",
            "4    105\n",
            "1    104\n",
            "0    104\n",
            "2    104\n",
            "5    104\n",
            "Name: Class, dtype: int64\n"
          ]
        }
      ]
    },
    {
      "cell_type": "markdown",
      "source": [
        "<font color = 'Red'> **Remarks:** <font>\n",
        "\n",
        "I used the stratify parmeter in the train_test_split inorder to ensure that the proportion of each class would stay the same [2]. I did this so that there will be no imbalance in my testing and training data set.\n",
        "\n",
        "\n",
        "\n",
        "---\n",
        "Reference:<br>\n",
        "[2] GfG, “How to Implement Stratified Sampling with Scikit-Learn,” GeeksforGeeks, Dec. 26, 2023. https://www.geeksforgeeks.org/how-to-implement-stratified-sampling-with-scikit-learn/\n",
        "\n",
        "---\n",
        "\n",
        "<br>\n"
      ],
      "metadata": {
        "id": "Bcy1dJYzwQdl"
      }
    },
    {
      "cell_type": "markdown",
      "source": [
        "### Standardizing the Data\n",
        "\n",
        "In this section, I applied feature scaling in the x train and test dataframe specifically standardization. The reason is that the independent variables of my data are not yet standardized. By applying this step, I can scale the features in my data frames to have a mean of 0 and a std of 1 [3]. This enables my data frame to be useable on creating a machine learning model.\n",
        "<br><br>\n",
        "\n",
        "---\n",
        "\n",
        "Reference:<br>\n",
        "[3]  R. Vashisht, “When to perform a Feature Scaling?,” Atoti Community, Feb. 14, 2023. https://www.atoti.io/articles/when-to-perform-a-feature-scaling/#:~:text=What%20is%20Feature%20Scaling%3F,during%20the%20data%20preprocessing%20step.\n",
        "\n",
        "---"
      ],
      "metadata": {
        "id": "oHnVmOPC542E"
      }
    },
    {
      "cell_type": "code",
      "source": [
        "from sklearn.preprocessing import StandardScaler\n",
        "scaler = StandardScaler()\n",
        "X_train_scaled = scaler.fit_transform(X_train)\n",
        "X_test_scaled = scaler.transform(X_test)\n"
      ],
      "metadata": {
        "id": "Gyi7bFei9K_s"
      },
      "execution_count": 213,
      "outputs": []
    },
    {
      "cell_type": "markdown",
      "source": [
        "---\n",
        "## **Multilayer Perceptron**\n"
      ],
      "metadata": {
        "id": "Vv-Zjg7Gxb7F"
      }
    },
    {
      "cell_type": "markdown",
      "source": [
        "### Importing the Libaries\n",
        "\n",
        "\n",
        "In this section, the tensorflow library was imported in order to create the Multilayer Perceptron."
      ],
      "metadata": {
        "id": "8bbKsbd65M8i"
      }
    },
    {
      "cell_type": "code",
      "source": [
        "import tensorflow as tf\n",
        "from tensorflow.keras.models import Sequential\n",
        "from tensorflow.keras.layers import Dense\n",
        "from tensorflow.keras.layers import Activation"
      ],
      "metadata": {
        "id": "BiklA3ml5EFj"
      },
      "execution_count": 327,
      "outputs": []
    },
    {
      "cell_type": "markdown",
      "source": [
        "### Creating the Model\n",
        "\n",
        "In this section, the model was was created by defining the MLP model architecture. To put it simply, the hidden layers are created in this section"
      ],
      "metadata": {
        "id": "vWzlA6ab7If1"
      }
    },
    {
      "cell_type": "code",
      "source": [
        "model = Sequential([\n",
        "  Dense(32, activation='relu', input_shape=(X_train_scaled.shape[1],)),\n",
        "  Dense(32, activation='relu'),\n",
        "  Dense(7, activation='softmax')\n",
        "])"
      ],
      "metadata": {
        "id": "ZSnI8H2D7Xd2"
      },
      "execution_count": 328,
      "outputs": []
    },
    {
      "cell_type": "markdown",
      "source": [
        "<Font Color = 'red'> **Remarks:** <font> <br>\n",
        "\n",
        "The activiton that was used was relu for the first 2 layers as it is efficient and easy to implement and it actaully widely used as in neural networks since its performance is proven to be better[11].\n",
        "\n",
        "On the other hand, the softmax is commonly used in multi-class classification tasks output layer[11]. In my data set, there are 7 class that are being used and in my implementation, it is also on the last layer.\n",
        "\n",
        "\n",
        "---\n",
        "Reference: <br>\n",
        "[11] N. Buhl, “Activation Functions in Neural Networks: With 15 examples,” Oct. 17, 2023. https://encord.com/blog/activation-functions-neural-networks/#:~:text=Activation%20functions%20play%20a%20crucial,and%20numerous%20non-linear%20variants.\n",
        "\n",
        "\n",
        "---\n",
        "<br>"
      ],
      "metadata": {
        "id": "KD4P_AzSHdH0"
      }
    },
    {
      "cell_type": "markdown",
      "source": [
        "### Compiling the Model"
      ],
      "metadata": {
        "id": "KXifQtRJG2my"
      }
    },
    {
      "cell_type": "code",
      "source": [
        "model.compile(optimizer='adam',\n",
        "              loss='sparse_categorical_crossentropy',\n",
        "              metrics=['accuracy'])"
      ],
      "metadata": {
        "id": "5iWeB-ka7hHm"
      },
      "execution_count": 329,
      "outputs": []
    },
    {
      "cell_type": "markdown",
      "source": [
        "<Font Color = 'red'> **Remarks:** <font> <br>\n",
        "\n",
        "***.compile()*** was used in this part of the code.These three are said to be the important paramters[8]:\n",
        "\n",
        "- **optimizer**: the optimization algorithm used was adam as it combines the advantages of the two other optimizers namely - AdaGrad and RMSProp[9]. This is the reason I used this instead of the other as compared to others as it gives both the adaptive and efficient advantages of the combined optimizations.\n",
        "\n",
        "- **loss**: the loss function is for the error between the model and true labels. In my case I used 'sparse_categorical_crossentropy'as it is used for multi-class classification with integer labels[10].  In my case, there are 7 classes thus using this would be better than the other loss functions.\n",
        "\n",
        "- **metrics**: this is to monitor the performance of the model. I used accuracy as it gives the accuracy of the model's classification.\n",
        "<br>\n",
        "---\n",
        "**References**: <br>\n",
        "[8] “Keras - Model Compilation.” https://www.tutorialspoint.com/keras/keras_model_compilation.htm\n",
        "\n",
        "[9] A. Gupta, “A comprehensive guide on optimizers in deep learning,” Analytics Vidhya, Jan. 23, 2024. https://www.analyticsvidhya.com/blog/2021/10/a-comprehensive-guide-on-deep-learning-optimizers/\n",
        "\n",
        "[10] K. Team, “Keras documentation: Losses.” https://keras.io/api/losses/\n",
        "\n",
        "---\n",
        "<br>"
      ],
      "metadata": {
        "id": "UEsgCE7zID9Z"
      }
    },
    {
      "cell_type": "markdown",
      "source": [
        "### **Training the Model**\n",
        "\n",
        "In this section of the code, the model was trained using the .fit() function. It was stored in a variable history to create"
      ],
      "metadata": {
        "id": "a3LFUw2ZIXgh"
      }
    },
    {
      "cell_type": "code",
      "source": [
        "history = model.fit(X_train_scaled, y_train, epochs=20, batch_size=32, validation_split=0.2)"
      ],
      "metadata": {
        "id": "jRIFy8tB8F8W",
        "colab": {
          "base_uri": "https://localhost:8080/"
        },
        "outputId": "9eb4a9b9-52dc-4379-cb25-30dbb7bf3766"
      },
      "execution_count": 330,
      "outputs": [
        {
          "output_type": "stream",
          "name": "stdout",
          "text": [
            "Epoch 1/20\n",
            "74/74 [==============================] - 1s 7ms/step - loss: 1.3229 - accuracy: 0.5646 - val_loss: 0.8706 - val_accuracy: 0.7812\n",
            "Epoch 2/20\n",
            "74/74 [==============================] - 0s 4ms/step - loss: 0.6501 - accuracy: 0.8268 - val_loss: 0.4849 - val_accuracy: 0.8410\n",
            "Epoch 3/20\n",
            "74/74 [==============================] - 0s 4ms/step - loss: 0.4162 - accuracy: 0.8597 - val_loss: 0.3820 - val_accuracy: 0.8547\n",
            "Epoch 4/20\n",
            "74/74 [==============================] - 0s 4ms/step - loss: 0.3377 - accuracy: 0.8820 - val_loss: 0.3408 - val_accuracy: 0.8701\n",
            "Epoch 5/20\n",
            "74/74 [==============================] - 0s 4ms/step - loss: 0.2908 - accuracy: 0.9038 - val_loss: 0.3072 - val_accuracy: 0.8889\n",
            "Epoch 6/20\n",
            "74/74 [==============================] - 0s 4ms/step - loss: 0.2607 - accuracy: 0.9187 - val_loss: 0.2873 - val_accuracy: 0.9111\n",
            "Epoch 7/20\n",
            "74/74 [==============================] - 0s 4ms/step - loss: 0.2367 - accuracy: 0.9256 - val_loss: 0.2761 - val_accuracy: 0.9128\n",
            "Epoch 8/20\n",
            "74/74 [==============================] - 1s 8ms/step - loss: 0.2236 - accuracy: 0.9269 - val_loss: 0.2581 - val_accuracy: 0.9265\n",
            "Epoch 9/20\n",
            "74/74 [==============================] - 1s 10ms/step - loss: 0.2073 - accuracy: 0.9324 - val_loss: 0.2550 - val_accuracy: 0.9179\n",
            "Epoch 10/20\n",
            "74/74 [==============================] - 1s 10ms/step - loss: 0.1961 - accuracy: 0.9350 - val_loss: 0.2364 - val_accuracy: 0.9248\n",
            "Epoch 11/20\n",
            "74/74 [==============================] - 1s 10ms/step - loss: 0.1894 - accuracy: 0.9376 - val_loss: 0.2359 - val_accuracy: 0.9265\n",
            "Epoch 12/20\n",
            "74/74 [==============================] - 1s 10ms/step - loss: 0.1823 - accuracy: 0.9388 - val_loss: 0.2324 - val_accuracy: 0.9282\n",
            "Epoch 13/20\n",
            "74/74 [==============================] - 1s 12ms/step - loss: 0.1737 - accuracy: 0.9427 - val_loss: 0.2266 - val_accuracy: 0.9128\n",
            "Epoch 14/20\n",
            "74/74 [==============================] - 1s 10ms/step - loss: 0.1762 - accuracy: 0.9435 - val_loss: 0.2272 - val_accuracy: 0.9282\n",
            "Epoch 15/20\n",
            "74/74 [==============================] - 0s 4ms/step - loss: 0.1675 - accuracy: 0.9427 - val_loss: 0.2293 - val_accuracy: 0.9282\n",
            "Epoch 16/20\n",
            "74/74 [==============================] - 0s 4ms/step - loss: 0.1624 - accuracy: 0.9453 - val_loss: 0.2356 - val_accuracy: 0.9282\n",
            "Epoch 17/20\n",
            "74/74 [==============================] - 0s 4ms/step - loss: 0.1646 - accuracy: 0.9423 - val_loss: 0.2249 - val_accuracy: 0.9299\n",
            "Epoch 18/20\n",
            "74/74 [==============================] - 0s 3ms/step - loss: 0.1692 - accuracy: 0.9393 - val_loss: 0.2277 - val_accuracy: 0.9265\n",
            "Epoch 19/20\n",
            "74/74 [==============================] - 0s 4ms/step - loss: 0.1591 - accuracy: 0.9435 - val_loss: 0.2212 - val_accuracy: 0.9248\n",
            "Epoch 20/20\n",
            "74/74 [==============================] - 0s 4ms/step - loss: 0.1589 - accuracy: 0.9457 - val_loss: 0.2223 - val_accuracy: 0.9333\n"
          ]
        }
      ]
    },
    {
      "cell_type": "markdown",
      "source": [
        "<Font Color = 'green'> **Observation:** <font> <br>\n",
        "\n",
        "I noticed that it was stored in a variable called history. Upon research, I learned that this history basically holds the this variable is from Keras wherein it record all the training history or records for each **epoch**[6]. In this case, the history would have metrics namey:\n",
        "\n",
        "['accuracy', 'loss', 'val_accuracy', 'val_loss']\n",
        "\n",
        "\n",
        "Epoch on the other hand is a hyperparameter that defines the number times that the learning algorithm will work through the entire training dataset while batch_size refers to the number of samples that will be propagated through the network at a time before the model's weights are updated[7].\n",
        "\n",
        "<br>\n",
        "\n",
        "<Font Color = 'red'> **Remarks:** <font> <br>\n",
        "\n",
        "The epoch I used in this code is an arbitrary value where I wanted to see if it is enough value. The same goes with other parameters such as the batch size and validation split.\n",
        "\n",
        "---\n",
        "\n",
        "Reference: <br>\n",
        "[6] J. Brownlee, “Display Deep learning model training History in KERAS,” MachineLearningMastery.com, Aug. 05, 2022. https://machinelearningmastery.com/display-deep-learning-model-training-history-in-keras/\n",
        "\n",
        "[7] J. Brownlee, “Difference between a batch and an epoch in a neural network,” MachineLearningMastery.com, Aug. 15, 2022. https://machinelearningmastery.com/difference-between-a-batch-and-an-epoch/"
      ],
      "metadata": {
        "id": "mKhGy3aDJpdG"
      }
    },
    {
      "cell_type": "markdown",
      "source": [
        "### Evaluating the model"
      ],
      "metadata": {
        "id": "wEq6_zlQMxGe"
      }
    },
    {
      "cell_type": "code",
      "source": [
        "train_loss, train_accuracy = model.evaluate(X_train_scaled, y_train)\n",
        "print(f'Training Accuracy: {train_accuracy:.4f}')\n",
        "print(f'Training Loss: {train_loss:.4f}')\n",
        "\n",
        "test_loss, test_accuracy = model.evaluate(X_test_scaled, y_test)\n",
        "print(f'Test Accuracy: {test_accuracy:.4f}')\n",
        "print(f'Test Loss: {test_loss:.4f}')"
      ],
      "metadata": {
        "id": "noBX7J0o8KAj",
        "colab": {
          "base_uri": "https://localhost:8080/"
        },
        "outputId": "2880ea6b-d4a2-478f-8cd1-ca259f79b6c0"
      },
      "execution_count": 331,
      "outputs": [
        {
          "output_type": "stream",
          "name": "stdout",
          "text": [
            "92/92 [==============================] - 0s 2ms/step - loss: 0.1623 - accuracy: 0.9456\n",
            "Training Accuracy: 0.9456\n",
            "Training Loss: 0.1623\n",
            "23/23 [==============================] - 0s 2ms/step - loss: 0.1913 - accuracy: 0.9207\n",
            "Test Accuracy: 0.9207\n",
            "Test Loss: 0.1913\n"
          ]
        }
      ]
    },
    {
      "cell_type": "markdown",
      "source": [
        "<Font Color = 'Green'> **Observation:**\n",
        "\n",
        "Accuracy and loss are the two metrics that was observed in the model. Accuracy is about how the performace of the model in terms of classification. On the other hand, loss is the summation of the errors made for each sample in training or validation sets. These two are used\n",
        "\n",
        "<Font Color = 'Red'> **Remarks:** <font>\n",
        "\n",
        "The accuracy of the model is 92.07% on an unkown data with a loss of 0.1913. This is a good result but inorder to check whether I can still enhance this, I also tested different parameters as shown in the following codes. The goal would make it result to higher than the current scores.\n",
        "\n",
        "---\n",
        "References: <br>\n",
        "[4] “Accuracy and Loss | AI Wiki.” https://machine-learning.paperspace.com/wiki/accuracy-and-loss"
      ],
      "metadata": {
        "id": "kV6MTqTHM5OP"
      }
    },
    {
      "cell_type": "markdown",
      "source": [
        "### Visualization"
      ],
      "metadata": {
        "id": "Qufe7UjaYUc4"
      }
    },
    {
      "cell_type": "code",
      "source": [
        "import matplotlib.pyplot as plt\n",
        "plt.plot(history.history['loss'], 'ro-', markersize = 5)\n",
        "plt.plot(history.history['val_loss'],'bo-',markersize = 5)\n",
        "plt.legend(('Training', 'Testing'))\n",
        "plt.xlabel('epoch')\n",
        "plt.ylabel('loss')"
      ],
      "metadata": {
        "colab": {
          "base_uri": "https://localhost:8080/",
          "height": 467
        },
        "id": "Ru7QAk5LYTnE",
        "outputId": "d62beefb-d99b-4cae-c0fa-67e0f5c50b3a"
      },
      "execution_count": 332,
      "outputs": [
        {
          "output_type": "execute_result",
          "data": {
            "text/plain": [
              "Text(0, 0.5, 'loss')"
            ]
          },
          "metadata": {},
          "execution_count": 332
        },
        {
          "output_type": "display_data",
          "data": {
            "text/plain": [
              "<Figure size 640x480 with 1 Axes>"
            ],
            "image/png": "[encoded data removed]"
          },
          "metadata": {}
        }
      ]
    },
    {
      "cell_type": "code",
      "source": [
        "plt.plot(history.history['accuracy'], 'ro-', markersize = 5)\n",
        "plt.plot(history.history['val_accuracy'], 'bo-',markersize = 5)\n",
        "plt.legend(('Training', 'Testing'))\n",
        "plt.xlabel('Epoch')\n",
        "plt.ylabel('Accuracy')"
      ],
      "metadata": {
        "colab": {
          "base_uri": "https://localhost:8080/",
          "height": 467
        },
        "id": "tLg7L8azYZx-",
        "outputId": "494780a0-8602-4c07-8795-6dfc98539e14"
      },
      "execution_count": 333,
      "outputs": [
        {
          "output_type": "execute_result",
          "data": {
            "text/plain": [
              "Text(0, 0.5, 'Accuracy')"
            ]
          },
          "metadata": {},
          "execution_count": 333
        },
        {
          "output_type": "display_data",
          "data": {
            "text/plain": [
              "<Figure size 640x480 with 1 Axes>"
            ],
            "image/png": "[encoded data removed]"
          },
          "metadata": {}
        }
      ]
    },
    {
      "cell_type": "markdown",
      "source": [
        "<font color = 'red'> **Remarks:**\n",
        "\n",
        "As shown in the graphs above, the model performance against an unkown data is close to the training's accuracy and the a loss that is higher compared to the training."
      ],
      "metadata": {
        "id": "rdk1MFvL8y7J"
      }
    },
    {
      "cell_type": "markdown",
      "source": [
        "## Adjusting the Model Parameters\n",
        "\n",
        "In this section, I tested different parameters so that I can have a better results than the previous."
      ],
      "metadata": {
        "id": "QYPU7KyjPGpr"
      }
    },
    {
      "cell_type": "code",
      "source": [
        "from tensorflow.keras.models import Sequential\n",
        "from tensorflow.keras.layers import Dense, Dropout\n",
        "from tensorflow.keras.optimizers import Adam\n",
        "\n",
        "model = Sequential([\n",
        "    Dense(128, activation='relu', input_shape=(X_train_scaled.shape[1],)),\n",
        "    Dense(128, activation='relu'),\n",
        "    Dense(64, activation='relu'),\n",
        "    Dense(32, activation='relu'),\n",
        "    Dense(7, activation='softmax')\n",
        "])\n",
        "\n",
        "optimizer = Adam(learning_rate=0.00025)\n",
        "model.compile(optimizer=optimizer,\n",
        "              loss='sparse_categorical_crossentropy',\n",
        "              metrics=['accuracy'])\n",
        "\n",
        "history = model.fit(X_train_scaled, y_train, epochs=30, batch_size=64, validation_split=0.2)\n"
      ],
      "metadata": {
        "id": "zUFSWFslPb8V",
        "colab": {
          "base_uri": "https://localhost:8080/"
        },
        "outputId": "1deba50e-4cf6-4df3-9650-3860cf57e846"
      },
      "execution_count": 334,
      "outputs": [
        {
          "output_type": "stream",
          "name": "stdout",
          "text": [
            "Epoch 1/30\n",
            "37/37 [==============================] - 2s 13ms/step - loss: 1.7016 - accuracy: 0.3648 - val_loss: 1.4297 - val_accuracy: 0.5675\n",
            "Epoch 2/30\n",
            "37/37 [==============================] - 0s 7ms/step - loss: 1.3333 - accuracy: 0.5376 - val_loss: 1.0493 - val_accuracy: 0.7231\n",
            "Epoch 3/30\n",
            "37/37 [==============================] - 0s 7ms/step - loss: 1.0210 - accuracy: 0.6698 - val_loss: 0.7373 - val_accuracy: 0.7726\n",
            "Epoch 4/30\n",
            "37/37 [==============================] - 0s 7ms/step - loss: 0.7710 - accuracy: 0.7519 - val_loss: 0.5410 - val_accuracy: 0.8034\n",
            "Epoch 5/30\n",
            "37/37 [==============================] - 0s 7ms/step - loss: 0.6154 - accuracy: 0.7921 - val_loss: 0.4393 - val_accuracy: 0.8188\n",
            "Epoch 6/30\n",
            "37/37 [==============================] - 0s 5ms/step - loss: 0.5207 - accuracy: 0.8024 - val_loss: 0.3967 - val_accuracy: 0.8342\n",
            "Epoch 7/30\n",
            "37/37 [==============================] - 0s 5ms/step - loss: 0.4658 - accuracy: 0.8229 - val_loss: 0.3676 - val_accuracy: 0.8547\n",
            "Epoch 8/30\n",
            "37/37 [==============================] - 0s 5ms/step - loss: 0.4303 - accuracy: 0.8366 - val_loss: 0.3496 - val_accuracy: 0.8598\n",
            "Epoch 9/30\n",
            "37/37 [==============================] - 0s 5ms/step - loss: 0.4111 - accuracy: 0.8563 - val_loss: 0.3350 - val_accuracy: 0.8650\n",
            "Epoch 10/30\n",
            "37/37 [==============================] - 0s 5ms/step - loss: 0.3780 - accuracy: 0.8627 - val_loss: 0.3087 - val_accuracy: 0.8957\n",
            "Epoch 11/30\n",
            "37/37 [==============================] - 0s 6ms/step - loss: 0.3628 - accuracy: 0.8751 - val_loss: 0.2935 - val_accuracy: 0.9026\n",
            "Epoch 12/30\n",
            "37/37 [==============================] - 0s 7ms/step - loss: 0.3368 - accuracy: 0.8832 - val_loss: 0.2782 - val_accuracy: 0.9009\n",
            "Epoch 13/30\n",
            "37/37 [==============================] - 0s 6ms/step - loss: 0.3196 - accuracy: 0.8982 - val_loss: 0.2759 - val_accuracy: 0.8974\n",
            "Epoch 14/30\n",
            "37/37 [==============================] - 0s 5ms/step - loss: 0.2929 - accuracy: 0.8995 - val_loss: 0.2607 - val_accuracy: 0.9060\n",
            "Epoch 15/30\n",
            "37/37 [==============================] - 0s 6ms/step - loss: 0.2815 - accuracy: 0.9123 - val_loss: 0.2646 - val_accuracy: 0.9060\n",
            "Epoch 16/30\n",
            "37/37 [==============================] - 0s 6ms/step - loss: 0.2743 - accuracy: 0.9102 - val_loss: 0.2489 - val_accuracy: 0.9111\n",
            "Epoch 17/30\n",
            "37/37 [==============================] - 0s 5ms/step - loss: 0.2678 - accuracy: 0.9110 - val_loss: 0.2420 - val_accuracy: 0.9179\n",
            "Epoch 18/30\n",
            "37/37 [==============================] - 0s 6ms/step - loss: 0.2581 - accuracy: 0.9157 - val_loss: 0.2406 - val_accuracy: 0.9162\n",
            "Epoch 19/30\n",
            "37/37 [==============================] - 0s 6ms/step - loss: 0.2445 - accuracy: 0.9175 - val_loss: 0.2380 - val_accuracy: 0.9248\n",
            "Epoch 20/30\n",
            "37/37 [==============================] - 0s 6ms/step - loss: 0.2505 - accuracy: 0.9175 - val_loss: 0.2465 - val_accuracy: 0.9231\n",
            "Epoch 21/30\n",
            "37/37 [==============================] - 0s 9ms/step - loss: 0.2400 - accuracy: 0.9230 - val_loss: 0.2360 - val_accuracy: 0.9231\n",
            "Epoch 22/30\n",
            "37/37 [==============================] - 0s 8ms/step - loss: 0.2262 - accuracy: 0.9294 - val_loss: 0.2334 - val_accuracy: 0.9265\n",
            "Epoch 23/30\n",
            "37/37 [==============================] - 0s 9ms/step - loss: 0.2185 - accuracy: 0.9307 - val_loss: 0.2321 - val_accuracy: 0.9248\n",
            "Epoch 24/30\n",
            "37/37 [==============================] - 0s 10ms/step - loss: 0.2250 - accuracy: 0.9307 - val_loss: 0.2385 - val_accuracy: 0.9214\n",
            "Epoch 25/30\n",
            "37/37 [==============================] - 0s 8ms/step - loss: 0.2186 - accuracy: 0.9269 - val_loss: 0.2325 - val_accuracy: 0.9214\n",
            "Epoch 26/30\n",
            "37/37 [==============================] - 0s 9ms/step - loss: 0.2136 - accuracy: 0.9328 - val_loss: 0.2325 - val_accuracy: 0.9265\n",
            "Epoch 27/30\n",
            "37/37 [==============================] - 0s 9ms/step - loss: 0.2136 - accuracy: 0.9299 - val_loss: 0.2328 - val_accuracy: 0.9299\n",
            "Epoch 28/30\n",
            "37/37 [==============================] - 0s 9ms/step - loss: 0.2171 - accuracy: 0.9299 - val_loss: 0.2337 - val_accuracy: 0.9248\n",
            "Epoch 29/30\n",
            "37/37 [==============================] - 0s 8ms/step - loss: 0.1945 - accuracy: 0.9371 - val_loss: 0.2297 - val_accuracy: 0.9231\n",
            "Epoch 30/30\n",
            "37/37 [==============================] - 0s 9ms/step - loss: 0.2052 - accuracy: 0.9358 - val_loss: 0.2307 - val_accuracy: 0.9350\n"
          ]
        }
      ]
    },
    {
      "cell_type": "markdown",
      "source": [
        "<font color = 'Red'> **Remarks:** <br>\n",
        "\n",
        "To adjust the model I changed the number of layers along with the neurons except for the output layer. I also changed the parameters of the optimizer to be specific the learning rate. Lastly, I changed the epoch and the batch size."
      ],
      "metadata": {
        "id": "_A8DVIgL-Bn4"
      }
    },
    {
      "cell_type": "markdown",
      "source": [
        "### Evaluating the Adjusted Model"
      ],
      "metadata": {
        "id": "mykT_aTEPk8n"
      }
    },
    {
      "cell_type": "code",
      "source": [
        "train_loss, train_accuracy = model.evaluate(X_train_scaled, y_train)\n",
        "print(f'Training Accuracy: {train_accuracy:.4f}')\n",
        "print(f'Training Loss: {train_loss:.4f}')\n",
        "\n",
        "test_loss, test_accuracy = model.evaluate(X_test_scaled, y_test)\n",
        "print(f'Test Accuracy: {test_accuracy:.4f}')\n",
        "print(f'Test Loss: {test_loss:.4f}')"
      ],
      "metadata": {
        "id": "tocDpTNKPvUw",
        "colab": {
          "base_uri": "https://localhost:8080/"
        },
        "outputId": "302e58e1-1fb7-4137-a413-d75fd0c35d5d"
      },
      "execution_count": 335,
      "outputs": [
        {
          "output_type": "stream",
          "name": "stdout",
          "text": [
            "92/92 [==============================] - 0s 2ms/step - loss: 0.1622 - accuracy: 0.9449\n",
            "Training Accuracy: 0.9449\n",
            "Training Loss: 0.1622\n",
            "23/23 [==============================] - 0s 2ms/step - loss: 0.1827 - accuracy: 0.9234\n",
            "Test Accuracy: 0.9234\n",
            "Test Loss: 0.1827\n"
          ]
        }
      ]
    },
    {
      "cell_type": "markdown",
      "source": [
        "<font color = 'Red'> **Remarks:** <br>\n",
        "\n",
        "The results shows that after modifying the code, the performance of model SLIGHTLY became better."
      ],
      "metadata": {
        "id": "pJAgKVja_bcu"
      }
    },
    {
      "cell_type": "markdown",
      "source": [
        "### Visualization"
      ],
      "metadata": {
        "id": "mH7cWYfjM2Hl"
      }
    },
    {
      "cell_type": "code",
      "source": [
        "import matplotlib.pyplot as plt\n",
        "plt.plot(history.history['loss'], 'ro-', markersize = 5)\n",
        "plt.plot(history.history['val_loss'],'bo-',markersize = 5)\n",
        "plt.legend(('Training', 'Testing'))\n",
        "plt.xlabel('epoch')\n",
        "plt.ylabel('loss')\n"
      ],
      "metadata": {
        "id": "MQg9OG0Iie0x",
        "colab": {
          "base_uri": "https://localhost:8080/",
          "height": 467
        },
        "outputId": "219c9508-89f6-453a-f932-665984eeeaff"
      },
      "execution_count": 339,
      "outputs": [
        {
          "output_type": "execute_result",
          "data": {
            "text/plain": [
              "Text(0, 0.5, 'loss')"
            ]
          },
          "metadata": {},
          "execution_count": 339
        },
        {
          "output_type": "display_data",
          "data": {
            "text/plain": [
              "<Figure size 640x480 with 1 Axes>"
            ],
            "image/png": "[encoded data removed]"
          },
          "metadata": {}
        }
      ]
    },
    {
      "cell_type": "code",
      "source": [
        "plt.plot(history.history['accuracy'], 'ro-', markersize = 5)\n",
        "plt.plot(history.history['val_accuracy'], 'bo-',markersize = 5)\n",
        "plt.legend(('Training', 'Testing'))\n",
        "plt.xlabel('Epoch')\n",
        "plt.ylabel('Accuracy')"
      ],
      "metadata": {
        "id": "YUqdfHGZikrW",
        "colab": {
          "base_uri": "https://localhost:8080/",
          "height": 467
        },
        "outputId": "8f8df183-333e-46b4-d238-fd578e3de6c5"
      },
      "execution_count": 337,
      "outputs": [
        {
          "output_type": "execute_result",
          "data": {
            "text/plain": [
              "Text(0, 0.5, 'Accuracy')"
            ]
          },
          "metadata": {},
          "execution_count": 337
        },
        {
          "output_type": "display_data",
          "data": {
            "text/plain": [
              "<Figure size 640x480 with 1 Axes>"
            ],
            "image/png": "[encoded data removed]"
          },
          "metadata": {}
        }
      ]
    },
    {
      "cell_type": "markdown",
      "source": [
        "<font color = 'Red'> **Remarks:** <br>\n",
        "\n",
        "Comparing this to the previous graph before adjusting the paramters, it can be seen visually that it is better than the previous model.\n",
        ""
      ],
      "metadata": {
        "id": "6aK81S91_zQ7"
      }
    },
    {
      "cell_type": "markdown",
      "source": [
        "## <font color = 'Blue'> **Final Remarks and Conclusions:** <br><font>\n",
        "\n",
        "The activity aimed to do create and evaluate a multi perceptron model. In the activity, I was able to create my own multi perceptron model using a data set about dry beans from UC Irvine Machine Learning Repository. The evaluation are also done in the 2 seperate models that was created.\n",
        "\n",
        "After conducting these I was able to conclude the following:\n",
        "\n",
        "- Preprocessing is very important in multi perceptron model as it allowed me to have a higher accuracy score especially the standardizing the data. Without this, my accuracy would be lower than 40%.\n",
        "\n",
        "- In order to improve the performance of my model, the balancing of data should be done differently as it a lot of features was lost when I undersampled especially to class with more than 3000 instances.\n",
        "\n",
        "- Outliers were not removed in the pre processing as when I tried to do so, a whole class was removed (bombay)\n",
        "\n",
        "- The testing of best parameters on creating the MLP is hard as it needs to be tested repeatedly.\n",
        "\n",
        "\n",
        "\n",
        "\n",
        "<br>"
      ],
      "metadata": {
        "id": "1wwCi14XAJLr"
      }
    }
  ]
}
